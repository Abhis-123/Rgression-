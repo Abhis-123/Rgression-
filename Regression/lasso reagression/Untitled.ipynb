{
 "cells": [
  {
   "cell_type": "code",
   "execution_count": 1,
   "metadata": {},
   "outputs": [],
   "source": [
    "dtype_dict = {'bathrooms':float, 'waterfront':int, 'sqft_above':int, 'sqft_living15':float, 'grade':int, 'yr_renovated':int, 'price':float, 'bedrooms':float, 'zipcode':str, 'long':float, 'sqft_lot15':float, 'sqft_living':float, 'floors':float, 'condition':int, 'lat':float, 'date':str, 'sqft_basement':int, 'yr_built':int, 'id':str, 'sqft_lot':int, 'view':int}"
   ]
  },
  {
   "cell_type": "markdown",
   "metadata": {},
   "source": [
    "<h1>Feature Selection and LASSO Regression</h1>\n",
    "In this lession, we will use LASSO to select features, building on a pre-implemented solver for LASSO.\n",
    "\n",
    "Learning objectives:\n",
    "\n",
    "Run LASSO with different L1 penalties.\n",
    "Choose best L1 penalty using a validation set.\n",
    "Choose best L1 penalty using a validation set, with additional constraint on the size of subset.\n",
    "In addition, we also will implement your own LASSO solver using coordinate descent.\n",
    "\n",
    "We will continue to use the House data from previous notebooks."
   ]
  },
  {
   "cell_type": "code",
   "execution_count": 48,
   "metadata": {},
   "outputs": [
    {
     "data": {
      "text/html": [
       "<div>\n",
       "<style scoped>\n",
       "    .dataframe tbody tr th:only-of-type {\n",
       "        vertical-align: middle;\n",
       "    }\n",
       "\n",
       "    .dataframe tbody tr th {\n",
       "        vertical-align: top;\n",
       "    }\n",
       "\n",
       "    .dataframe thead th {\n",
       "        text-align: right;\n",
       "    }\n",
       "</style>\n",
       "<table border=\"1\" class=\"dataframe\">\n",
       "  <thead>\n",
       "    <tr style=\"text-align: right;\">\n",
       "      <th></th>\n",
       "      <th>id</th>\n",
       "      <th>date</th>\n",
       "      <th>price</th>\n",
       "      <th>bedrooms</th>\n",
       "      <th>bathrooms</th>\n",
       "      <th>sqft_living</th>\n",
       "      <th>sqft_lot</th>\n",
       "      <th>floors</th>\n",
       "      <th>waterfront</th>\n",
       "      <th>view</th>\n",
       "      <th>...</th>\n",
       "      <th>grade</th>\n",
       "      <th>sqft_above</th>\n",
       "      <th>sqft_basement</th>\n",
       "      <th>yr_built</th>\n",
       "      <th>yr_renovated</th>\n",
       "      <th>zipcode</th>\n",
       "      <th>lat</th>\n",
       "      <th>long</th>\n",
       "      <th>sqft_living15</th>\n",
       "      <th>sqft_lot15</th>\n",
       "    </tr>\n",
       "  </thead>\n",
       "  <tbody>\n",
       "    <tr>\n",
       "      <th>0</th>\n",
       "      <td>7129300520</td>\n",
       "      <td>20141013T000000</td>\n",
       "      <td>221900.0</td>\n",
       "      <td>3.0</td>\n",
       "      <td>1.00</td>\n",
       "      <td>1180.0</td>\n",
       "      <td>5650</td>\n",
       "      <td>1.0</td>\n",
       "      <td>0</td>\n",
       "      <td>0</td>\n",
       "      <td>...</td>\n",
       "      <td>7</td>\n",
       "      <td>1180</td>\n",
       "      <td>0</td>\n",
       "      <td>1955</td>\n",
       "      <td>0</td>\n",
       "      <td>98178</td>\n",
       "      <td>47.5112</td>\n",
       "      <td>-122.257</td>\n",
       "      <td>1340.0</td>\n",
       "      <td>5650.0</td>\n",
       "    </tr>\n",
       "    <tr>\n",
       "      <th>1</th>\n",
       "      <td>6414100192</td>\n",
       "      <td>20141209T000000</td>\n",
       "      <td>538000.0</td>\n",
       "      <td>3.0</td>\n",
       "      <td>2.25</td>\n",
       "      <td>2570.0</td>\n",
       "      <td>7242</td>\n",
       "      <td>2.0</td>\n",
       "      <td>0</td>\n",
       "      <td>0</td>\n",
       "      <td>...</td>\n",
       "      <td>7</td>\n",
       "      <td>2170</td>\n",
       "      <td>400</td>\n",
       "      <td>1951</td>\n",
       "      <td>1991</td>\n",
       "      <td>98125</td>\n",
       "      <td>47.7210</td>\n",
       "      <td>-122.319</td>\n",
       "      <td>1690.0</td>\n",
       "      <td>7639.0</td>\n",
       "    </tr>\n",
       "    <tr>\n",
       "      <th>2</th>\n",
       "      <td>5631500400</td>\n",
       "      <td>20150225T000000</td>\n",
       "      <td>180000.0</td>\n",
       "      <td>2.0</td>\n",
       "      <td>1.00</td>\n",
       "      <td>770.0</td>\n",
       "      <td>10000</td>\n",
       "      <td>1.0</td>\n",
       "      <td>0</td>\n",
       "      <td>0</td>\n",
       "      <td>...</td>\n",
       "      <td>6</td>\n",
       "      <td>770</td>\n",
       "      <td>0</td>\n",
       "      <td>1933</td>\n",
       "      <td>0</td>\n",
       "      <td>98028</td>\n",
       "      <td>47.7379</td>\n",
       "      <td>-122.233</td>\n",
       "      <td>2720.0</td>\n",
       "      <td>8062.0</td>\n",
       "    </tr>\n",
       "    <tr>\n",
       "      <th>3</th>\n",
       "      <td>2487200875</td>\n",
       "      <td>20141209T000000</td>\n",
       "      <td>604000.0</td>\n",
       "      <td>4.0</td>\n",
       "      <td>3.00</td>\n",
       "      <td>1960.0</td>\n",
       "      <td>5000</td>\n",
       "      <td>1.0</td>\n",
       "      <td>0</td>\n",
       "      <td>0</td>\n",
       "      <td>...</td>\n",
       "      <td>7</td>\n",
       "      <td>1050</td>\n",
       "      <td>910</td>\n",
       "      <td>1965</td>\n",
       "      <td>0</td>\n",
       "      <td>98136</td>\n",
       "      <td>47.5208</td>\n",
       "      <td>-122.393</td>\n",
       "      <td>1360.0</td>\n",
       "      <td>5000.0</td>\n",
       "    </tr>\n",
       "    <tr>\n",
       "      <th>4</th>\n",
       "      <td>1954400510</td>\n",
       "      <td>20150218T000000</td>\n",
       "      <td>510000.0</td>\n",
       "      <td>3.0</td>\n",
       "      <td>2.00</td>\n",
       "      <td>1680.0</td>\n",
       "      <td>8080</td>\n",
       "      <td>1.0</td>\n",
       "      <td>0</td>\n",
       "      <td>0</td>\n",
       "      <td>...</td>\n",
       "      <td>8</td>\n",
       "      <td>1680</td>\n",
       "      <td>0</td>\n",
       "      <td>1987</td>\n",
       "      <td>0</td>\n",
       "      <td>98074</td>\n",
       "      <td>47.6168</td>\n",
       "      <td>-122.045</td>\n",
       "      <td>1800.0</td>\n",
       "      <td>7503.0</td>\n",
       "    </tr>\n",
       "  </tbody>\n",
       "</table>\n",
       "<p>5 rows × 21 columns</p>\n",
       "</div>"
      ],
      "text/plain": [
       "           id             date     price  bedrooms  bathrooms  sqft_living  \\\n",
       "0  7129300520  20141013T000000  221900.0       3.0       1.00       1180.0   \n",
       "1  6414100192  20141209T000000  538000.0       3.0       2.25       2570.0   \n",
       "2  5631500400  20150225T000000  180000.0       2.0       1.00        770.0   \n",
       "3  2487200875  20141209T000000  604000.0       4.0       3.00       1960.0   \n",
       "4  1954400510  20150218T000000  510000.0       3.0       2.00       1680.0   \n",
       "\n",
       "   sqft_lot  floors  waterfront  view  ...  grade  sqft_above  sqft_basement  \\\n",
       "0      5650     1.0           0     0  ...      7        1180              0   \n",
       "1      7242     2.0           0     0  ...      7        2170            400   \n",
       "2     10000     1.0           0     0  ...      6         770              0   \n",
       "3      5000     1.0           0     0  ...      7        1050            910   \n",
       "4      8080     1.0           0     0  ...      8        1680              0   \n",
       "\n",
       "   yr_built  yr_renovated  zipcode      lat     long  sqft_living15  \\\n",
       "0      1955             0    98178  47.5112 -122.257         1340.0   \n",
       "1      1951          1991    98125  47.7210 -122.319         1690.0   \n",
       "2      1933             0    98028  47.7379 -122.233         2720.0   \n",
       "3      1965             0    98136  47.5208 -122.393         1360.0   \n",
       "4      1987             0    98074  47.6168 -122.045         1800.0   \n",
       "\n",
       "   sqft_lot15  \n",
       "0      5650.0  \n",
       "1      7639.0  \n",
       "2      8062.0  \n",
       "3      5000.0  \n",
       "4      7503.0  \n",
       "\n",
       "[5 rows x 21 columns]"
      ]
     },
     "execution_count": 48,
     "metadata": {},
     "output_type": "execute_result"
    }
   ],
   "source": [
    "import pandas as pd\n",
    "\n",
    "dtype_dict = {'bathrooms':float, 'waterfront':int, 'sqft_above':int, 'sqft_living15':float, 'grade':int, 'yr_renovated':int, 'price':float, 'bedrooms':float, 'zipcode':str, 'long':float, 'sqft_lot15':float, 'sqft_living':float, 'floors':float, 'condition':int, 'lat':float, 'date':str, 'sqft_basement':int, 'yr_built':int, 'id':str, 'sqft_lot':int, 'view':int}\n",
    "\n",
    "sales = pd.read_csv('kc_house_data.csv', dtype=dtype_dict)\n",
    "sales.head()"
   ]
  },
  {
   "cell_type": "code",
   "execution_count": 49,
   "metadata": {},
   "outputs": [],
   "source": [
    "from math import log, sqrt\n",
    "sales['sqft_living_sqrt'] = sales['sqft_living'].apply(sqrt)\n",
    "sales['sqft_lot_sqrt'] = sales['sqft_lot'].apply(sqrt)\n",
    "sales['bedrooms_square'] = sales['bedrooms']*sales['bedrooms']\n",
    "sales['floors_square'] = sales['floors']*sales['floors']"
   ]
  },
  {
   "cell_type": "markdown",
   "metadata": {},
   "source": [
    "<p>Squaring bedrooms will increase the separation between not many bedrooms (e.g. 1) and lots of bedrooms (e.g. 4) since 1^2 = 1 but 4^2 = 16. Consequently this variable will mostly affect houses with many bedrooms.</p>\n",
    "    \n",
    "<p>On the other hand, taking square root of sqft_living will decrease the separation between big house and small house. The owner may not be exactly twice as happy for getting a house that is twice as big.</p>"
   ]
  },
  {
   "cell_type": "markdown",
   "metadata": {},
   "source": [
    "Using the entire house dataset, learn regression weights using an L1 penalty of 5e2. Make sure to add \"normalize=True\" when creating the Lasso object. Refer to the following code snippet for the list of features"
   ]
  },
  {
   "cell_type": "code",
   "execution_count": 5,
   "metadata": {},
   "outputs": [
    {
     "data": {
      "text/plain": [
       "Lasso(alpha=500.0, normalize=True)"
      ]
     },
     "execution_count": 5,
     "metadata": {},
     "output_type": "execute_result"
    }
   ],
   "source": [
    "from sklearn import linear_model  # using scikit-learn\n",
    "\n",
    "all_features = ['bedrooms', 'bedrooms_square',\n",
    "            'bathrooms',\n",
    "            'sqft_living', 'sqft_living_sqrt',\n",
    "            'sqft_lot', 'sqft_lot_sqrt',\n",
    "            'floors', 'floors_square',\n",
    "            'waterfront', 'view', 'condition', 'grade',\n",
    "            'sqft_above',\n",
    "            'sqft_basement',\n",
    "            'yr_built', 'yr_renovated']\n",
    "\n",
    "model_all = linear_model.Lasso(alpha=5e2, normalize=True) # set parameters\n",
    "model_all.fit(sales[all_features], sales['price']) # learn weights"
   ]
  },
  {
   "cell_type": "code",
   "execution_count": 13,
   "metadata": {},
   "outputs": [
    {
     "name": "stdout",
     "output_type": "stream",
     "text": [
      "bedrooms : 0.0\n",
      "bedrooms_square : 0.0\n",
      "bathrooms : 0.0\n",
      "sqft_living : 134.43931395541438\n",
      "sqft_living_sqrt : 0.0\n",
      "sqft_lot : 0.0\n",
      "sqft_lot_sqrt : 0.0\n",
      "floors : 0.0\n",
      "floors_square : 0.0\n",
      "waterfront : 0.0\n",
      "view : 24750.004585609488\n",
      "condition : 0.0\n",
      "grade : 61749.10309070811\n",
      "sqft_above : 0.0\n",
      "sqft_basement : 0.0\n",
      "yr_built : -0.0\n",
      "yr_renovated : 0.0\n"
     ]
    }
   ],
   "source": [
    "for i in range(0,len(model_all.coef_)):\n",
    "    print(all_features[i],\":\",model_all.coef_[i])"
   ]
  },
  {
   "cell_type": "code",
   "execution_count": 6,
   "metadata": {},
   "outputs": [],
   "source": [
    "testing = pd.read_csv('wk3_kc_house_test_data.csv', dtype=dtype_dict)\n",
    "training = pd.read_csv('wk3_kc_house_train_data.csv', dtype=dtype_dict)\n",
    "validation = pd.read_csv('wk3_kc_house_valid_data.csv', dtype=dtype_dict)"
   ]
  },
  {
   "cell_type": "code",
   "execution_count": 7,
   "metadata": {},
   "outputs": [],
   "source": [
    "testing['sqft_living_sqrt'] = testing['sqft_living'].apply(sqrt)\n",
    "testing['sqft_lot_sqrt'] = testing['sqft_lot'].apply(sqrt)\n",
    "testing['bedrooms_square'] = testing['bedrooms']*testing['bedrooms']\n",
    "testing['floors_square'] = testing['floors']*testing['floors']\n",
    "\n",
    "training['sqft_living_sqrt'] = training['sqft_living'].apply(sqrt)\n",
    "training['sqft_lot_sqrt'] = training['sqft_lot'].apply(sqrt)\n",
    "training['bedrooms_square'] = training['bedrooms']*training['bedrooms']\n",
    "training['floors_square'] = training['floors']*training['floors']\n",
    "\n",
    "validation['sqft_living_sqrt'] = validation['sqft_living'].apply(sqrt)\n",
    "validation['sqft_lot_sqrt'] = validation['sqft_lot'].apply(sqrt)\n",
    "validation['bedrooms_square'] = validation['bedrooms']*validation['bedrooms']\n",
    "validation['floors_square'] = validation['floors']*validation['floors']"
   ]
  },
  {
   "cell_type": "code",
   "execution_count": 46,
   "metadata": {},
   "outputs": [
    {
     "name": "stdout",
     "output_type": "stream",
     "text": [
      "10.0 :  398213327300134.94 15 \n",
      "\n",
      "31.622776601683793 :  399041900253346.8 15 \n",
      "\n",
      "100.0 :  429791604072559.6 11 \n",
      "\n",
      "316.22776601683796 :  463739831045121.06 6 \n",
      "\n",
      "1000.0 :  645898733633800.8 4 \n",
      "\n",
      "3162.2776601683795 :  1222506859427163.0 1 \n",
      "\n",
      "10000.0 :  1222506859427163.0 1 \n",
      "\n",
      "31622.776601683792 :  1222506859427163.0 1 \n",
      "\n",
      "100000.0 :  1222506859427163.0 1 \n",
      "\n",
      "316227.7660168379 :  1222506859427163.0 1 \n",
      "\n",
      "1000000.0 :  1222506859427163.0 1 \n",
      "\n",
      "3162277.6601683795 :  1222506859427163.0 1 \n",
      "\n",
      "10000000.0 :  1222506859427163.0 1 \n",
      "\n"
     ]
    }
   ],
   "source": [
    "import numpy as np\n",
    "l1_penalty=np.logspace(1, 7, num=13)\n",
    "r=[]\n",
    "for i in l1_penalty:\n",
    "    model=linear_model.Lasso(alpha=i, normalize=True)\n",
    "    model.fit(training[all_features],training[\"price\"])\n",
    "    validation['predict']=model.predict(validation[all_features])\n",
    "    validation['rss']=(validation['predict']-validation['price'])**2\n",
    "    RSS=validation['rss'].sum()\n",
    "    r.append(RSS/10000000000000)\n",
    "    print(i,': ',RSS,np.count_nonzero(model.coef_) + np.count_nonzero(model.intercept_),\"\\n\")\n",
    "#model1 = linear_model.Lasso(alpha=l1_penalty, normalize=True)"
   ]
  },
  {
   "cell_type": "code",
   "execution_count": 51,
   "metadata": {},
   "outputs": [
    {
     "name": "stdout",
     "output_type": "stream",
     "text": [
      "Alpha 10.0\n",
      "The number of nonzero coefficients: 15\n",
      "RSS for validation data: 41329873098.093925\n",
      "RSS for testing data: 44414705707.12621\n",
      "-------------------------------------\n",
      "Alpha 31.622776601683793\n",
      "The number of nonzero coefficients: 15\n",
      "RSS for validation data: 41415869253.0718\n",
      "RSS for testing data: 45005110231.37095\n",
      "-------------------------------------\n",
      "Alpha 100.0\n",
      "The number of nonzero coefficients: 11\n",
      "RSS for validation data: 44607327874.68185\n",
      "RSS for testing data: 48272769559.57964\n",
      "-------------------------------------\n",
      "Alpha 316.22776601683796\n",
      "The number of nonzero coefficients: 6\n",
      "RSS for validation data: 48130755687.09093\n",
      "RSS for testing data: 51517241147.93143\n",
      "-------------------------------------\n",
      "Alpha 1000.0\n",
      "The number of nonzero coefficients: 4\n",
      "RSS for validation data: 67036713402.57403\n",
      "RSS for testing data: 68423119736.932465\n",
      "-------------------------------------\n",
      "Alpha 3162.2776601683795\n",
      "The number of nonzero coefficients: 1\n",
      "RSS for validation data: 126881874356.73721\n",
      "RSS for testing data: 128425315836.65945\n",
      "-------------------------------------\n",
      "Alpha 10000.0\n",
      "The number of nonzero coefficients: 1\n",
      "RSS for validation data: 126881874356.73721\n",
      "RSS for testing data: 128425315836.65945\n",
      "-------------------------------------\n",
      "Alpha 31622.776601683792\n",
      "The number of nonzero coefficients: 1\n",
      "RSS for validation data: 126881874356.73721\n",
      "RSS for testing data: 128425315836.65945\n",
      "-------------------------------------\n",
      "Alpha 100000.0\n",
      "The number of nonzero coefficients: 1\n",
      "RSS for validation data: 126881874356.73721\n",
      "RSS for testing data: 128425315836.65945\n",
      "-------------------------------------\n",
      "Alpha 316227.7660168379\n",
      "The number of nonzero coefficients: 1\n",
      "RSS for validation data: 126881874356.73721\n",
      "RSS for testing data: 128425315836.65945\n",
      "-------------------------------------\n",
      "Alpha 1000000.0\n",
      "The number of nonzero coefficients: 1\n",
      "RSS for validation data: 126881874356.73721\n",
      "RSS for testing data: 128425315836.65945\n",
      "-------------------------------------\n",
      "Alpha 3162277.6601683795\n",
      "The number of nonzero coefficients: 1\n",
      "RSS for validation data: 126881874356.73721\n",
      "RSS for testing data: 128425315836.65945\n",
      "-------------------------------------\n",
      "Alpha 10000000.0\n",
      "The number of nonzero coefficients: 1\n",
      "RSS for validation data: 126881874356.73721\n",
      "RSS for testing data: 128425315836.65945\n",
      "-------------------------------------\n"
     ]
    }
   ],
   "source": [
    "from sklearn.metrics import mean_squared_error\n",
    "for alpha in (l1_penalty):\n",
    "    print('Alpha', alpha) \n",
    "    model_lasso2 = linear_model.Lasso(alpha, normalize=True)\n",
    "    model2 = model_lasso2.fit(training[all_features], training['price'])\n",
    "    print('The number of nonzero coefficients:',np.count_nonzero(model2.coef_) + np.count_nonzero(model2.intercept_))\n",
    "    rss_val = mean_squared_error(validation['price'], model2.predict(validation[all_features]))\n",
    "    print('RSS for validation data:', rss_val)\n",
    "    rss_test = mean_squared_error(testing['price'], model2.predict(testing[all_features]))\n",
    "    print('RSS for testing data:', rss_test)\n",
    "    print('-------------------------------------')"
   ]
  },
  {
   "cell_type": "code",
   "execution_count": 27,
   "metadata": {},
   "outputs": [
    {
     "data": {
      "text/plain": [
       "[39.821332730013495,\n",
       " 39.90419002533468,\n",
       " 42.97916040725596,\n",
       " 46.37398310451211,\n",
       " 64.58987336338008,\n",
       " 122.2506859427163,\n",
       " 122.2506859427163,\n",
       " 122.2506859427163,\n",
       " 122.2506859427163,\n",
       " 122.2506859427163,\n",
       " 122.2506859427163,\n",
       " 122.2506859427163,\n",
       " 122.2506859427163]"
      ]
     },
     "execution_count": 27,
     "metadata": {},
     "output_type": "execute_result"
    }
   ],
   "source": [
    "r"
   ]
  },
  {
   "cell_type": "code",
   "execution_count": 28,
   "metadata": {},
   "outputs": [],
   "source": [
    "model = linear_model.Lasso(alpha=10, normalize=True)"
   ]
  },
  {
   "cell_type": "code",
   "execution_count": 31,
   "metadata": {},
   "outputs": [
    {
     "name": "stdout",
     "output_type": "stream",
     "text": [
      "10 :  98467402552698.81 \n",
      "\n"
     ]
    }
   ],
   "source": [
    "model.fit(training[all_features],training[\"price\"])\n",
    "testing['predict']=model.predict(testing[all_features])\n",
    "testing['rss']=(testing['predict']-testing['price'])**2\n",
    "RSS=testing['rss'].sum()\n",
    "print('10',': ',RSS,\"\\n\")"
   ]
  },
  {
   "cell_type": "code",
   "execution_count": 32,
   "metadata": {},
   "outputs": [
    {
     "data": {
      "text/plain": [
       "15"
      ]
     },
     "execution_count": 32,
     "metadata": {},
     "output_type": "execute_result"
    }
   ],
   "source": [
    "np.count_nonzero(model.coef_) + np.count_nonzero(model.intercept_)"
   ]
  },
  {
   "cell_type": "code",
   "execution_count": 41,
   "metadata": {},
   "outputs": [
    {
     "name": "stdout",
     "output_type": "stream",
     "text": [
      "10.0 :  398213327300134.94 15 \n",
      "\n",
      "14.38449888287663 :  396831833943813.56 15 \n",
      "\n",
      "20.6913808111479 :  396210901853184.25 15 \n",
      "\n",
      "29.76351441631318 :  398215534574785.9 15 \n",
      "\n",
      "42.81332398719393 :  406877258520204.56 13 \n",
      "\n",
      "61.58482110660264 :  424647490490609.4 12 \n",
      "\n",
      "88.58667904100822 :  427906308934484.9 11 \n",
      "\n",
      "127.42749857031335 :  435374677102680.6 10 \n",
      "\n",
      "183.29807108324357 :  443107216261395.5 7 \n",
      "\n",
      "263.6650898730358 :  454176669662635.25 6 \n",
      "\n",
      "379.26901907322497 :  478132980831627.0 6 \n",
      "\n",
      "545.5594781168514 :  531397181866766.4 6 \n",
      "\n",
      "784.7599703514607 :  594043306274207.4 5 \n",
      "\n",
      "1128.8378916846884 :  674059169985784.2 3 \n",
      "\n",
      "1623.776739188721 :  802609410822920.6 3 \n",
      "\n",
      "2335.7214690901214 :  1061255252873615.4 2 \n",
      "\n",
      "3359.818286283781 :  1222506859427163.0 1 \n",
      "\n",
      "4832.930238571752 :  1222506859427163.0 1 \n",
      "\n",
      "6951.927961775606 :  1222506859427163.0 1 \n",
      "\n",
      "10000.0 :  1222506859427163.0 1 \n",
      "\n"
     ]
    },
    {
     "data": {
      "text/plain": [
       "[39.821332730013495,\n",
       " 39.68318339438136,\n",
       " 39.62109018531842,\n",
       " 39.821553457478586,\n",
       " 40.687725852020456,\n",
       " 42.464749049060934,\n",
       " 42.79063089344849,\n",
       " 43.53746771026806,\n",
       " 44.31072162613955,\n",
       " 45.417666966263525,\n",
       " 47.8132980831627,\n",
       " 53.13971818667664,\n",
       " 59.40433062742074,\n",
       " 67.40591699857842,\n",
       " 80.26094108229206,\n",
       " 106.12552528736154,\n",
       " 122.2506859427163,\n",
       " 122.2506859427163,\n",
       " 122.2506859427163,\n",
       " 122.2506859427163]"
      ]
     },
     "execution_count": 41,
     "metadata": {},
     "output_type": "execute_result"
    }
   ],
   "source": [
    "l1_penalty = np.logspace(1, 4, num=20)\n",
    "r=[]\n",
    "for i in l1_penalty:\n",
    "    model=linear_model.Lasso(alpha=i, normalize=True)\n",
    "    model.fit(training[all_features],training[\"price\"])\n",
    "    validation['predict']=model.predict(validation[all_features])\n",
    "    validation['rss']=(validation['predict']-validation['price'])**2\n",
    "    RSS=validation['rss'].sum()\n",
    "    r.append(RSS/10000000000000)\n",
    "    print(i,': ',RSS,(np.count_nonzero(model.coef_) + np.count_nonzero(model.intercept_)),\"\\n\")\n",
    "r"
   ]
  },
  {
   "cell_type": "code",
   "execution_count": 47,
   "metadata": {},
   "outputs": [
    {
     "data": {
      "text/plain": [
       "array([-0.00000000e+00, -0.00000000e+00,  4.85135071e+03,  1.65209585e+02,\n",
       "        0.00000000e+00, -0.00000000e+00, -0.00000000e+00,  0.00000000e+00,\n",
       "        0.00000000e+00,  4.84787240e+05,  4.14999096e+04,  0.00000000e+00,\n",
       "        1.13407732e+05,  0.00000000e+00,  0.00000000e+00, -2.41392565e+03,\n",
       "        0.00000000e+00])"
      ]
     },
     "execution_count": 47,
     "metadata": {},
     "output_type": "execute_result"
    }
   ],
   "source": [
    "\n",
    "model=linear_model.Lasso(alpha=183.29, normalize=True)\n",
    "model.fit(training[all_features],training[\"price\"])\n",
    "model.coef_"
   ]
  },
  {
   "cell_type": "code",
   "execution_count": 57,
   "metadata": {},
   "outputs": [
    {
     "name": "stdout",
     "output_type": "stream",
     "text": [
      "148.84 :  45578184326.134964 8 \n",
      "\n",
      "152.13052631578947 :  45624327735.75937 8 \n",
      "\n",
      "155.42105263157896 :  45663649617.60571 7 \n",
      "\n",
      "158.71157894736842 :  45698098730.77428 7 \n",
      "\n",
      "162.0021052631579 :  45733491479.019295 7 \n",
      "\n",
      "165.29263157894738 :  45770002474.46598 7 \n",
      "\n",
      "168.58315789473684 :  45807615687.71663 7 \n",
      "\n",
      "171.87368421052633 :  45846332695.62014 7 \n",
      "\n",
      "175.1642105263158 :  45886154318.05983 7 \n",
      "\n",
      "178.45473684210526 :  45927079345.947334 7 \n",
      "\n",
      "181.74526315789475 :  45969112532.16422 7 \n",
      "\n",
      "185.03578947368422 :  46012251473.821465 7 \n",
      "\n",
      "188.3263157894737 :  46056495164.3218 7 \n",
      "\n",
      "191.61684210526317 :  46102072551.73863 7 \n",
      "\n",
      "194.90736842105264 :  46148509700.05384 7 \n",
      "\n",
      "198.1978947368421 :  46196045941.434944 7 \n",
      "\n",
      "201.4884210526316 :  46244667955.207565 7 \n",
      "\n",
      "204.7789473684211 :  46294576563.46026 7 \n",
      "\n",
      "208.06947368421055 :  46338674274.14837 6 \n",
      "\n",
      "211.36 :  46378826918.406166 6 \n",
      "\n"
     ]
    },
    {
     "data": {
      "text/plain": [
       "[0.004557818432613496,\n",
       " 0.004562432773575937,\n",
       " 0.004566364961760571,\n",
       " 0.004569809873077427,\n",
       " 0.004573349147901929,\n",
       " 0.004577000247446598,\n",
       " 0.004580761568771663,\n",
       " 0.004584633269562014,\n",
       " 0.004588615431805983,\n",
       " 0.004592707934594734,\n",
       " 0.004596911253216422,\n",
       " 0.004601225147382147,\n",
       " 0.00460564951643218,\n",
       " 0.004610207255173863,\n",
       " 0.004614850970005384,\n",
       " 0.004619604594143494,\n",
       " 0.004624466795520757,\n",
       " 0.004629457656346026,\n",
       " 0.004633867427414837,\n",
       " 0.004637882691840616]"
      ]
     },
     "execution_count": 57,
     "metadata": {},
     "output_type": "execute_result"
    }
   ],
   "source": [
    "l1_penalty = np.linspace(148.84, 211.36, num=20)\n",
    "r=[]\n",
    "for i in l1_penalty:\n",
    "    model=linear_model.Lasso(alpha=i, normalize=True)\n",
    "    model.fit(training[all_features],training[\"price\"])\n",
    "    validation['predict']=model.predict(validation[all_features])\n",
    "    validation['rss']=(validation['predict']-validation['price'])**2\n",
    "    RSS=mean_squared_error(validation['price'], model.predict(validation[all_features]))\n",
    "    r.append(RSS/10000000000000)\n",
    "    print(i,': ',RSS,(np.count_nonzero(model.coef_) + np.count_nonzero(model.intercept_)),\"\\n\")\n",
    "r"
   ]
  },
  {
   "cell_type": "code",
   "execution_count": 58,
   "metadata": {},
   "outputs": [
    {
     "data": {
      "text/plain": [
       "{'bedrooms': -0.0,\n",
       " 'bedrooms_square': -0.0,\n",
       " 'bathrooms': 10654.900014638464,\n",
       " 'sqft_living': 163.36637008940252,\n",
       " 'sqft_living_sqrt': 0.0,\n",
       " 'sqft_lot': -0.0,\n",
       " 'sqft_lot_sqrt': -0.0,\n",
       " 'floors': 0.0,\n",
       " 'floors_square': 0.0,\n",
       " 'waterfront': 506618.3006072249,\n",
       " 'view': 41963.60323651809,\n",
       " 'condition': 0.0,\n",
       " 'grade': 116275.41199983549,\n",
       " 'sqft_above': 0.0,\n",
       " 'sqft_basement': 0.0,\n",
       " 'yr_built': -2613.7578141017707,\n",
       " 'yr_renovated': 0.0}"
      ]
     },
     "execution_count": 58,
     "metadata": {},
     "output_type": "execute_result"
    }
   ],
   "source": [
    "alpha_for_min_rss=155.9\n",
    "model_lasso5 = linear_model.Lasso(alpha= alpha_for_min_rss, normalize = True)\n",
    "model5 = model_lasso5.fit(training[all_features], training['price'])\n",
    "model5_coef = {}\n",
    "for feat, coef in zip(all_features, model5.coef_):\n",
    "    model5_coef[feat] = coef\n",
    "model5_coef"
   ]
  },
  {
   "cell_type": "markdown",
   "metadata": {},
   "source": [
    "<h1>Implementing LASSO using coordinate descent</h1>"
   ]
  },
  {
   "cell_type": "code",
   "execution_count": 128,
   "metadata": {},
   "outputs": [],
   "source": [
    "dtype_dict = {'bathrooms':float, 'waterfront':int, 'sqft_above':int, 'sqft_living15':float, 'grade':int, 'yr_renovated':int, 'price':float, 'bedrooms':float, 'zipcode':str, 'long':float, 'sqft_lot15':float, 'sqft_living':float, 'floors':float, 'condition':int, 'lat':float, 'date':str, 'sqft_basement':int, 'yr_built':int, 'id':str, 'sqft_lot':int, 'view':int}"
   ]
  },
  {
   "cell_type": "code",
   "execution_count": 147,
   "metadata": {},
   "outputs": [],
   "source": [
    "def get_numpy_data(data_sframe, features, output):\n",
    "    data_sframe['constant'] = int(1) # add a constant column to an SFrame\n",
    "    # prepend variable 'constant' to the features list\n",
    "    features = ['constant'] + features\n",
    "    # select the columns of data_SFrame given by the ‘features’ list into the SFrame ‘features_sframe’\n",
    "    features_sframe=data_sframe[features]\n",
    "    # this will convert the features_sframe into a numpy matrix:\n",
    "    features_matrix = np.array(features_sframe)\n",
    "    # assign the column of data_sframe associated with the target to the variable ‘output_sarray’\n",
    "    output_sarray=data_sframe[output]\n",
    "    # this will convert the SArray into a numpy array:\n",
    "    output_array = np.array(output_sarray)\n",
    "    return(features_matrix, output_array)\n",
    "\n",
    "def predict_output(feature_matrix, weights):\n",
    "    x_arr =np.dot(feature_matrix,weights)\n",
    "    predictions = x_arr.sum(axis = 1)\n",
    "    return predictions"
   ]
  },
  {
   "cell_type": "markdown",
   "metadata": {},
   "source": [
    "<h5>In the house dataset, features vary wildly in their relative magnitude: sqft_living is very large overall compared to bedrooms, for instance. As a result, weight for sqft_living would be much smaller than weight for bedrooms. This is problematic because \"small\" weights are dropped first as l1_penalty goes up.\n",
    "\n",
    "To give equal considerations for all features, we need to normalize features as discussed in the lectures: we divide each feature by its 2-norm so that the transformed feature has norm 1.\n",
    "\n",
    "Let's see how we can do this normalization easily with Numpy: let us first consider a small matrix</h5>"
   ]
  },
  {
   "cell_type": "code",
   "execution_count": 130,
   "metadata": {},
   "outputs": [],
   "source": [
    "def normalize_features(features_matrix):\n",
    "    norms=np.linalg.norm(features_matrix,axis=0)    \n",
    "    normalized_features = features_matrix / norms\n",
    "    return (normalized_features, norms)"
   ]
  },
  {
   "cell_type": "code",
   "execution_count": 131,
   "metadata": {},
   "outputs": [],
   "source": [
    "feature, price = get_numpy_data(sales, ['sqft_living', 'bedrooms'], 'price')"
   ]
  },
  {
   "cell_type": "code",
   "execution_count": 132,
   "metadata": {},
   "outputs": [],
   "source": [
    "normalized_features, norms = normalize_features(feature)"
   ]
  },
  {
   "cell_type": "markdown",
   "metadata": {},
   "source": [
    "Review of Coordinate Descent\n",
    "7. We seek to obtain a sparse set of weights by minimizing the LASSO cost function\n",
    "\n",
    "\n",
    "SUM[ (prediction - output)^2 ] + lambda*( |w[1]| + ... + |w[k]|)."
   ]
  },
  {
   "cell_type": "markdown",
   "metadata": {},
   "source": [
    "By convention, we do not include w[0] in the L1 penalty term. We never want to push the intercept to zero"
   ]
  },
  {
   "cell_type": "markdown",
   "metadata": {},
   "source": [
    "normalized_features"
   ]
  },
  {
   "cell_type": "markdown",
   "metadata": {},
   "source": [
    "<p>Least square </p>"
   ]
  },
  {
   "cell_type": "code",
   "execution_count": 133,
   "metadata": {},
   "outputs": [
    {
     "name": "stdout",
     "output_type": "stream",
     "text": [
      "79400300.01452291\n",
      "87939470.82325175\n",
      "80966698.66623946\n",
      "[79400300.01452291, 87939470.82325175, 80966698.66623946]\n"
     ]
    }
   ],
   "source": [
    "ro = [0, 0, 0]\n",
    "w = [1,4,1]\n",
    "\n",
    "prediction = predict_output(normalized_features, w)\n",
    "for i in range(normalized_features.shape[1]):\n",
    "    #prediction = predict_output(normalized_features, w)\n",
    "    #partial derivative of Cost w.r.t  w[i]=-2ro+2w[i]\n",
    "    error = price - prediction + normalized_features[:,i]*w[i]\n",
    "    ro[i] = np.dot(normalized_features[:,i],error.transpose())\n",
    "    print(ro[i])\n",
    "print(ro)\n"
   ]
  },
  {
   "cell_type": "code",
   "execution_count": 134,
   "metadata": {},
   "outputs": [
    {
     "data": {
      "text/plain": [
       "3"
      ]
     },
     "execution_count": 134,
     "metadata": {},
     "output_type": "execute_result"
    }
   ],
   "source": [
    "normalized_features.shape[1]"
   ]
  },
  {
   "cell_type": "markdown",
   "metadata": {},
   "source": [
    "<h1>4.2 Single Coordinate Descent Step</h1>\n",
    "Using the formula above, implement coordinate descent that minimizes the cost function over a single feature i. Note that the intercept (weight 0) is not regularized. The function should accept feature matrix, output, current weights, l1 penalty, and index of feature to optimize over. The function should return new weight for feature i."
   ]
  },
  {
   "cell_type": "code",
   "execution_count": 135,
   "metadata": {},
   "outputs": [],
   "source": [
    "def zerolistmaker(n):\n",
    "    listofzeros = [0] * n\n",
    "    return listofzeros\n",
    "def lasso_coordinate_descent_step(i,feature_matrix, output, weights, l1_penalty):\n",
    "    \n",
    "    prediction = predict_output(feature_matrix,weights)\n",
    "    error = output - prediction + feature_matrix[:,i]*weights[i]\n",
    "    ro = np.dot(feature_matrix[:,i],error.transpose())\n",
    "\n",
    "    if i == 0:\n",
    "        weights = ro\n",
    "    elif ro < -l1_penalty/2.:\n",
    "        weights = ro + l1_penalty/2\n",
    "    elif ro > l1_penalty/2.:\n",
    "        weights = ro - l1_penalty/2\n",
    "    else:\n",
    "        weights = 0.\n",
    "    return weights"
   ]
  },
  {
   "cell_type": "code",
   "execution_count": 136,
   "metadata": {},
   "outputs": [
    {
     "name": "stdout",
     "output_type": "stream",
     "text": [
      "0.4255588466910251\n"
     ]
    }
   ],
   "source": [
    "# should print 0.425558846691\n",
    "import math\n",
    "print (lasso_coordinate_descent_step(1, np.array([[3./math.sqrt(13),1./math.sqrt(10)],[2./math.sqrt(13),3./math.sqrt(10)]]), np.array([1., 1.]), np.array([1., 4.]), 0.1))"
   ]
  },
  {
   "cell_type": "markdown",
   "metadata": {},
   "source": [
    "<h1>4.3 Cyclical coordinate descent</h1>\n",
    "Now that we have a function that optimizes the cost function over a single coordinate, let us implement cyclical coordinate descent where we optimize coordinates 0, 1, ..., (d-1) in order and repeat."
   ]
  },
  {
   "cell_type": "code",
   "execution_count": 137,
   "metadata": {},
   "outputs": [
    {
     "name": "stdout",
     "output_type": "stream",
     "text": [
      "[21624997.95951909, 63157247.20788956, 0.0]\n"
     ]
    }
   ],
   "source": [
    "def lasso_cyclical_coordinate_descent(normalized_features, output, initial_weights, l1_penalty, tolerance):\n",
    "    \n",
    "    weights = initial_weights\n",
    "    ini_weights = initial_weights\n",
    "    loop = 0\n",
    "    \n",
    "    weights_change = zerolistmaker(normalized_features.shape[1])\n",
    "    \n",
    "    converged = False\n",
    "\n",
    "    while not converged:      \n",
    "        loop+=1                             \n",
    "        for i in range(len(weights)):\n",
    "            \n",
    "            weights_new = lasso_coordinate_descent_step(i,normalized_features, output, weights, l1_penalty)\n",
    "            weights_change[i] =  np.abs(weights_new - weights[i])\n",
    "            weights[i] = weights_new        \n",
    "        max_change = max(weights_change)        \n",
    "        if max_change < tolerance:\n",
    "            converged = True\n",
    "    return weights\n",
    "\n",
    "\n",
    "feature, price = get_numpy_data(sales, ['sqft_living', 'bedrooms'], 'price')\n",
    "\n",
    "initial_weights = [0., 0., 0.]\n",
    "l1_penalty = 1e7\n",
    "tolerance = 1.0\n",
    "\n",
    "w = lasso_cyclical_coordinate_descent(normalized_features, price, initial_weights, l1_penalty, tolerance)\n",
    "print(w)"
   ]
  },
  {
   "cell_type": "code",
   "execution_count": 138,
   "metadata": {},
   "outputs": [
    {
     "name": "stdout",
     "output_type": "stream",
     "text": [
      "[49656944.881958194, 32514040.41863478, 0.0]\n"
     ]
    }
   ],
   "source": [
    "l1_penalty = 2.0e7\n",
    "tolerance = 1.0\n",
    "w = lasso_cyclical_coordinate_descent(normalized_features, price, initial_weights, l1_penalty, tolerance)\n",
    "print(w)"
   ]
  },
  {
   "cell_type": "code",
   "execution_count": 139,
   "metadata": {},
   "outputs": [
    {
     "data": {
      "text/html": [
       "<div>\n",
       "<style scoped>\n",
       "    .dataframe tbody tr th:only-of-type {\n",
       "        vertical-align: middle;\n",
       "    }\n",
       "\n",
       "    .dataframe tbody tr th {\n",
       "        vertical-align: top;\n",
       "    }\n",
       "\n",
       "    .dataframe thead th {\n",
       "        text-align: right;\n",
       "    }\n",
       "</style>\n",
       "<table border=\"1\" class=\"dataframe\">\n",
       "  <thead>\n",
       "    <tr style=\"text-align: right;\">\n",
       "      <th></th>\n",
       "      <th>id</th>\n",
       "      <th>date</th>\n",
       "      <th>price</th>\n",
       "      <th>bedrooms</th>\n",
       "      <th>bathrooms</th>\n",
       "      <th>sqft_living</th>\n",
       "      <th>sqft_lot</th>\n",
       "      <th>floors</th>\n",
       "      <th>waterfront</th>\n",
       "      <th>view</th>\n",
       "      <th>...</th>\n",
       "      <th>grade</th>\n",
       "      <th>sqft_above</th>\n",
       "      <th>sqft_basement</th>\n",
       "      <th>yr_built</th>\n",
       "      <th>yr_renovated</th>\n",
       "      <th>zipcode</th>\n",
       "      <th>lat</th>\n",
       "      <th>long</th>\n",
       "      <th>sqft_living15</th>\n",
       "      <th>sqft_lot15</th>\n",
       "    </tr>\n",
       "  </thead>\n",
       "  <tbody>\n",
       "    <tr>\n",
       "      <th>0</th>\n",
       "      <td>7129300520</td>\n",
       "      <td>20141013T000000</td>\n",
       "      <td>221900.0</td>\n",
       "      <td>3.0</td>\n",
       "      <td>1.00</td>\n",
       "      <td>1180.0</td>\n",
       "      <td>5650</td>\n",
       "      <td>1.0</td>\n",
       "      <td>0</td>\n",
       "      <td>0</td>\n",
       "      <td>...</td>\n",
       "      <td>7</td>\n",
       "      <td>1180</td>\n",
       "      <td>0</td>\n",
       "      <td>1955</td>\n",
       "      <td>0</td>\n",
       "      <td>98178</td>\n",
       "      <td>47.5112</td>\n",
       "      <td>-122.257</td>\n",
       "      <td>1340.0</td>\n",
       "      <td>5650.0</td>\n",
       "    </tr>\n",
       "    <tr>\n",
       "      <th>1</th>\n",
       "      <td>6414100192</td>\n",
       "      <td>20141209T000000</td>\n",
       "      <td>538000.0</td>\n",
       "      <td>3.0</td>\n",
       "      <td>2.25</td>\n",
       "      <td>2570.0</td>\n",
       "      <td>7242</td>\n",
       "      <td>2.0</td>\n",
       "      <td>0</td>\n",
       "      <td>0</td>\n",
       "      <td>...</td>\n",
       "      <td>7</td>\n",
       "      <td>2170</td>\n",
       "      <td>400</td>\n",
       "      <td>1951</td>\n",
       "      <td>1991</td>\n",
       "      <td>98125</td>\n",
       "      <td>47.7210</td>\n",
       "      <td>-122.319</td>\n",
       "      <td>1690.0</td>\n",
       "      <td>7639.0</td>\n",
       "    </tr>\n",
       "    <tr>\n",
       "      <th>2</th>\n",
       "      <td>5631500400</td>\n",
       "      <td>20150225T000000</td>\n",
       "      <td>180000.0</td>\n",
       "      <td>2.0</td>\n",
       "      <td>1.00</td>\n",
       "      <td>770.0</td>\n",
       "      <td>10000</td>\n",
       "      <td>1.0</td>\n",
       "      <td>0</td>\n",
       "      <td>0</td>\n",
       "      <td>...</td>\n",
       "      <td>6</td>\n",
       "      <td>770</td>\n",
       "      <td>0</td>\n",
       "      <td>1933</td>\n",
       "      <td>0</td>\n",
       "      <td>98028</td>\n",
       "      <td>47.7379</td>\n",
       "      <td>-122.233</td>\n",
       "      <td>2720.0</td>\n",
       "      <td>8062.0</td>\n",
       "    </tr>\n",
       "    <tr>\n",
       "      <th>3</th>\n",
       "      <td>2487200875</td>\n",
       "      <td>20141209T000000</td>\n",
       "      <td>604000.0</td>\n",
       "      <td>4.0</td>\n",
       "      <td>3.00</td>\n",
       "      <td>1960.0</td>\n",
       "      <td>5000</td>\n",
       "      <td>1.0</td>\n",
       "      <td>0</td>\n",
       "      <td>0</td>\n",
       "      <td>...</td>\n",
       "      <td>7</td>\n",
       "      <td>1050</td>\n",
       "      <td>910</td>\n",
       "      <td>1965</td>\n",
       "      <td>0</td>\n",
       "      <td>98136</td>\n",
       "      <td>47.5208</td>\n",
       "      <td>-122.393</td>\n",
       "      <td>1360.0</td>\n",
       "      <td>5000.0</td>\n",
       "    </tr>\n",
       "    <tr>\n",
       "      <th>4</th>\n",
       "      <td>1954400510</td>\n",
       "      <td>20150218T000000</td>\n",
       "      <td>510000.0</td>\n",
       "      <td>3.0</td>\n",
       "      <td>2.00</td>\n",
       "      <td>1680.0</td>\n",
       "      <td>8080</td>\n",
       "      <td>1.0</td>\n",
       "      <td>0</td>\n",
       "      <td>0</td>\n",
       "      <td>...</td>\n",
       "      <td>8</td>\n",
       "      <td>1680</td>\n",
       "      <td>0</td>\n",
       "      <td>1987</td>\n",
       "      <td>0</td>\n",
       "      <td>98074</td>\n",
       "      <td>47.6168</td>\n",
       "      <td>-122.045</td>\n",
       "      <td>1800.0</td>\n",
       "      <td>7503.0</td>\n",
       "    </tr>\n",
       "    <tr>\n",
       "      <th>...</th>\n",
       "      <td>...</td>\n",
       "      <td>...</td>\n",
       "      <td>...</td>\n",
       "      <td>...</td>\n",
       "      <td>...</td>\n",
       "      <td>...</td>\n",
       "      <td>...</td>\n",
       "      <td>...</td>\n",
       "      <td>...</td>\n",
       "      <td>...</td>\n",
       "      <td>...</td>\n",
       "      <td>...</td>\n",
       "      <td>...</td>\n",
       "      <td>...</td>\n",
       "      <td>...</td>\n",
       "      <td>...</td>\n",
       "      <td>...</td>\n",
       "      <td>...</td>\n",
       "      <td>...</td>\n",
       "      <td>...</td>\n",
       "      <td>...</td>\n",
       "    </tr>\n",
       "    <tr>\n",
       "      <th>17379</th>\n",
       "      <td>7936000429</td>\n",
       "      <td>20150326T000000</td>\n",
       "      <td>1007500.0</td>\n",
       "      <td>4.0</td>\n",
       "      <td>3.50</td>\n",
       "      <td>3510.0</td>\n",
       "      <td>7200</td>\n",
       "      <td>2.0</td>\n",
       "      <td>0</td>\n",
       "      <td>0</td>\n",
       "      <td>...</td>\n",
       "      <td>9</td>\n",
       "      <td>2600</td>\n",
       "      <td>910</td>\n",
       "      <td>2009</td>\n",
       "      <td>0</td>\n",
       "      <td>98136</td>\n",
       "      <td>47.5537</td>\n",
       "      <td>-122.398</td>\n",
       "      <td>2050.0</td>\n",
       "      <td>6200.0</td>\n",
       "    </tr>\n",
       "    <tr>\n",
       "      <th>17380</th>\n",
       "      <td>2997800021</td>\n",
       "      <td>20150219T000000</td>\n",
       "      <td>475000.0</td>\n",
       "      <td>3.0</td>\n",
       "      <td>2.50</td>\n",
       "      <td>1310.0</td>\n",
       "      <td>1294</td>\n",
       "      <td>2.0</td>\n",
       "      <td>0</td>\n",
       "      <td>0</td>\n",
       "      <td>...</td>\n",
       "      <td>8</td>\n",
       "      <td>1180</td>\n",
       "      <td>130</td>\n",
       "      <td>2008</td>\n",
       "      <td>0</td>\n",
       "      <td>98116</td>\n",
       "      <td>47.5773</td>\n",
       "      <td>-122.409</td>\n",
       "      <td>1330.0</td>\n",
       "      <td>1265.0</td>\n",
       "    </tr>\n",
       "    <tr>\n",
       "      <th>17381</th>\n",
       "      <td>0263000018</td>\n",
       "      <td>20140521T000000</td>\n",
       "      <td>360000.0</td>\n",
       "      <td>3.0</td>\n",
       "      <td>2.50</td>\n",
       "      <td>1530.0</td>\n",
       "      <td>1131</td>\n",
       "      <td>3.0</td>\n",
       "      <td>0</td>\n",
       "      <td>0</td>\n",
       "      <td>...</td>\n",
       "      <td>8</td>\n",
       "      <td>1530</td>\n",
       "      <td>0</td>\n",
       "      <td>2009</td>\n",
       "      <td>0</td>\n",
       "      <td>98103</td>\n",
       "      <td>47.6993</td>\n",
       "      <td>-122.346</td>\n",
       "      <td>1530.0</td>\n",
       "      <td>1509.0</td>\n",
       "    </tr>\n",
       "    <tr>\n",
       "      <th>17382</th>\n",
       "      <td>0291310100</td>\n",
       "      <td>20150116T000000</td>\n",
       "      <td>400000.0</td>\n",
       "      <td>3.0</td>\n",
       "      <td>2.50</td>\n",
       "      <td>1600.0</td>\n",
       "      <td>2388</td>\n",
       "      <td>2.0</td>\n",
       "      <td>0</td>\n",
       "      <td>0</td>\n",
       "      <td>...</td>\n",
       "      <td>8</td>\n",
       "      <td>1600</td>\n",
       "      <td>0</td>\n",
       "      <td>2004</td>\n",
       "      <td>0</td>\n",
       "      <td>98027</td>\n",
       "      <td>47.5345</td>\n",
       "      <td>-122.069</td>\n",
       "      <td>1410.0</td>\n",
       "      <td>1287.0</td>\n",
       "    </tr>\n",
       "    <tr>\n",
       "      <th>17383</th>\n",
       "      <td>1523300157</td>\n",
       "      <td>20141015T000000</td>\n",
       "      <td>325000.0</td>\n",
       "      <td>2.0</td>\n",
       "      <td>0.75</td>\n",
       "      <td>1020.0</td>\n",
       "      <td>1076</td>\n",
       "      <td>2.0</td>\n",
       "      <td>0</td>\n",
       "      <td>0</td>\n",
       "      <td>...</td>\n",
       "      <td>7</td>\n",
       "      <td>1020</td>\n",
       "      <td>0</td>\n",
       "      <td>2008</td>\n",
       "      <td>0</td>\n",
       "      <td>98144</td>\n",
       "      <td>47.5941</td>\n",
       "      <td>-122.299</td>\n",
       "      <td>1020.0</td>\n",
       "      <td>1357.0</td>\n",
       "    </tr>\n",
       "  </tbody>\n",
       "</table>\n",
       "<p>17384 rows × 21 columns</p>\n",
       "</div>"
      ],
      "text/plain": [
       "               id             date      price  bedrooms  bathrooms  \\\n",
       "0      7129300520  20141013T000000   221900.0       3.0       1.00   \n",
       "1      6414100192  20141209T000000   538000.0       3.0       2.25   \n",
       "2      5631500400  20150225T000000   180000.0       2.0       1.00   \n",
       "3      2487200875  20141209T000000   604000.0       4.0       3.00   \n",
       "4      1954400510  20150218T000000   510000.0       3.0       2.00   \n",
       "...           ...              ...        ...       ...        ...   \n",
       "17379  7936000429  20150326T000000  1007500.0       4.0       3.50   \n",
       "17380  2997800021  20150219T000000   475000.0       3.0       2.50   \n",
       "17381  0263000018  20140521T000000   360000.0       3.0       2.50   \n",
       "17382  0291310100  20150116T000000   400000.0       3.0       2.50   \n",
       "17383  1523300157  20141015T000000   325000.0       2.0       0.75   \n",
       "\n",
       "       sqft_living  sqft_lot  floors  waterfront  view  ...  grade  \\\n",
       "0           1180.0      5650     1.0           0     0  ...      7   \n",
       "1           2570.0      7242     2.0           0     0  ...      7   \n",
       "2            770.0     10000     1.0           0     0  ...      6   \n",
       "3           1960.0      5000     1.0           0     0  ...      7   \n",
       "4           1680.0      8080     1.0           0     0  ...      8   \n",
       "...            ...       ...     ...         ...   ...  ...    ...   \n",
       "17379       3510.0      7200     2.0           0     0  ...      9   \n",
       "17380       1310.0      1294     2.0           0     0  ...      8   \n",
       "17381       1530.0      1131     3.0           0     0  ...      8   \n",
       "17382       1600.0      2388     2.0           0     0  ...      8   \n",
       "17383       1020.0      1076     2.0           0     0  ...      7   \n",
       "\n",
       "       sqft_above  sqft_basement  yr_built  yr_renovated  zipcode      lat  \\\n",
       "0            1180              0      1955             0    98178  47.5112   \n",
       "1            2170            400      1951          1991    98125  47.7210   \n",
       "2             770              0      1933             0    98028  47.7379   \n",
       "3            1050            910      1965             0    98136  47.5208   \n",
       "4            1680              0      1987             0    98074  47.6168   \n",
       "...           ...            ...       ...           ...      ...      ...   \n",
       "17379        2600            910      2009             0    98136  47.5537   \n",
       "17380        1180            130      2008             0    98116  47.5773   \n",
       "17381        1530              0      2009             0    98103  47.6993   \n",
       "17382        1600              0      2004             0    98027  47.5345   \n",
       "17383        1020              0      2008             0    98144  47.5941   \n",
       "\n",
       "          long  sqft_living15  sqft_lot15  \n",
       "0     -122.257         1340.0      5650.0  \n",
       "1     -122.319         1690.0      7639.0  \n",
       "2     -122.233         2720.0      8062.0  \n",
       "3     -122.393         1360.0      5000.0  \n",
       "4     -122.045         1800.0      7503.0  \n",
       "...        ...            ...         ...  \n",
       "17379 -122.398         2050.0      6200.0  \n",
       "17380 -122.409         1330.0      1265.0  \n",
       "17381 -122.346         1530.0      1509.0  \n",
       "17382 -122.069         1410.0      1287.0  \n",
       "17383 -122.299         1020.0      1357.0  \n",
       "\n",
       "[17384 rows x 21 columns]"
      ]
     },
     "execution_count": 139,
     "metadata": {},
     "output_type": "execute_result"
    }
   ],
   "source": [
    "training = pd.read_csv('kc_house_train_data.csv', dtype = dtype_dict)\n",
    "testing = pd.read_csv('kc_house_test_data.csv', dtype = dtype_dict)\n",
    "### Let us consider the following set of features.\n",
    "more_features = ['bedrooms', 'bathrooms', 'sqft_living', 'sqft_lot', 'floors', 'waterfront', \n",
    "                'view', 'condition', 'grade', 'sqft_above', 'sqft_basement', 'yr_built', 'yr_renovated']\n",
    "\n",
    "training"
   ]
  },
  {
   "cell_type": "code",
   "execution_count": 140,
   "metadata": {},
   "outputs": [],
   "source": [
    "from sklearn import preprocessing\n"
   ]
  },
  {
   "cell_type": "code",
   "execution_count": 141,
   "metadata": {},
   "outputs": [
    {
     "name": "stdout",
     "output_type": "stream",
     "text": [
      "[1.000e+00 3.000e+00 2.250e+00 2.570e+03 7.242e+03 2.000e+00 0.000e+00\n",
      " 0.000e+00 3.000e+00 7.000e+00 2.170e+03 4.000e+02 1.951e+03 1.991e+03]\n"
     ]
    }
   ],
   "source": [
    "feature1 ,price1 = get_numpy_data(training, more_features, 'price')"
   ]
  },
  {
   "cell_type": "code",
   "execution_count": 145,
   "metadata": {},
   "outputs": [],
   "source": [
    "normalized_features1,norms1 = normalize_features(feature1)\n",
    "#feature1=np.array(feature1)\n",
    "#norm1=np.linalg.norm(feature1,axis=0)\n",
    "#normalized_features2=preprocessing.normalize(feature1,norm='l2')"
   ]
  },
  {
   "cell_type": "code",
   "execution_count": 150,
   "metadata": {},
   "outputs": [
    {
     "ename": "ValueError",
     "evalue": "shapes (17384,14) and (13,) not aligned: 14 (dim 1) != 13 (dim 0)",
     "output_type": "error",
     "traceback": [
      "\u001b[1;31m---------------------------------------------------------------------------\u001b[0m",
      "\u001b[1;31mValueError\u001b[0m                                Traceback (most recent call last)",
      "\u001b[1;32m<ipython-input-150-2d67f9d56384>\u001b[0m in \u001b[0;36m<module>\u001b[1;34m\u001b[0m\n\u001b[0;32m      5\u001b[0m \u001b[0mtolerance\u001b[0m \u001b[1;33m=\u001b[0m \u001b[1;36m1.0\u001b[0m\u001b[1;33m\u001b[0m\u001b[1;33m\u001b[0m\u001b[0m\n\u001b[0;32m      6\u001b[0m \u001b[1;33m\u001b[0m\u001b[0m\n\u001b[1;32m----> 7\u001b[1;33m \u001b[0mweights1e7\u001b[0m \u001b[1;33m=\u001b[0m \u001b[0mlasso_cyclical_coordinate_descent\u001b[0m\u001b[1;33m(\u001b[0m\u001b[0mnormalized_features1\u001b[0m\u001b[1;33m,\u001b[0m \u001b[0mprice1\u001b[0m\u001b[1;33m,\u001b[0m \u001b[0minitial_weights1\u001b[0m\u001b[1;33m,\u001b[0m \u001b[0ml1_penalty\u001b[0m\u001b[1;33m,\u001b[0m \u001b[0mtolerance\u001b[0m\u001b[1;33m)\u001b[0m\u001b[1;33m\u001b[0m\u001b[1;33m\u001b[0m\u001b[0m\n\u001b[0m\u001b[0;32m      8\u001b[0m \u001b[0mweights1e7_dict\u001b[0m \u001b[1;33m=\u001b[0m \u001b[1;33m{\u001b[0m\u001b[1;33m}\u001b[0m\u001b[1;33m\u001b[0m\u001b[1;33m\u001b[0m\u001b[0m\n\u001b[0;32m      9\u001b[0m \u001b[1;33m\u001b[0m\u001b[0m\n",
      "\u001b[1;32m<ipython-input-137-d0ba2de9677d>\u001b[0m in \u001b[0;36mlasso_cyclical_coordinate_descent\u001b[1;34m(normalized_features, output, initial_weights, l1_penalty, tolerance)\u001b[0m\n\u001b[0;32m     12\u001b[0m         \u001b[0mloop\u001b[0m\u001b[1;33m+=\u001b[0m\u001b[1;36m1\u001b[0m\u001b[1;33m\u001b[0m\u001b[1;33m\u001b[0m\u001b[0m\n\u001b[0;32m     13\u001b[0m         \u001b[1;32mfor\u001b[0m \u001b[0mi\u001b[0m \u001b[1;32min\u001b[0m \u001b[0mrange\u001b[0m\u001b[1;33m(\u001b[0m\u001b[0mlen\u001b[0m\u001b[1;33m(\u001b[0m\u001b[0mweights\u001b[0m\u001b[1;33m)\u001b[0m\u001b[1;33m)\u001b[0m\u001b[1;33m:\u001b[0m\u001b[1;33m\u001b[0m\u001b[1;33m\u001b[0m\u001b[0m\n\u001b[1;32m---> 14\u001b[1;33m             \u001b[0mweights_new\u001b[0m \u001b[1;33m=\u001b[0m \u001b[0mlasso_coordinate_descent_step\u001b[0m\u001b[1;33m(\u001b[0m\u001b[0mi\u001b[0m\u001b[1;33m,\u001b[0m\u001b[0mnormalized_features\u001b[0m\u001b[1;33m,\u001b[0m \u001b[0moutput\u001b[0m\u001b[1;33m,\u001b[0m \u001b[0mweights\u001b[0m\u001b[1;33m,\u001b[0m \u001b[0ml1_penalty\u001b[0m\u001b[1;33m)\u001b[0m\u001b[1;33m\u001b[0m\u001b[1;33m\u001b[0m\u001b[0m\n\u001b[0m\u001b[0;32m     15\u001b[0m             \u001b[0mweights_change\u001b[0m\u001b[1;33m[\u001b[0m\u001b[0mi\u001b[0m\u001b[1;33m]\u001b[0m \u001b[1;33m=\u001b[0m  \u001b[0mnp\u001b[0m\u001b[1;33m.\u001b[0m\u001b[0mabs\u001b[0m\u001b[1;33m(\u001b[0m\u001b[0mweights_new\u001b[0m \u001b[1;33m-\u001b[0m \u001b[0mweights\u001b[0m\u001b[1;33m[\u001b[0m\u001b[0mi\u001b[0m\u001b[1;33m]\u001b[0m\u001b[1;33m)\u001b[0m\u001b[1;33m\u001b[0m\u001b[1;33m\u001b[0m\u001b[0m\n\u001b[0;32m     16\u001b[0m             \u001b[0mweights\u001b[0m\u001b[1;33m[\u001b[0m\u001b[0mi\u001b[0m\u001b[1;33m]\u001b[0m \u001b[1;33m=\u001b[0m \u001b[0mweights_new\u001b[0m\u001b[1;33m\u001b[0m\u001b[1;33m\u001b[0m\u001b[0m\n",
      "\u001b[1;32m<ipython-input-135-04b8d6f61e58>\u001b[0m in \u001b[0;36mlasso_coordinate_descent_step\u001b[1;34m(i, feature_matrix, output, weights, l1_penalty)\u001b[0m\n\u001b[0;32m      4\u001b[0m \u001b[1;32mdef\u001b[0m \u001b[0mlasso_coordinate_descent_step\u001b[0m\u001b[1;33m(\u001b[0m\u001b[0mi\u001b[0m\u001b[1;33m,\u001b[0m\u001b[0mfeature_matrix\u001b[0m\u001b[1;33m,\u001b[0m \u001b[0moutput\u001b[0m\u001b[1;33m,\u001b[0m \u001b[0mweights\u001b[0m\u001b[1;33m,\u001b[0m \u001b[0ml1_penalty\u001b[0m\u001b[1;33m)\u001b[0m\u001b[1;33m:\u001b[0m\u001b[1;33m\u001b[0m\u001b[1;33m\u001b[0m\u001b[0m\n\u001b[0;32m      5\u001b[0m \u001b[1;33m\u001b[0m\u001b[0m\n\u001b[1;32m----> 6\u001b[1;33m     \u001b[0mprediction\u001b[0m \u001b[1;33m=\u001b[0m \u001b[0mpredict_output\u001b[0m\u001b[1;33m(\u001b[0m\u001b[0mfeature_matrix\u001b[0m\u001b[1;33m,\u001b[0m \u001b[0mweights\u001b[0m\u001b[1;33m)\u001b[0m\u001b[1;33m\u001b[0m\u001b[1;33m\u001b[0m\u001b[0m\n\u001b[0m\u001b[0;32m      7\u001b[0m     \u001b[0merror\u001b[0m \u001b[1;33m=\u001b[0m \u001b[0moutput\u001b[0m \u001b[1;33m-\u001b[0m \u001b[0mprediction\u001b[0m \u001b[1;33m+\u001b[0m \u001b[0mfeature_matrix\u001b[0m\u001b[1;33m[\u001b[0m\u001b[1;33m:\u001b[0m\u001b[1;33m,\u001b[0m\u001b[0mi\u001b[0m\u001b[1;33m]\u001b[0m\u001b[1;33m*\u001b[0m\u001b[0mweights\u001b[0m\u001b[1;33m[\u001b[0m\u001b[0mi\u001b[0m\u001b[1;33m]\u001b[0m\u001b[1;33m\u001b[0m\u001b[1;33m\u001b[0m\u001b[0m\n\u001b[0;32m      8\u001b[0m     \u001b[0mro\u001b[0m \u001b[1;33m=\u001b[0m \u001b[0mnp\u001b[0m\u001b[1;33m.\u001b[0m\u001b[0mdot\u001b[0m\u001b[1;33m(\u001b[0m\u001b[0mfeature_matrix\u001b[0m\u001b[1;33m[\u001b[0m\u001b[1;33m:\u001b[0m\u001b[1;33m,\u001b[0m\u001b[0mi\u001b[0m\u001b[1;33m]\u001b[0m\u001b[1;33m,\u001b[0m\u001b[0merror\u001b[0m\u001b[1;33m.\u001b[0m\u001b[0mtranspose\u001b[0m\u001b[1;33m(\u001b[0m\u001b[1;33m)\u001b[0m\u001b[1;33m)\u001b[0m\u001b[1;33m\u001b[0m\u001b[1;33m\u001b[0m\u001b[0m\n",
      "\u001b[1;32m<ipython-input-147-9e753a93dfc3>\u001b[0m in \u001b[0;36mpredict_output\u001b[1;34m(feature_matrix, weights)\u001b[0m\n\u001b[0;32m     14\u001b[0m \u001b[1;33m\u001b[0m\u001b[0m\n\u001b[0;32m     15\u001b[0m \u001b[1;32mdef\u001b[0m \u001b[0mpredict_output\u001b[0m\u001b[1;33m(\u001b[0m\u001b[0mfeature_matrix\u001b[0m\u001b[1;33m,\u001b[0m \u001b[0mweights\u001b[0m\u001b[1;33m)\u001b[0m\u001b[1;33m:\u001b[0m\u001b[1;33m\u001b[0m\u001b[1;33m\u001b[0m\u001b[0m\n\u001b[1;32m---> 16\u001b[1;33m     \u001b[0mx_arr\u001b[0m \u001b[1;33m=\u001b[0m\u001b[0mnp\u001b[0m\u001b[1;33m.\u001b[0m\u001b[0mdot\u001b[0m\u001b[1;33m(\u001b[0m\u001b[0mfeature_matrix\u001b[0m\u001b[1;33m,\u001b[0m\u001b[0mweights\u001b[0m\u001b[1;33m)\u001b[0m\u001b[1;33m\u001b[0m\u001b[1;33m\u001b[0m\u001b[0m\n\u001b[0m\u001b[0;32m     17\u001b[0m     \u001b[0mpredictions\u001b[0m \u001b[1;33m=\u001b[0m \u001b[0mx_arr\u001b[0m\u001b[1;33m.\u001b[0m\u001b[0msum\u001b[0m\u001b[1;33m(\u001b[0m\u001b[0maxis\u001b[0m \u001b[1;33m=\u001b[0m \u001b[1;36m1\u001b[0m\u001b[1;33m)\u001b[0m\u001b[1;33m\u001b[0m\u001b[1;33m\u001b[0m\u001b[0m\n\u001b[0;32m     18\u001b[0m     \u001b[1;32mreturn\u001b[0m \u001b[0mpredictions\u001b[0m\u001b[1;33m\u001b[0m\u001b[1;33m\u001b[0m\u001b[0m\n",
      "\u001b[1;32m<__array_function__ internals>\u001b[0m in \u001b[0;36mdot\u001b[1;34m(*args, **kwargs)\u001b[0m\n",
      "\u001b[1;31mValueError\u001b[0m: shapes (17384,14) and (13,) not aligned: 14 (dim 1) != 13 (dim 0)"
     ]
    }
   ],
   "source": [
    "### l1_penalty=1e7\n",
    "\n",
    "initial_weights1 = [0.]*(len(more_features))\n",
    "l1_penalty = 1e7\n",
    "tolerance = 1.0\n",
    "\n",
    "weights1e7 = lasso_cyclical_coordinate_descent(normalized_features1, price1, initial_weights1, l1_penalty, tolerance)\n",
    "weights1e7_dict = {}\n",
    "\n",
    "for feat, coef in zip(more_features, weights1e7):\n",
    "    weights1e7_dict[feat] = coef\n",
    "weights1e7_dict\n"
   ]
  },
  {
   "cell_type": "code",
   "execution_count": null,
   "metadata": {},
   "outputs": [],
   "source": []
  }
 ],
 "metadata": {
  "kernelspec": {
   "display_name": "Python 3",
   "language": "python",
   "name": "python3"
  },
  "language_info": {
   "codemirror_mode": {
    "name": "ipython",
    "version": 3
   },
   "file_extension": ".py",
   "mimetype": "text/x-python",
   "name": "python",
   "nbconvert_exporter": "python",
   "pygments_lexer": "ipython3",
   "version": "3.8.3"
  }
 },
 "nbformat": 4,
 "nbformat_minor": 4
}
