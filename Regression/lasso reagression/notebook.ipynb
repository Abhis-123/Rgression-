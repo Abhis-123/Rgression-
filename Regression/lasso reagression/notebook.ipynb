{
 "cells": [
  {
   "cell_type": "markdown",
   "metadata": {},
   "source": [
    "\n",
    "<h1 id=\"Feature-Selection-and-LASSO-Regression\">Feature Selection and LASSO Regression<a class=\"anchor-link\" href=\"https://tung-dn.github.io/prog_ML_reg5.html#Feature-Selection-and-LASSO-Regression\">Â¶</a></h1>\n"
   ]
  },
  {
   "cell_type": "markdown",
   "metadata": {},
   "source": [
    "\n",
    "<p>In this lession, we will use LASSO to select features, building on a pre-implemented solver for LASSO.</p>\n",
    "<p>Learning objectives:</p>\n",
    "<ul>\n",
    "<li>Run LASSO with different L1 penalties.</li>\n",
    "<li>Choose best L1 penalty using a validation set.</li>\n",
    "<li>Choose best L1 penalty using a validation set, with additional constraint on the size of subset.</li>\n",
    "</ul>\n",
    "<p>In addition, we also will implement your own LASSO solver using coordinate descent.</p>\n"
   ]
  },
  {
   "cell_type": "markdown",
   "metadata": {},
   "source": [
    "\n",
    "<p>We will continue to use the House data from previous notebooks.</p>\n"
   ]
  },
  {
   "cell_type": "code",
   "execution_count": 7,
   "metadata": {},
   "outputs": [],
   "source": [
    "\n",
    "import pandas as pd\n",
    "import numpy as np\n",
    "from sklearn import linear_model\n",
    "from math import sqrt, log\n",
    "from sklearn.metrics import mean_squared_error\n",
    "\n"
   ]
  },
  {
   "cell_type": "code",
   "execution_count": 8,
   "metadata": {},
   "outputs": [
    {
     "data": {
      "text/html": [
       "<div>\n",
       "<style scoped>\n",
       "    .dataframe tbody tr th:only-of-type {\n",
       "        vertical-align: middle;\n",
       "    }\n",
       "\n",
       "    .dataframe tbody tr th {\n",
       "        vertical-align: top;\n",
       "    }\n",
       "\n",
       "    .dataframe thead th {\n",
       "        text-align: right;\n",
       "    }\n",
       "</style>\n",
       "<table border=\"1\" class=\"dataframe\">\n",
       "  <thead>\n",
       "    <tr style=\"text-align: right;\">\n",
       "      <th></th>\n",
       "      <th>id</th>\n",
       "      <th>date</th>\n",
       "      <th>price</th>\n",
       "      <th>bedrooms</th>\n",
       "      <th>bathrooms</th>\n",
       "      <th>sqft_living</th>\n",
       "      <th>sqft_lot</th>\n",
       "      <th>floors</th>\n",
       "      <th>waterfront</th>\n",
       "      <th>view</th>\n",
       "      <th>...</th>\n",
       "      <th>grade</th>\n",
       "      <th>sqft_above</th>\n",
       "      <th>sqft_basement</th>\n",
       "      <th>yr_built</th>\n",
       "      <th>yr_renovated</th>\n",
       "      <th>zipcode</th>\n",
       "      <th>lat</th>\n",
       "      <th>long</th>\n",
       "      <th>sqft_living15</th>\n",
       "      <th>sqft_lot15</th>\n",
       "    </tr>\n",
       "  </thead>\n",
       "  <tbody>\n",
       "    <tr>\n",
       "      <th>0</th>\n",
       "      <td>7129300520</td>\n",
       "      <td>20141013T000000</td>\n",
       "      <td>221900.0</td>\n",
       "      <td>3.0</td>\n",
       "      <td>1.00</td>\n",
       "      <td>1180.0</td>\n",
       "      <td>5650</td>\n",
       "      <td>1.0</td>\n",
       "      <td>0</td>\n",
       "      <td>0</td>\n",
       "      <td>...</td>\n",
       "      <td>7</td>\n",
       "      <td>1180</td>\n",
       "      <td>0</td>\n",
       "      <td>1955</td>\n",
       "      <td>0</td>\n",
       "      <td>98178</td>\n",
       "      <td>47.5112</td>\n",
       "      <td>-122.257</td>\n",
       "      <td>1340.0</td>\n",
       "      <td>5650.0</td>\n",
       "    </tr>\n",
       "    <tr>\n",
       "      <th>1</th>\n",
       "      <td>6414100192</td>\n",
       "      <td>20141209T000000</td>\n",
       "      <td>538000.0</td>\n",
       "      <td>3.0</td>\n",
       "      <td>2.25</td>\n",
       "      <td>2570.0</td>\n",
       "      <td>7242</td>\n",
       "      <td>2.0</td>\n",
       "      <td>0</td>\n",
       "      <td>0</td>\n",
       "      <td>...</td>\n",
       "      <td>7</td>\n",
       "      <td>2170</td>\n",
       "      <td>400</td>\n",
       "      <td>1951</td>\n",
       "      <td>1991</td>\n",
       "      <td>98125</td>\n",
       "      <td>47.7210</td>\n",
       "      <td>-122.319</td>\n",
       "      <td>1690.0</td>\n",
       "      <td>7639.0</td>\n",
       "    </tr>\n",
       "    <tr>\n",
       "      <th>2</th>\n",
       "      <td>5631500400</td>\n",
       "      <td>20150225T000000</td>\n",
       "      <td>180000.0</td>\n",
       "      <td>2.0</td>\n",
       "      <td>1.00</td>\n",
       "      <td>770.0</td>\n",
       "      <td>10000</td>\n",
       "      <td>1.0</td>\n",
       "      <td>0</td>\n",
       "      <td>0</td>\n",
       "      <td>...</td>\n",
       "      <td>6</td>\n",
       "      <td>770</td>\n",
       "      <td>0</td>\n",
       "      <td>1933</td>\n",
       "      <td>0</td>\n",
       "      <td>98028</td>\n",
       "      <td>47.7379</td>\n",
       "      <td>-122.233</td>\n",
       "      <td>2720.0</td>\n",
       "      <td>8062.0</td>\n",
       "    </tr>\n",
       "    <tr>\n",
       "      <th>3</th>\n",
       "      <td>2487200875</td>\n",
       "      <td>20141209T000000</td>\n",
       "      <td>604000.0</td>\n",
       "      <td>4.0</td>\n",
       "      <td>3.00</td>\n",
       "      <td>1960.0</td>\n",
       "      <td>5000</td>\n",
       "      <td>1.0</td>\n",
       "      <td>0</td>\n",
       "      <td>0</td>\n",
       "      <td>...</td>\n",
       "      <td>7</td>\n",
       "      <td>1050</td>\n",
       "      <td>910</td>\n",
       "      <td>1965</td>\n",
       "      <td>0</td>\n",
       "      <td>98136</td>\n",
       "      <td>47.5208</td>\n",
       "      <td>-122.393</td>\n",
       "      <td>1360.0</td>\n",
       "      <td>5000.0</td>\n",
       "    </tr>\n",
       "    <tr>\n",
       "      <th>4</th>\n",
       "      <td>1954400510</td>\n",
       "      <td>20150218T000000</td>\n",
       "      <td>510000.0</td>\n",
       "      <td>3.0</td>\n",
       "      <td>2.00</td>\n",
       "      <td>1680.0</td>\n",
       "      <td>8080</td>\n",
       "      <td>1.0</td>\n",
       "      <td>0</td>\n",
       "      <td>0</td>\n",
       "      <td>...</td>\n",
       "      <td>8</td>\n",
       "      <td>1680</td>\n",
       "      <td>0</td>\n",
       "      <td>1987</td>\n",
       "      <td>0</td>\n",
       "      <td>98074</td>\n",
       "      <td>47.6168</td>\n",
       "      <td>-122.045</td>\n",
       "      <td>1800.0</td>\n",
       "      <td>7503.0</td>\n",
       "    </tr>\n",
       "  </tbody>\n",
       "</table>\n",
       "<p>5 rows × 21 columns</p>\n",
       "</div>"
      ],
      "text/plain": [
       "           id             date     price  bedrooms  bathrooms  sqft_living  \\\n",
       "0  7129300520  20141013T000000  221900.0       3.0       1.00       1180.0   \n",
       "1  6414100192  20141209T000000  538000.0       3.0       2.25       2570.0   \n",
       "2  5631500400  20150225T000000  180000.0       2.0       1.00        770.0   \n",
       "3  2487200875  20141209T000000  604000.0       4.0       3.00       1960.0   \n",
       "4  1954400510  20150218T000000  510000.0       3.0       2.00       1680.0   \n",
       "\n",
       "   sqft_lot  floors  waterfront  view  ...  grade  sqft_above  sqft_basement  \\\n",
       "0      5650     1.0           0     0  ...      7        1180              0   \n",
       "1      7242     2.0           0     0  ...      7        2170            400   \n",
       "2     10000     1.0           0     0  ...      6         770              0   \n",
       "3      5000     1.0           0     0  ...      7        1050            910   \n",
       "4      8080     1.0           0     0  ...      8        1680              0   \n",
       "\n",
       "   yr_built  yr_renovated  zipcode      lat     long  sqft_living15  \\\n",
       "0      1955             0    98178  47.5112 -122.257         1340.0   \n",
       "1      1951          1991    98125  47.7210 -122.319         1690.0   \n",
       "2      1933             0    98028  47.7379 -122.233         2720.0   \n",
       "3      1965             0    98136  47.5208 -122.393         1360.0   \n",
       "4      1987             0    98074  47.6168 -122.045         1800.0   \n",
       "\n",
       "   sqft_lot15  \n",
       "0      5650.0  \n",
       "1      7639.0  \n",
       "2      8062.0  \n",
       "3      5000.0  \n",
       "4      7503.0  \n",
       "\n",
       "[5 rows x 21 columns]"
      ]
     },
     "execution_count": 8,
     "metadata": {},
     "output_type": "execute_result"
    }
   ],
   "source": [
    "\n",
    "### Importing data:\n",
    "dtype_dict = {'bathrooms':float, 'waterfront':int, 'sqft_above':int, 'sqft_living15':float, 'grade':int, \n",
    "              'yr_renovated':int, 'price':float, 'bedrooms':float, 'zipcode':str, 'long':float, 'sqft_lot15':float, \n",
    "              'sqft_living':float, 'floors':float, 'condition':int, 'lat':float, 'date':str, 'sqft_basement':int, \n",
    "              'yr_built':int, 'id':str, 'sqft_lot':int, 'view':int}\n",
    "sales = pd.read_csv('kc_house_data.csv', dtype= dtype_dict)\n",
    "sales = pd.DataFrame(sales)\n",
    "sales.head()\n",
    "\n"
   ]
  },
  {
   "cell_type": "code",
   "execution_count": 9,
   "metadata": {},
   "outputs": [],
   "source": [
    "\n",
    "sales['sqft_living_sqrt'] = sales['sqft_living'].apply(sqrt)\n",
    "sales['sqft_lot_sqrt'] = sales['sqft_lot'].apply(sqrt)\n",
    "sales['bedrooms_square'] = sales['bedrooms']*sales['bedrooms']\n",
    "sales['floors_square'] = sales['floors']*sales['floors']\n",
    "\n"
   ]
  },
  {
   "cell_type": "markdown",
   "metadata": {},
   "source": [
    "\n",
    "<h3 id=\"1.-Data-Set-up\">1. Data Set-up<a class=\"anchor-link\" href=\"https://tung-dn.github.io/prog_ML_reg5.html#1.-Data-Set-up\">Â¶</a></h3><p>We consider features that are some transformations of inputs.</p>\n",
    "<ul>\n",
    "<li>Squaring bedrooms will increase the separation between not many bedrooms (e.g. 1) and lots of bedrooms (e.g. 4) since 1^2 = 1 but 4^2 = 16. Consequently this variable will mostly affect houses with many bedrooms.</li>\n",
    "<li>On the other hand, taking square root of sqft_living will decrease the separation between big house and small house. The owner may not be exactly twice as happy for getting a house that is twice as big.</li>\n",
    "</ul>\n"
   ]
  },
  {
   "cell_type": "code",
   "execution_count": 10,
   "metadata": {},
   "outputs": [],
   "source": [
    "\n",
    "sales['sqft_living_sqrt'] = sales['sqft_living'].apply(sqrt)\n",
    "sales['sqft_lot_sqrt'] = sales['sqft_lot'].apply(sqrt)\n",
    "sales['bedrooms_square'] = sales['bedrooms']*sales['bedrooms']\n",
    "sales['floors_square'] = sales['floors']*sales['floors']\n",
    "\n"
   ]
  },
  {
   "cell_type": "markdown",
   "metadata": {},
   "source": [
    "\n",
    "<h3 id=\"2.-Learn-Regression-Weights-with-L1-Penalty\">2. Learn Regression Weights with L1 Penalty<a class=\"anchor-link\" href=\"https://tung-dn.github.io/prog_ML_reg5.html#2.-Learn-Regression-Weights-with-L1-Penalty\">Â¶</a></h3><p>Let us fit a model with all the features available, plus the features we just created above.</p>\n"
   ]
  },
  {
   "cell_type": "code",
   "execution_count": 11,
   "metadata": {},
   "outputs": [],
   "source": [
    "\n",
    "all_features = ['bedrooms', 'bedrooms_square', 'bathrooms','sqft_living', 'sqft_living_sqrt',\n",
    "            'sqft_lot', 'sqft_lot_sqrt', 'floors', 'floors_square', 'waterfront', 'view',\n",
    "            'condition', 'grade', 'sqft_above', 'sqft_basement','yr_built', 'yr_renovated']\n",
    "\n"
   ]
  },
  {
   "cell_type": "code",
   "execution_count": 12,
   "metadata": {},
   "outputs": [],
   "source": [
    "\n",
    "model_lasso = linear_model.Lasso(alpha = 5e2, normalize = True)\n",
    "model_all = model_lasso.fit(sales[all_features], sales['price'])\n",
    "\n"
   ]
  },
  {
   "cell_type": "code",
   "execution_count": 13,
   "metadata": {},
   "outputs": [
    {
     "data": {
      "text/plain": [
       "{'bedrooms': 0.0,\n",
       " 'bedrooms_square': 0.0,\n",
       " 'bathrooms': 0.0,\n",
       " 'sqft_living': 134.43931395541438,\n",
       " 'sqft_living_sqrt': 0.0,\n",
       " 'sqft_lot': 0.0,\n",
       " 'sqft_lot_sqrt': 0.0,\n",
       " 'floors': 0.0,\n",
       " 'floors_square': 0.0,\n",
       " 'waterfront': 0.0,\n",
       " 'view': 24750.004585609488,\n",
       " 'condition': 0.0,\n",
       " 'grade': 61749.10309070811,\n",
       " 'sqft_above': 0.0,\n",
       " 'sqft_basement': 0.0,\n",
       " 'yr_built': -0.0,\n",
       " 'yr_renovated': 0.0}"
      ]
     },
     "execution_count": 13,
     "metadata": {},
     "output_type": "execute_result"
    }
   ],
   "source": [
    "\n",
    "### Find what features had non-zero weight.\n",
    "coef_model_all1 = {}\n",
    "for coef, feat in zip(model_all.coef_,all_features):\n",
    "    coef_model_all1[feat] = coef\n",
    "coef_model_all1\n",
    "\n"
   ]
  },
  {
   "cell_type": "markdown",
   "metadata": {},
   "source": [
    "\n",
    "<h3 id=\"3.-Selecting-an-L1-penalty\">3. Selecting an L1 penalty<a class=\"anchor-link\" href=\"https://tung-dn.github.io/prog_ML_reg5.html#3.-Selecting-an-L1-penalty\">Â¶</a></h3>\n"
   ]
  },
  {
   "cell_type": "markdown",
   "metadata": {},
   "source": [
    "\n",
    "<p>To find a good L1 penalty, we will explore multiple values using a validation set. Let us do three way split into train, validation, and test sets:</p>\n",
    "<ul>\n",
    "<li>Split our sales data into 2 sets: training and test</li>\n",
    "<li>Further split our training data into two sets: train, validation.</li>\n",
    "</ul>\n"
   ]
  },
  {
   "cell_type": "code",
   "execution_count": 15,
   "metadata": {},
   "outputs": [],
   "source": [
    "\n",
    "training = pd.read_csv('wk3_kc_house_train_data.csv', dtype = dtype_dict)\n",
    "validation = pd.read_csv('wk3_kc_house_valid_data.csv', dtype = dtype_dict)\n",
    "testing = pd.read_csv('wk3_kc_house_test_data.csv', dtype = dtype_dict)\n",
    "\n"
   ]
  },
  {
   "cell_type": "markdown",
   "metadata": {},
   "source": [
    "\n",
    "<h5 id=\"3.1-Selecting-an-L1-penalty\">3.1 Selecting an L1 penalty<a class=\"anchor-link\" href=\"https://tung-dn.github.io/prog_ML_reg5.html#3.1-Selecting-an-L1-penalty\">Â¶</a></h5>\n"
   ]
  },
  {
   "cell_type": "markdown",
   "metadata": {},
   "source": [
    "\n",
    "<p>Next, we write a loop that does the following:</p>\n",
    "<ul>\n",
    "<li>For l1_penalty in [10^1, 10^1.5, 10^2, 10^2.5, ..., 10^7] (to get this in Python, type np.logspace(1, 7, num=13).)</li>\n",
    "<li>Fit a regression model with a given l1_penalty on TRAIN data. Specify l1_penalty=l1_penalty and l2_penalty=0. in the parameter list.</li>\n",
    "<li>Compute the RSS on VALIDATION data (here you will want to use .predict()) for that l1_penalty</li>\n",
    "<li>Report which l1_penalty produced the lowest RSS on validation data.</li>\n",
    "</ul>\n"
   ]
  },
  {
   "cell_type": "code",
   "execution_count": 16,
   "metadata": {},
   "outputs": [],
   "source": [
    "\n",
    "testing['sqft_living_sqrt'] = testing['sqft_living'].apply(sqrt)\n",
    "testing['sqft_lot_sqrt'] = testing['sqft_lot'].apply(sqrt)\n",
    "testing['bedrooms_square'] = testing['bedrooms']*testing['bedrooms']\n",
    "testing['floors_square'] = testing['floors']*testing['floors']\n",
    "\n",
    "training['sqft_living_sqrt'] = training['sqft_living'].apply(sqrt)\n",
    "training['sqft_lot_sqrt'] = training['sqft_lot'].apply(sqrt)\n",
    "training['bedrooms_square'] = training['bedrooms']*training['bedrooms']\n",
    "training['floors_square'] = training['floors']*training['floors']\n",
    "\n",
    "validation['sqft_living_sqrt'] = validation['sqft_living'].apply(sqrt)\n",
    "validation['sqft_lot_sqrt'] = validation['sqft_lot'].apply(sqrt)\n",
    "validation['bedrooms_square'] = validation['bedrooms']*validation['bedrooms']\n",
    "validation['floors_square'] = validation['floors']*validation['floors']\n",
    "\n"
   ]
  },
  {
   "cell_type": "code",
   "execution_count": 17,
   "metadata": {},
   "outputs": [],
   "source": [
    "\n",
    "l1_penalty = np.logspace(1, 7, num=13)\n",
    "\n"
   ]
  },
  {
   "cell_type": "code",
   "execution_count": 18,
   "metadata": {},
   "outputs": [
    {
     "name": "stdout",
     "output_type": "stream",
     "text": [
      "Alpha 10.0\n",
      "The number of nonzero coefficients: 15\n",
      "RSS for validation data: 41329873098.093925\n",
      "RSS for testing data: 44414705707.12621\n",
      "-------------------------------------\n",
      "Alpha 31.622776601683793\n",
      "The number of nonzero coefficients: 15\n",
      "RSS for validation data: 41415869253.0718\n",
      "RSS for testing data: 45005110231.37095\n",
      "-------------------------------------\n",
      "Alpha 100.0\n",
      "The number of nonzero coefficients: 11\n",
      "RSS for validation data: 44607327874.68185\n",
      "RSS for testing data: 48272769559.57964\n",
      "-------------------------------------\n",
      "Alpha 316.22776601683796\n",
      "The number of nonzero coefficients: 6\n",
      "RSS for validation data: 48130755687.09093\n",
      "RSS for testing data: 51517241147.93143\n",
      "-------------------------------------\n",
      "Alpha 1000.0\n",
      "The number of nonzero coefficients: 4\n",
      "RSS for validation data: 67036713402.57403\n",
      "RSS for testing data: 68423119736.932465\n",
      "-------------------------------------\n",
      "Alpha 3162.2776601683795\n",
      "The number of nonzero coefficients: 1\n",
      "RSS for validation data: 126881874356.73721\n",
      "RSS for testing data: 128425315836.65945\n",
      "-------------------------------------\n",
      "Alpha 10000.0\n",
      "The number of nonzero coefficients: 1\n",
      "RSS for validation data: 126881874356.73721\n",
      "RSS for testing data: 128425315836.65945\n",
      "-------------------------------------\n",
      "Alpha 31622.776601683792\n",
      "The number of nonzero coefficients: 1\n",
      "RSS for validation data: 126881874356.73721\n",
      "RSS for testing data: 128425315836.65945\n",
      "-------------------------------------\n",
      "Alpha 100000.0\n",
      "The number of nonzero coefficients: 1\n",
      "RSS for validation data: 126881874356.73721\n",
      "RSS for testing data: 128425315836.65945\n",
      "-------------------------------------\n",
      "Alpha 316227.7660168379\n",
      "The number of nonzero coefficients: 1\n",
      "RSS for validation data: 126881874356.73721\n",
      "RSS for testing data: 128425315836.65945\n",
      "-------------------------------------\n",
      "Alpha 1000000.0\n",
      "The number of nonzero coefficients: 1\n",
      "RSS for validation data: 126881874356.73721\n",
      "RSS for testing data: 128425315836.65945\n",
      "-------------------------------------\n",
      "Alpha 3162277.6601683795\n",
      "The number of nonzero coefficients: 1\n",
      "RSS for validation data: 126881874356.73721\n",
      "RSS for testing data: 128425315836.65945\n",
      "-------------------------------------\n",
      "Alpha 10000000.0\n",
      "The number of nonzero coefficients: 1\n",
      "RSS for validation data: 126881874356.73721\n",
      "RSS for testing data: 128425315836.65945\n",
      "-------------------------------------\n"
     ]
    }
   ],
   "source": [
    "\n",
    "for alpha in (l1_penalty):\n",
    "    print('Alpha', alpha) \n",
    "    model_lasso2 = linear_model.Lasso(alpha, normalize=True)\n",
    "    model2 = model_lasso2.fit(training[all_features], training['price'])\n",
    "    print('The number of nonzero coefficients:',np.count_nonzero(model2.coef_) + np.count_nonzero(model2.intercept_))\n",
    "    rss_val = mean_squared_error(validation['price'], model2.predict(validation[all_features]))\n",
    "    print('RSS for validation data:', rss_val)\n",
    "    rss_test = mean_squared_error(testing['price'], model2.predict(testing[all_features]))\n",
    "    print('RSS for testing data:', rss_test)\n",
    "    print('-------------------------------------')\n",
    "\n"
   ]
  },
  {
   "cell_type": "markdown",
   "metadata": {},
   "source": [
    "\n",
    "<h5 id=\"3.2-Limit-the-number-of-nonzero-weights\">3.2 Limit the number of nonzero weights<a class=\"anchor-link\" href=\"https://tung-dn.github.io/prog_ML_reg5.html#3.2-Limit-the-number-of-nonzero-weights\">Â¶</a></h5><p>What if we absolutely wanted to limit ourselves to, say, 7 features? This may be important if we want to derive \"a rule of thumb\" --- an interpretable model that has only a few features in them.</p>\n",
    "<p>In this section, you are going to implement a simple, two phase procedure to achive this goal:</p>\n",
    "<p>Explore a large range of l1_penalty values to find a narrow region of l1_penalty values where models are likely to have the desired number of non-zero weights.\n",
    "Further explore the narrow region you found to find a good value for l1_penalty that achieves the desired sparsity. Here, we will again use a validation set to choose the best value for l1_penalty.</p>\n"
   ]
  },
  {
   "cell_type": "code",
   "execution_count": 19,
   "metadata": {},
   "outputs": [],
   "source": [
    "\n",
    "max_nonzeros = 7\n",
    "l1_penalty = np.logspace(1, 4, num=20)\n",
    "\n"
   ]
  },
  {
   "cell_type": "markdown",
   "metadata": {},
   "source": [
    "\n",
    "<p>Extract the weights of the model and count the number of nonzeros. Save the number of nonzeros to a list.</p>\n"
   ]
  },
  {
   "cell_type": "code",
   "execution_count": 20,
   "metadata": {},
   "outputs": [
    {
     "name": "stdout",
     "output_type": "stream",
     "text": [
      "Alpha: 10.0\n",
      "The number of nonzero coefs: 15\n",
      "-----------------------------------\n",
      "Alpha: 14.38449888287663\n",
      "The number of nonzero coefs: 15\n",
      "-----------------------------------\n",
      "Alpha: 20.6913808111479\n",
      "The number of nonzero coefs: 15\n",
      "-----------------------------------\n",
      "Alpha: 29.76351441631318\n",
      "The number of nonzero coefs: 15\n",
      "-----------------------------------\n",
      "Alpha: 42.81332398719393\n",
      "The number of nonzero coefs: 13\n",
      "-----------------------------------\n",
      "Alpha: 61.58482110660264\n",
      "The number of nonzero coefs: 12\n",
      "-----------------------------------\n",
      "Alpha: 88.58667904100822\n",
      "The number of nonzero coefs: 11\n",
      "-----------------------------------\n",
      "Alpha: 127.42749857031335\n",
      "The number of nonzero coefs: 10\n",
      "-----------------------------------\n",
      "Alpha: 183.29807108324357\n",
      "The number of nonzero coefs: 7\n",
      "-----------------------------------\n",
      "Alpha: 263.6650898730358\n",
      "The number of nonzero coefs: 6\n",
      "-----------------------------------\n",
      "Alpha: 379.26901907322497\n",
      "The number of nonzero coefs: 6\n",
      "-----------------------------------\n",
      "Alpha: 545.5594781168514\n",
      "The number of nonzero coefs: 6\n",
      "-----------------------------------\n",
      "Alpha: 784.7599703514607\n",
      "The number of nonzero coefs: 5\n",
      "-----------------------------------\n",
      "Alpha: 1128.8378916846884\n",
      "The number of nonzero coefs: 3\n",
      "-----------------------------------\n",
      "Alpha: 1623.776739188721\n",
      "The number of nonzero coefs: 3\n",
      "-----------------------------------\n",
      "Alpha: 2335.7214690901214\n",
      "The number of nonzero coefs: 2\n",
      "-----------------------------------\n",
      "Alpha: 3359.818286283781\n",
      "The number of nonzero coefs: 1\n",
      "-----------------------------------\n",
      "Alpha: 4832.930238571752\n",
      "The number of nonzero coefs: 1\n",
      "-----------------------------------\n",
      "Alpha: 6951.927961775606\n",
      "The number of nonzero coefs: 1\n",
      "-----------------------------------\n",
      "Alpha: 10000.0\n",
      "The number of nonzero coefs: 1\n",
      "-----------------------------------\n"
     ]
    }
   ],
   "source": [
    "\n",
    "non_zeros = []\n",
    "for alpha in l1_penalty:\n",
    "    print('Alpha:', alpha)\n",
    "    model_lasso3 = linear_model.Lasso(alpha=alpha, normalize=True)\n",
    "    model3 = model_lasso3.fit(training[all_features], training['price'])\n",
    "    non_zeros.append(np.count_nonzero(model3.coef_)+np.count_nonzero(model3.intercept_))\n",
    "    print('The number of nonzero coefs:',np.count_nonzero(model3.coef_)+np.count_nonzero(model3.intercept_))\n",
    "    print('-----------------------------------')\n",
    "\n"
   ]
  },
  {
   "cell_type": "code",
   "execution_count": 21,
   "metadata": {},
   "outputs": [
    {
     "data": {
      "text/plain": [
       "{10.0: 15,\n",
       " 14.38449888287663: 15,\n",
       " 20.6913808111479: 15,\n",
       " 29.76351441631318: 15,\n",
       " 42.81332398719393: 13,\n",
       " 61.58482110660264: 12,\n",
       " 88.58667904100822: 11,\n",
       " 127.42749857031335: 10,\n",
       " 183.29807108324357: 7,\n",
       " 263.6650898730358: 6,\n",
       " 379.26901907322497: 6,\n",
       " 545.5594781168514: 6,\n",
       " 784.7599703514607: 5,\n",
       " 1128.8378916846884: 3,\n",
       " 1623.776739188721: 3,\n",
       " 2335.7214690901214: 2,\n",
       " 3359.818286283781: 1,\n",
       " 4832.930238571752: 1,\n",
       " 6951.927961775606: 1,\n",
       " 10000.0: 1}"
      ]
     },
     "execution_count": 21,
     "metadata": {},
     "output_type": "execute_result"
    }
   ],
   "source": [
    "\n",
    "alpha_nonzeros = {}\n",
    "for alpha, nonzero in zip(l1_penalty,non_zeros):\n",
    "    alpha_nonzeros[alpha] = nonzero\n",
    "alpha_nonzeros\n",
    "\n"
   ]
  },
  {
   "cell_type": "markdown",
   "metadata": {},
   "source": [
    "\n",
    "<p>What values did you find for l1_penalty_min andl1_penalty_max?</p>\n"
   ]
  },
  {
   "cell_type": "code",
   "execution_count": 22,
   "metadata": {},
   "outputs": [
    {
     "name": "stdout",
     "output_type": "stream",
     "text": [
      "l1_penalty_min: 127.42749857031335\n",
      "l1_penalty_max: 263.6650898730358\n"
     ]
    }
   ],
   "source": [
    "\n",
    "key1 = min([val for val in alpha_nonzeros.values() if val > max_nonzeros])\n",
    "l1_penalty_min = max([k for k, v in alpha_nonzeros.items() if v == key1])\n",
    "print('l1_penalty_min:',l1_penalty_min)\n",
    "\n",
    "key2 = max([val for val in alpha_nonzeros.values() if val < max_nonzeros])\n",
    "l1_penalty_max = min(k for k, v in alpha_nonzeros.items() if v == key2)\n",
    "print('l1_penalty_max:',l1_penalty_max)\n",
    "\n"
   ]
  },
  {
   "cell_type": "markdown",
   "metadata": {},
   "source": [
    "\n",
    "<p>Out of this large range, we want to find the two ends of our desired narrow range of l1_penalty. At one end, we will have l1_penalty values that have too few non-zeros, and at the other end, we will have an l1_penalty that has too many non-zeros.</p>\n",
    "<p>More formally, find:</p>\n",
    "<ul>\n",
    "<li>The largest l1_penalty that has more non-zeros than max_nonzero (if we pick a penalty smaller than this value, we will definitely have too many non-zero weights). Store this value in the variable l1_penalty_min (we will use it later)</li>\n",
    "<li>The smallest l1_penalty that has fewer non-zeros than max_nonzero (if we pick a penalty larger than this value, we will definitely have too few non-zero weights). Store this value in the variable l1_penalty_max (we will use it later)</li>\n",
    "</ul>\n"
   ]
  },
  {
   "cell_type": "markdown",
   "metadata": {},
   "source": [
    "\n",
    "<h5 id=\"3.3-Exploring-a-narrow-range\">3.3 Exploring a narrow range<a class=\"anchor-link\" href=\"https://tung-dn.github.io/prog_ML_reg5.html#3.3-Exploring-a-narrow-range\">Â¶</a></h5><p>We will now explore the narrow region of l1_penalty values we found. We want the solution with the right number of non-zeros and the lowest RSS on the validation set.</p>\n"
   ]
  },
  {
   "cell_type": "code",
   "execution_count": 23,
   "metadata": {},
   "outputs": [
    {
     "name": "stdout",
     "output_type": "stream",
     "text": [
      "Alpha: 156.10909673930755\n",
      "The number of nonzero coefs: 7\n",
      "RSS for Validation data: 45670717723.22954\n",
      "-----------------------------------\n",
      "Alpha: 163.2794962815561\n",
      "The number of nonzero coefs: 7\n",
      "RSS for Validation data: 45747533953.46188\n",
      "-----------------------------------\n",
      "Alpha: 170.44989582380464\n",
      "The number of nonzero coefs: 7\n",
      "RSS for Validation data: 45829444534.52412\n",
      "-----------------------------------\n",
      "Alpha: 177.6202953660532\n",
      "The number of nonzero coefs: 7\n",
      "RSS for Validation data: 45916597113.50973\n",
      "-----------------------------------\n",
      "Alpha: 184.79069490830176\n",
      "The number of nonzero coefs: 7\n",
      "RSS for Validation data: 46009000194.53192\n",
      "-----------------------------------\n",
      "Alpha: 191.96109445055032\n",
      "The number of nonzero coefs: 7\n",
      "RSS for Validation data: 46106879141.27054\n",
      "-----------------------------------\n",
      "Alpha: 199.13149399279888\n",
      "The number of nonzero coefs: 7\n",
      "RSS for Validation data: 46209729096.27548\n",
      "-----------------------------------\n"
     ]
    }
   ],
   "source": [
    "\n",
    "alp_list = []\n",
    "rss_list = []\n",
    "for l1_penalty in np.linspace(l1_penalty_min,l1_penalty_max,20):\n",
    "    model_lasso4 = linear_model.Lasso(alpha=l1_penalty, normalize=True)\n",
    "    model4 = model_lasso4.fit(training[all_features], training['price'])\n",
    "    nonzeros = np.count_nonzero(model4.coef_)+np.count_nonzero(model4.intercept_)\n",
    "    rss = mean_squared_error(validation['price'], model4.predict(validation[all_features]))\n",
    "    if nonzeros == max_nonzeros:\n",
    "        print('Alpha:', l1_penalty)\n",
    "        print('The number of nonzero coefs:',nonzeros)\n",
    "        print('RSS for Validation data:', rss)\n",
    "        print('-----------------------------------')\n",
    "        alp_list.append(l1_penalty)\n",
    "        rss_list.append(rss)\n",
    "\n"
   ]
  },
  {
   "cell_type": "code",
   "execution_count": 24,
   "metadata": {},
   "outputs": [
    {
     "data": {
      "text/plain": [
       "{156.10909673930755: 45670717723.22954,\n",
       " 163.2794962815561: 45747533953.46188,\n",
       " 170.44989582380464: 45829444534.52412,\n",
       " 177.6202953660532: 45916597113.50973,\n",
       " 184.79069490830176: 46009000194.53192,\n",
       " 191.96109445055032: 46106879141.27054,\n",
       " 199.13149399279888: 46209729096.27548}"
      ]
     },
     "execution_count": 24,
     "metadata": {},
     "output_type": "execute_result"
    }
   ],
   "source": [
    "\n",
    "alp_rss = {}\n",
    "for alp, rss in zip(alp_list, rss_list):\n",
    "    alp_rss[alp] = rss\n",
    "alp_rss\n",
    "\n"
   ]
  },
  {
   "cell_type": "markdown",
   "metadata": {},
   "source": [
    "\n",
    "<p>What value of l1_penalty in our narrow range has the lowest RSS on the VALIDATION set and has sparsity equal to max_nonzeros?</p>\n"
   ]
  },
  {
   "cell_type": "code",
   "execution_count": 25,
   "metadata": {},
   "outputs": [
    {
     "name": "stdout",
     "output_type": "stream",
     "text": [
      "Alpha for min RSS: 156.10909673930755\n"
     ]
    }
   ],
   "source": [
    "\n",
    "alpha_for_min_rss = min(alp_rss.keys(), key = lambda i: alp_rss[i])\n",
    "print('Alpha for min RSS:',alpha_for_min_rss)\n",
    "\n"
   ]
  },
  {
   "cell_type": "markdown",
   "metadata": {},
   "source": [
    "\n",
    "<p>What features in this model have non-zero coefficients?</p>\n"
   ]
  },
  {
   "cell_type": "code",
   "execution_count": 26,
   "metadata": {},
   "outputs": [
    {
     "data": {
      "text/plain": [
       "{'bedrooms': -0.0,\n",
       " 'bedrooms_square': -0.0,\n",
       " 'bathrooms': 10610.8902843983,\n",
       " 'sqft_living': 163.3802516476289,\n",
       " 'sqft_living_sqrt': 0.0,\n",
       " 'sqft_lot': -0.0,\n",
       " 'sqft_lot_sqrt': -0.0,\n",
       " 'floors': 0.0,\n",
       " 'floors_square': 0.0,\n",
       " 'waterfront': 506451.68711484916,\n",
       " 'view': 41960.04355485288,\n",
       " 'condition': 0.0,\n",
       " 'grade': 116253.55369970748,\n",
       " 'sqft_above': 0.0,\n",
       " 'sqft_basement': 0.0,\n",
       " 'yr_built': -2612.2348803574882,\n",
       " 'yr_renovated': 0.0}"
      ]
     },
     "execution_count": 26,
     "metadata": {},
     "output_type": "execute_result"
    }
   ],
   "source": [
    "\n",
    "model_lasso5 = linear_model.Lasso(alpha= alpha_for_min_rss, normalize = True)\n",
    "model5 = model_lasso5.fit(training[all_features], training['price'])\n",
    "model5_coef = {}\n",
    "for feat, coef in zip(all_features, model5.coef_):\n",
    "    model5_coef[feat] = coef\n",
    "model5_coef\n",
    "\n"
   ]
  },
  {
   "cell_type": "markdown",
   "metadata": {},
   "source": [
    "\n",
    "<h3 id=\"4.-LASSO-Regression-with-Coordinate-Descent\">4. LASSO Regression with Coordinate Descent<a class=\"anchor-link\" href=\"https://tung-dn.github.io/prog_ML_reg5.html#4.-LASSO-Regression-with-Coordinate-Descent\">Â¶</a></h3>\n"
   ]
  },
  {
   "cell_type": "markdown",
   "metadata": {},
   "source": [
    "\n",
    "<p>We will implement your very own LASSO solver via coordinate descent by writing a function to normalize features, implementing coordinate descent for LASSO, and exploring effects of L1 penalty.</p>\n"
   ]
  },
  {
   "cell_type": "code",
   "execution_count": 27,
   "metadata": {},
   "outputs": [],
   "source": [
    "\n",
    "### The get_numpy_data function\n",
    "def get_numpy_data(data_sframe, features, output):\n",
    "    features_matrix = data_sframe[features] \n",
    "    features_matrix['constant'] = 1\n",
    "    features.insert(0, 'constant')\n",
    "    features_matrix = features_matrix[features]\n",
    "    features_matrix = np.array(features_matrix)\n",
    "    output_array = data_sframe[output]\n",
    "    output_array = np.array(output_array)\n",
    "    return(features_matrix, output_array)\n",
    "\n"
   ]
  },
  {
   "cell_type": "code",
   "execution_count": 28,
   "metadata": {},
   "outputs": [],
   "source": [
    "\n",
    "### The predict_output function\n",
    "def predict_output(feature_matrix, weights):\n",
    "    x_arr = feature_matrix*weights\n",
    "    predictions = x_arr.sum(axis = 1)\n",
    "    return predictions\n",
    "\n"
   ]
  },
  {
   "cell_type": "markdown",
   "metadata": {},
   "source": [
    "\n",
    "<p>In the house dataset, features vary wildly in their relative magnitude: sqft_living is very large overall compared to bedrooms, for instance. As a result, weight for sqft_living would be much smaller than weight for bedrooms. This is problematic because \"small\" weights are dropped first as l1_penalty goes up.</p>\n",
    "<p>To give equal considerations for all features, we need to normalize features as discussed in the lectures: we divide each feature by its 2-norm so that the transformed feature has norm 1.</p>\n",
    "<p>Let's see how we can do this normalization easily with Numpy: let us first consider a small matrix.</p>\n"
   ]
  },
  {
   "cell_type": "code",
   "execution_count": 29,
   "metadata": {},
   "outputs": [],
   "source": [
    "\n",
    "def normalize_features(features_matrix):\n",
    "    norms = np.linalg.norm(features_matrix, axis=0)\n",
    "    normalized_features = features_matrix / norms\n",
    "    return (normalized_features, norms)\n",
    "\n"
   ]
  },
  {
   "cell_type": "markdown",
   "metadata": {},
   "source": [
    "\n",
    "<h5 id=\"4.1-Implementing-Coordinate-Descent-with-normalized-features\">4.1 Implementing Coordinate Descent with normalized features<a class=\"anchor-link\" href=\"https://tung-dn.github.io/prog_ML_reg5.html#4.1-Implementing-Coordinate-Descent-with-normalized-features\">Â¶</a></h5>\n"
   ]
  },
  {
   "cell_type": "code",
   "execution_count": 30,
   "metadata": {},
   "outputs": [
    {
     "name": "stderr",
     "output_type": "stream",
     "text": [
      "<ipython-input-27-95fa8d050fdb>:4: SettingWithCopyWarning: \n",
      "A value is trying to be set on a copy of a slice from a DataFrame.\n",
      "Try using .loc[row_indexer,col_indexer] = value instead\n",
      "\n",
      "See the caveats in the documentation: https://pandas.pydata.org/pandas-docs/stable/user_guide/indexing.html#returning-a-view-versus-a-copy\n",
      "  features_matrix['constant'] = 1\n"
     ]
    }
   ],
   "source": [
    "\n",
    "feature, price = get_numpy_data(sales, ['sqft_living', 'bedrooms'], 'price')\n",
    "\n"
   ]
  },
  {
   "cell_type": "code",
   "execution_count": 31,
   "metadata": {},
   "outputs": [],
   "source": [
    "\n",
    "normalized_features, norms = normalize_features(feature)\n",
    "\n"
   ]
  },
  {
   "cell_type": "code",
   "execution_count": 32,
   "metadata": {},
   "outputs": [
    {
     "name": "stdout",
     "output_type": "stream",
     "text": [
      "79400300.01452291\n",
      "87939470.82325175\n",
      "80966698.66623946\n",
      "[79400300.01452291, 87939470.82325175, 80966698.66623946]\n"
     ]
    }
   ],
   "source": [
    "\n",
    "ro = [0, 0, 0]\n",
    "w = [1,4,1]\n",
    "prediction = predict_output(normalized_features, w)\n",
    "for i in range(normalized_features.shape[1]):\n",
    "    prediction = predict_output(normalized_features, w)\n",
    "    error = price - prediction + normalized_features[:,i]*w[i]\n",
    "    ro[i] = np.dot(normalized_features[:,i],error.transpose())\n",
    "    print(ro[i])\n",
    "print(ro)\n",
    "\n"
   ]
  },
  {
   "cell_type": "code",
   "execution_count": 33,
   "metadata": {},
   "outputs": [
    {
     "name": "stdout",
     "output_type": "stream",
     "text": [
      "The range of values of l1_penalty: between 161933397.33247897 and 175878941.6465035\n"
     ]
    }
   ],
   "source": [
    "\n",
    "print('The range of values of l1_penalty: between', 80966698.66623949*2,'and', 87939470.82325175*2)\n",
    "\n"
   ]
  },
  {
   "cell_type": "markdown",
   "metadata": {},
   "source": [
    "\n",
    "<h5 id=\"4.2-Single-Coordinate-Descent-Step\">4.2 Single Coordinate Descent Step<a class=\"anchor-link\" href=\"https://tung-dn.github.io/prog_ML_reg5.html#4.2-Single-Coordinate-Descent-Step\">Â¶</a></h5><p>Using the formula above, implement coordinate descent that minimizes the cost function over a single feature i. Note that the intercept (weight 0) is not regularized. The function should accept feature matrix, output, current weights, l1 penalty, and index of feature to optimize over. The function should return new weight for feature i.</p>\n"
   ]
  },
  {
   "cell_type": "code",
   "execution_count": 34,
   "metadata": {},
   "outputs": [],
   "source": [
    "\n",
    "def zerolistmaker(n):\n",
    "    listofzeros = [0] * n\n",
    "    return listofzeros\n",
    "def lasso_coordinate_descent_step(i,feature_matrix, output, weights, l1_penalty):\n",
    "    \n",
    "    prediction = predict_output(feature_matrix, weights)\n",
    "    error = output - prediction + feature_matrix[:,i]*weights[i]\n",
    "    ro = np.dot(feature_matrix[:,i],error.transpose())\n",
    "\n",
    "    if i == 0:\n",
    "        weights = ro\n",
    "    elif ro < -l1_penalty/2.:\n",
    "        weights = ro + l1_penalty/2\n",
    "    elif ro > l1_penalty/2.:\n",
    "        weights = ro - l1_penalty/2\n",
    "    else:\n",
    "        weights = 0.\n",
    "    return weights\n",
    "\n"
   ]
  },
  {
   "cell_type": "code",
   "execution_count": 35,
   "metadata": {},
   "outputs": [
    {
     "name": "stdout",
     "output_type": "stream",
     "text": [
      "0.4255588466910251\n"
     ]
    }
   ],
   "source": [
    "\n",
    "# should print 0.425558846691\n",
    "import math\n",
    "print (lasso_coordinate_descent_step(1, np.array([[3./math.sqrt(13),1./math.sqrt(10)],\n",
    "                   [2./math.sqrt(13),3./math.sqrt(10)]]), np.array([1., 1.]), np.array([1., 4.]), 0.1))\n",
    "\n"
   ]
  },
  {
   "cell_type": "markdown",
   "metadata": {},
   "source": [
    "\n",
    "<h5 id=\"4.3-Cyclical-coordinate-descent\">4.3 Cyclical coordinate descent<a class=\"anchor-link\" href=\"https://tung-dn.github.io/prog_ML_reg5.html#4.3-Cyclical-coordinate-descent\">Â¶</a></h5><p>Now that we have a function that optimizes the cost function over a single coordinate, let us implement cyclical coordinate descent where we optimize coordinates 0, 1, ..., (d-1) in order and repeat.</p>\n"
   ]
  },
  {
   "cell_type": "code",
   "execution_count": 36,
   "metadata": {},
   "outputs": [],
   "source": [
    "\n",
    "def lasso_cyclical_coordinate_descent(normalized_features, output, initial_weights, l1_penalty, tolerance):\n",
    "    \n",
    "    weights = initial_weights\n",
    "    ini_weights = initial_weights\n",
    "    loop = 0\n",
    "    \n",
    "    weights_change = zerolistmaker(normalized_features.shape[1])\n",
    "    \n",
    "    converged = False\n",
    "\n",
    "    while not converged:\n",
    "      \n",
    "        loop+=1\n",
    "                             \n",
    "        for i in range(len(weights)):   \n",
    "                    \n",
    "            weights_new = lasso_coordinate_descent_step(i,normalized_features, output, weights, l1_penalty)\n",
    "            weights_change[i] =  np.abs(weights_new - weights[i])\n",
    "            weights[i] = weights_new\n",
    "        \n",
    "        max_change = max(weights_change)\n",
    "        \n",
    "\n",
    "        if max_change < tolerance:\n",
    "            converged = True\n",
    "\n",
    "    return weights\n",
    "\n"
   ]
  },
  {
   "cell_type": "code",
   "execution_count": 44,
   "metadata": {},
   "outputs": [
    {
     "name": "stdout",
     "output_type": "stream",
     "text": [
      "[79400304.63764462, 0.0, 0.0]\n"
     ]
    },
    {
     "name": "stderr",
     "output_type": "stream",
     "text": [
      "<ipython-input-27-95fa8d050fdb>:4: SettingWithCopyWarning: \n",
      "A value is trying to be set on a copy of a slice from a DataFrame.\n",
      "Try using .loc[row_indexer,col_indexer] = value instead\n",
      "\n",
      "See the caveats in the documentation: https://pandas.pydata.org/pandas-docs/stable/user_guide/indexing.html#returning-a-view-versus-a-copy\n",
      "  features_matrix['constant'] = 1\n"
     ]
    }
   ],
   "source": [
    "\n",
    "feature, price = get_numpy_data(sales,['sqft_living', 'bedrooms'], 'price')\n",
    "\n",
    "initial_weights = [0., 0., 0.]\n",
    "l1_penalty = 1.4e8\n",
    "tolerance = 1.0\n",
    "\n",
    "w = lasso_cyclical_coordinate_descent(normalized_features, price, initial_weights, l1_penalty, tolerance)\n",
    "print(w)"
   ]
  },
  {
   "cell_type": "markdown",
   "metadata": {},
   "source": [
    "\n",
    "<h5 id=\"4.4-Evaluating-LASSO-fit-with-more-features\">4.4 Evaluating LASSO fit with more features<a class=\"anchor-link\" href=\"https://tung-dn.github.io/prog_ML_reg5.html#4.4-Evaluating-LASSO-fit-with-more-features\">Â¶</a></h5><p>Let us split the sales dataset into training and test sets, and create a normalized feature matrix from the training data with more features.</p>\n"
   ]
  },
  {
   "cell_type": "code",
   "execution_count": 39,
   "metadata": {},
   "outputs": [],
   "source": [
    "\n",
    "training = pd.read_csv('kc_house_train_data.csv', dtype = dtype_dict)\n",
    "testing = pd.read_csv('kc_house_test_data.csv', dtype = dtype_dict)\n",
    "### Let us consider the following set of features.\n",
    "more_features = ['bedrooms', 'bathrooms', 'sqft_living', 'sqft_lot', 'floors', 'waterfront', \n",
    "                'view', 'condition', 'grade', 'sqft_above', 'sqft_basement', 'yr_built', 'yr_renovated']\n",
    "\n"
   ]
  },
  {
   "cell_type": "code",
   "execution_count": 45,
   "metadata": {},
   "outputs": [
    {
     "name": "stderr",
     "output_type": "stream",
     "text": [
      "<ipython-input-27-95fa8d050fdb>:4: SettingWithCopyWarning: \n",
      "A value is trying to be set on a copy of a slice from a DataFrame.\n",
      "Try using .loc[row_indexer,col_indexer] = value instead\n",
      "\n",
      "See the caveats in the documentation: https://pandas.pydata.org/pandas-docs/stable/user_guide/indexing.html#returning-a-view-versus-a-copy\n",
      "  features_matrix['constant'] = 1\n"
     ]
    },
    {
     "ename": "ValueError",
     "evalue": "operands could not be broadcast together with shapes (17384,) (21613,) ",
     "output_type": "error",
     "traceback": [
      "\u001b[1;31m---------------------------------------------------------------------------\u001b[0m",
      "\u001b[1;31mValueError\u001b[0m                                Traceback (most recent call last)",
      "\u001b[1;32m<ipython-input-45-00e372a1a60b>\u001b[0m in \u001b[0;36m<module>\u001b[1;34m\u001b[0m\n\u001b[0;32m      5\u001b[0m \u001b[0mtolerance\u001b[0m \u001b[1;33m=\u001b[0m \u001b[1;36m1.0\u001b[0m\u001b[1;33m\u001b[0m\u001b[1;33m\u001b[0m\u001b[0m\n\u001b[0;32m      6\u001b[0m \u001b[1;33m\u001b[0m\u001b[0m\n\u001b[1;32m----> 7\u001b[1;33m \u001b[0mw\u001b[0m \u001b[1;33m=\u001b[0m \u001b[0mlasso_cyclical_coordinate_descent\u001b[0m\u001b[1;33m(\u001b[0m\u001b[0mnormalized_features\u001b[0m\u001b[1;33m,\u001b[0m \u001b[0mprice\u001b[0m\u001b[1;33m,\u001b[0m \u001b[0minitial_weights\u001b[0m\u001b[1;33m,\u001b[0m \u001b[0ml1_penalty\u001b[0m\u001b[1;33m,\u001b[0m \u001b[0mtolerance\u001b[0m\u001b[1;33m)\u001b[0m\u001b[1;33m\u001b[0m\u001b[1;33m\u001b[0m\u001b[0m\n\u001b[0m\u001b[0;32m      8\u001b[0m \u001b[0mprint\u001b[0m\u001b[1;33m(\u001b[0m\u001b[0mw\u001b[0m\u001b[1;33m)\u001b[0m\u001b[1;33m\u001b[0m\u001b[1;33m\u001b[0m\u001b[0m\n",
      "\u001b[1;32m<ipython-input-36-5f03a5d05ad3>\u001b[0m in \u001b[0;36mlasso_cyclical_coordinate_descent\u001b[1;34m(normalized_features, output, initial_weights, l1_penalty, tolerance)\u001b[0m\n\u001b[0;32m     15\u001b[0m         \u001b[1;32mfor\u001b[0m \u001b[0mi\u001b[0m \u001b[1;32min\u001b[0m \u001b[0mrange\u001b[0m\u001b[1;33m(\u001b[0m\u001b[0mlen\u001b[0m\u001b[1;33m(\u001b[0m\u001b[0mweights\u001b[0m\u001b[1;33m)\u001b[0m\u001b[1;33m)\u001b[0m\u001b[1;33m:\u001b[0m\u001b[1;33m\u001b[0m\u001b[1;33m\u001b[0m\u001b[0m\n\u001b[0;32m     16\u001b[0m \u001b[1;33m\u001b[0m\u001b[0m\n\u001b[1;32m---> 17\u001b[1;33m             \u001b[0mweights_new\u001b[0m \u001b[1;33m=\u001b[0m \u001b[0mlasso_coordinate_descent_step\u001b[0m\u001b[1;33m(\u001b[0m\u001b[0mi\u001b[0m\u001b[1;33m,\u001b[0m\u001b[0mnormalized_features\u001b[0m\u001b[1;33m,\u001b[0m \u001b[0moutput\u001b[0m\u001b[1;33m,\u001b[0m \u001b[0mweights\u001b[0m\u001b[1;33m,\u001b[0m \u001b[0ml1_penalty\u001b[0m\u001b[1;33m)\u001b[0m\u001b[1;33m\u001b[0m\u001b[1;33m\u001b[0m\u001b[0m\n\u001b[0m\u001b[0;32m     18\u001b[0m             \u001b[0mweights_change\u001b[0m\u001b[1;33m[\u001b[0m\u001b[0mi\u001b[0m\u001b[1;33m]\u001b[0m \u001b[1;33m=\u001b[0m  \u001b[0mnp\u001b[0m\u001b[1;33m.\u001b[0m\u001b[0mabs\u001b[0m\u001b[1;33m(\u001b[0m\u001b[0mweights_new\u001b[0m \u001b[1;33m-\u001b[0m \u001b[0mweights\u001b[0m\u001b[1;33m[\u001b[0m\u001b[0mi\u001b[0m\u001b[1;33m]\u001b[0m\u001b[1;33m)\u001b[0m\u001b[1;33m\u001b[0m\u001b[1;33m\u001b[0m\u001b[0m\n\u001b[0;32m     19\u001b[0m             \u001b[0mweights\u001b[0m\u001b[1;33m[\u001b[0m\u001b[0mi\u001b[0m\u001b[1;33m]\u001b[0m \u001b[1;33m=\u001b[0m \u001b[0mweights_new\u001b[0m\u001b[1;33m\u001b[0m\u001b[1;33m\u001b[0m\u001b[0m\n",
      "\u001b[1;32m<ipython-input-34-69f6d9180916>\u001b[0m in \u001b[0;36mlasso_coordinate_descent_step\u001b[1;34m(i, feature_matrix, output, weights, l1_penalty)\u001b[0m\n\u001b[0;32m      5\u001b[0m \u001b[1;33m\u001b[0m\u001b[0m\n\u001b[0;32m      6\u001b[0m     \u001b[0mprediction\u001b[0m \u001b[1;33m=\u001b[0m \u001b[0mpredict_output\u001b[0m\u001b[1;33m(\u001b[0m\u001b[0mfeature_matrix\u001b[0m\u001b[1;33m,\u001b[0m \u001b[0mweights\u001b[0m\u001b[1;33m)\u001b[0m\u001b[1;33m\u001b[0m\u001b[1;33m\u001b[0m\u001b[0m\n\u001b[1;32m----> 7\u001b[1;33m     \u001b[0merror\u001b[0m \u001b[1;33m=\u001b[0m \u001b[0moutput\u001b[0m \u001b[1;33m-\u001b[0m \u001b[0mprediction\u001b[0m \u001b[1;33m+\u001b[0m \u001b[0mfeature_matrix\u001b[0m\u001b[1;33m[\u001b[0m\u001b[1;33m:\u001b[0m\u001b[1;33m,\u001b[0m\u001b[0mi\u001b[0m\u001b[1;33m]\u001b[0m\u001b[1;33m*\u001b[0m\u001b[0mweights\u001b[0m\u001b[1;33m[\u001b[0m\u001b[0mi\u001b[0m\u001b[1;33m]\u001b[0m\u001b[1;33m\u001b[0m\u001b[1;33m\u001b[0m\u001b[0m\n\u001b[0m\u001b[0;32m      8\u001b[0m     \u001b[0mro\u001b[0m \u001b[1;33m=\u001b[0m \u001b[0mnp\u001b[0m\u001b[1;33m.\u001b[0m\u001b[0mdot\u001b[0m\u001b[1;33m(\u001b[0m\u001b[0mfeature_matrix\u001b[0m\u001b[1;33m[\u001b[0m\u001b[1;33m:\u001b[0m\u001b[1;33m,\u001b[0m\u001b[0mi\u001b[0m\u001b[1;33m]\u001b[0m\u001b[1;33m,\u001b[0m\u001b[0merror\u001b[0m\u001b[1;33m.\u001b[0m\u001b[0mtranspose\u001b[0m\u001b[1;33m(\u001b[0m\u001b[1;33m)\u001b[0m\u001b[1;33m)\u001b[0m\u001b[1;33m\u001b[0m\u001b[1;33m\u001b[0m\u001b[0m\n\u001b[0;32m      9\u001b[0m \u001b[1;33m\u001b[0m\u001b[0m\n",
      "\u001b[1;31mValueError\u001b[0m: operands could not be broadcast together with shapes (17384,) (21613,) "
     ]
    }
   ],
   "source": [
    "feature, price = get_numpy_data(training, ['sqft_living', 'bedrooms'], 'price')\n",
    "\n",
    "initial_weights = [0., 0., 0.]\n",
    "l1_penalty = 1.4e8\n",
    "tolerance = 1.0\n",
    "\n",
    "w = lasso_cyclical_coordinate_descent(normalized_features, price, initial_weights, l1_penalty, tolerance)\n",
    "print(w)"
   ]
  },
  {
   "cell_type": "markdown",
   "metadata": {},
   "source": [
    "\n",
    "<p>First, create a normalized feature matrix from the TRAINING data with these features. (Make you store the norms for the normalization, since we'll use them later)</p>\n"
   ]
  },
  {
   "cell_type": "code",
   "execution_count": 40,
   "metadata": {},
   "outputs": [
    {
     "name": "stderr",
     "output_type": "stream",
     "text": [
      "<ipython-input-27-95fa8d050fdb>:4: SettingWithCopyWarning: \n",
      "A value is trying to be set on a copy of a slice from a DataFrame.\n",
      "Try using .loc[row_indexer,col_indexer] = value instead\n",
      "\n",
      "See the caveats in the documentation: https://pandas.pydata.org/pandas-docs/stable/user_guide/indexing.html#returning-a-view-versus-a-copy\n",
      "  features_matrix['constant'] = 1\n"
     ]
    }
   ],
   "source": [
    "\n",
    "feature1, price1 = get_numpy_data(training, more_features, 'price')\n",
    "normalized_features1, norms1 = normalize_features(feature1)\n",
    "\n"
   ]
  },
  {
   "cell_type": "code",
   "execution_count": 41,
   "metadata": {},
   "outputs": [
    {
     "data": {
      "text/plain": [
       "{'constant': 24429600.23440313,\n",
       " 'bedrooms': 0.0,\n",
       " 'bathrooms': 0.0,\n",
       " 'sqft_living': 48389174.77154894,\n",
       " 'sqft_lot': 0.0,\n",
       " 'floors': 0.0,\n",
       " 'waterfront': 3317511.214921655,\n",
       " 'view': 7329961.811714258,\n",
       " 'condition': 0.0,\n",
       " 'grade': 0.0,\n",
       " 'sqft_above': 0.0,\n",
       " 'sqft_basement': 0.0,\n",
       " 'yr_built': 0.0,\n",
       " 'yr_renovated': 0.0}"
      ]
     },
     "execution_count": 41,
     "metadata": {},
     "output_type": "execute_result"
    }
   ],
   "source": [
    "\n",
    "### l1_penalty=1e7\n",
    "\n",
    "initial_weights1 = [0.]*len(more_features)\n",
    "l1_penalty = 1e7\n",
    "tolerance = 1.0\n",
    "\n",
    "weights1e7 = lasso_cyclical_coordinate_descent(normalized_features1, price1, initial_weights1, l1_penalty, tolerance)\n",
    "weights1e7_dict = {}\n",
    "for feat, coef in zip(more_features, weights1e7):\n",
    "    weights1e7_dict[feat] = coef\n",
    "weights1e7_dict\n",
    "\n"
   ]
  },
  {
   "cell_type": "code",
   "execution_count": 42,
   "metadata": {},
   "outputs": [
    {
     "name": "stdout",
     "output_type": "stream",
     "text": [
      "[71114625.71488702, 0.0, 0.0, 0.0, 0.0, 0.0, 0.0, 0.0, 0.0, 0.0, 0.0, 0.0, 0.0, 0.0]\n"
     ]
    },
    {
     "data": {
      "text/plain": [
       "{'constant': 71114625.71488702,\n",
       " 'bedrooms': 0.0,\n",
       " 'bathrooms': 0.0,\n",
       " 'sqft_living': 0.0,\n",
       " 'sqft_lot': 0.0,\n",
       " 'floors': 0.0,\n",
       " 'waterfront': 0.0,\n",
       " 'view': 0.0,\n",
       " 'condition': 0.0,\n",
       " 'grade': 0.0,\n",
       " 'sqft_above': 0.0,\n",
       " 'sqft_basement': 0.0,\n",
       " 'yr_built': 0.0,\n",
       " 'yr_renovated': 0.0}"
      ]
     },
     "execution_count": 42,
     "metadata": {},
     "output_type": "execute_result"
    }
   ],
   "source": [
    "\n",
    "### l1_penalty=1e8\n",
    "\n",
    "initial_weights1 = [0.]*len(more_features)\n",
    "l1_penalty = 1e8\n",
    "tolerance = 1.0\n",
    "\n",
    "weights1e8 = lasso_cyclical_coordinate_descent(normalized_features1, price1, initial_weights1, l1_penalty, tolerance)\n",
    "print(weights1e8)\n",
    "weights1e8_dict = {}\n",
    "for feat, coef in zip(more_features, weights1e8):\n",
    "    weights1e8_dict[feat] = coef\n",
    "weights1e8_dict\n",
    "\n"
   ]
  },
  {
   "cell_type": "code",
   "execution_count": 46,
   "metadata": {},
   "outputs": [
    {
     "data": {
      "text/plain": [
       "{'constant': 78564738.3415675,\n",
       " 'bedrooms': -22097398.92430525,\n",
       " 'bathrooms': 12791071.872785175,\n",
       " 'sqft_living': 93808088.09281197,\n",
       " 'sqft_lot': -2013172.7570495391,\n",
       " 'floors': -4219184.932650151,\n",
       " 'waterfront': 6482842.817535066,\n",
       " 'view': 7127408.534806887,\n",
       " 'condition': 5001664.854696428,\n",
       " 'grade': 14327518.437140517,\n",
       " 'sqft_above': -15770959.152374009,\n",
       " 'sqft_basement': -5159591.2221314935,\n",
       " 'yr_built': -84495341.76843639,\n",
       " 'yr_renovated': 2824439.497036839}"
      ]
     },
     "execution_count": 46,
     "metadata": {},
     "output_type": "execute_result"
    }
   ],
   "source": [
    "\n",
    "### l1_penalty=1e4\n",
    "\n",
    "initial_weights1 = [0.]*len(more_features)\n",
    "l1_penalty = 1e4\n",
    "tolerance = 5e5\n",
    "\n",
    "weights1e4 = lasso_cyclical_coordinate_descent(normalized_features1, price1, initial_weights1, l1_penalty, tolerance)\n",
    "weights1e4_dict = {}\n",
    "for feat, coef in zip(more_features, weights1e4):\n",
    "    weights1e4_dict[feat] = coef\n",
    "weights1e4_dict\n",
    "\n"
   ]
  },
  {
   "cell_type": "markdown",
   "metadata": {},
   "source": [
    "\n",
    "<h5 id=\"4.5-Rescaling-learned-weights\">4.5 Rescaling learned weights<a class=\"anchor-link\" href=\"https://tung-dn.github.io/prog_ML_reg5.html#4.5-Rescaling-learned-weights\">Â¶</a></h5><p>Create a normalized version of each of the weights learned above. (weights1e4, weights1e7, weights1e8).</p>\n"
   ]
  },
  {
   "cell_type": "code",
   "execution_count": 47,
   "metadata": {},
   "outputs": [],
   "source": [
    "\n",
    "weights1e7_normalized = weights1e7 / norms1\n",
    "weights1e8_normalized = weights1e8 / norms1\n",
    "weights1e4_normalized = weights1e4 / norms1\n",
    "\n"
   ]
  },
  {
   "cell_type": "markdown",
   "metadata": {},
   "source": [
    "\n",
    "<p>Evaluating each of the learned models on the test data</p>\n"
   ]
  },
  {
   "cell_type": "code",
   "execution_count": 48,
   "metadata": {},
   "outputs": [
    {
     "name": "stderr",
     "output_type": "stream",
     "text": [
      "<ipython-input-27-95fa8d050fdb>:4: SettingWithCopyWarning: \n",
      "A value is trying to be set on a copy of a slice from a DataFrame.\n",
      "Try using .loc[row_indexer,col_indexer] = value instead\n",
      "\n",
      "See the caveats in the documentation: https://pandas.pydata.org/pandas-docs/stable/user_guide/indexing.html#returning-a-view-versus-a-copy\n",
      "  features_matrix['constant'] = 1\n"
     ]
    }
   ],
   "source": [
    "\n",
    "more_features = ['bedrooms', 'bathrooms', 'sqft_living', 'sqft_lot', 'floors', 'waterfront', \n",
    "                'view', 'condition', 'grade', 'sqft_above', 'sqft_basement', 'yr_built', 'yr_renovated']\n",
    "(feature2, price2) = get_numpy_data(testing, more_features, 'price')\n",
    "\n"
   ]
  },
  {
   "cell_type": "code",
   "execution_count": 49,
   "metadata": {},
   "outputs": [
    {
     "name": "stdout",
     "output_type": "stream",
     "text": [
      "RSS 228459958971393.2\n",
      "RSS 275962075920366.8\n",
      "RSS 537166151497322.75\n"
     ]
    }
   ],
   "source": [
    "\n",
    "weights_list = [weights1e4_normalized, weights1e7_normalized, weights1e8_normalized]\n",
    "for w in weights_list:\n",
    "    w_array = np.array(w)\n",
    "    y_pred = np.dot(feature2, w_array)\n",
    "    rss = (np.square(price2 - y_pred)).sum()\n",
    "    print('RSS', rss)\n",
    "\n"
   ]
  },
  {
   "cell_type": "code",
   "execution_count": null,
   "metadata": {},
   "outputs": [],
   "source": []
  }
 ],
 "metadata": {
  "kernelspec": {
   "display_name": "Python 3",
   "language": "python",
   "name": "python3"
  },
  "language_info": {
   "codemirror_mode": {
    "name": "ipython",
    "version": 3
   },
   "file_extension": ".py",
   "mimetype": "text/x-python",
   "name": "python",
   "nbconvert_exporter": "python",
   "pygments_lexer": "ipython3",
   "version": "3.8.3"
  }
 },
 "nbformat": 4,
 "nbformat_minor": 1
}
