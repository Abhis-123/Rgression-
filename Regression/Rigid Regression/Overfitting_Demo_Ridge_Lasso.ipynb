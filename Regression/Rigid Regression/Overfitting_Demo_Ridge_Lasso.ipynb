{
 "cells": [
  {
   "cell_type": "markdown",
   "metadata": {},
   "source": [
    "# Overfitting demo\n",
    "\n",
    "## Create a dataset based on a true sinusoidal relationship\n",
    "Let's look at a synthetic dataset consisting of 30 points drawn from the sinusoid $y = \\sin(4x)$:"
   ]
  },
  {
   "cell_type": "code",
   "execution_count": 2,
   "metadata": {},
   "outputs": [],
   "source": [
    "import sklearn as sk\n",
    "import math\n",
    "import random\n",
    "import numpy\n",
    "from matplotlib import pyplot as plt\n",
    "%matplotlib inline"
   ]
  },
  {
   "cell_type": "code",
   "execution_count": 3,
   "metadata": {},
   "outputs": [],
   "source": [
    "import pandas as pd"
   ]
  },
  {
   "cell_type": "markdown",
   "metadata": {},
   "source": [
    "Create random values for x in interval [0,1)"
   ]
  },
  {
   "cell_type": "markdown",
   "metadata": {},
   "source": [
    "### Put data into an SFrame to manipulate later"
   ]
  },
  {
   "cell_type": "code",
   "execution_count": 4,
   "metadata": {},
   "outputs": [
    {
     "data": {
      "text/html": [
       "<div>\n",
       "<style scoped>\n",
       "    .dataframe tbody tr th:only-of-type {\n",
       "        vertical-align: middle;\n",
       "    }\n",
       "\n",
       "    .dataframe tbody tr th {\n",
       "        vertical-align: top;\n",
       "    }\n",
       "\n",
       "    .dataframe thead th {\n",
       "        text-align: right;\n",
       "    }\n",
       "</style>\n",
       "<table border=\"1\" class=\"dataframe\">\n",
       "  <thead>\n",
       "    <tr style=\"text-align: right;\">\n",
       "      <th></th>\n",
       "      <th>X1</th>\n",
       "      <th>Y</th>\n",
       "    </tr>\n",
       "  </thead>\n",
       "  <tbody>\n",
       "    <tr>\n",
       "      <th>0</th>\n",
       "      <td>0.039579</td>\n",
       "      <td>0.587050</td>\n",
       "    </tr>\n",
       "    <tr>\n",
       "      <th>1</th>\n",
       "      <td>0.041568</td>\n",
       "      <td>0.648656</td>\n",
       "    </tr>\n",
       "    <tr>\n",
       "      <th>2</th>\n",
       "      <td>0.072432</td>\n",
       "      <td>0.307803</td>\n",
       "    </tr>\n",
       "    <tr>\n",
       "      <th>3</th>\n",
       "      <td>0.150289</td>\n",
       "      <td>0.310748</td>\n",
       "    </tr>\n",
       "    <tr>\n",
       "      <th>4</th>\n",
       "      <td>0.161334</td>\n",
       "      <td>0.237410</td>\n",
       "    </tr>\n",
       "    <tr>\n",
       "      <th>5</th>\n",
       "      <td>0.191956</td>\n",
       "      <td>0.705017</td>\n",
       "    </tr>\n",
       "    <tr>\n",
       "      <th>6</th>\n",
       "      <td>0.232834</td>\n",
       "      <td>0.461717</td>\n",
       "    </tr>\n",
       "    <tr>\n",
       "      <th>7</th>\n",
       "      <td>0.259901</td>\n",
       "      <td>0.383261</td>\n",
       "    </tr>\n",
       "    <tr>\n",
       "      <th>8</th>\n",
       "      <td>0.380146</td>\n",
       "      <td>1.065180</td>\n",
       "    </tr>\n",
       "    <tr>\n",
       "      <th>9</th>\n",
       "      <td>0.432445</td>\n",
       "      <td>1.031850</td>\n",
       "    </tr>\n",
       "    <tr>\n",
       "      <th>10</th>\n",
       "      <td>0.470567</td>\n",
       "      <td>1.134040</td>\n",
       "    </tr>\n",
       "    <tr>\n",
       "      <th>11</th>\n",
       "      <td>0.471495</td>\n",
       "      <td>0.646083</td>\n",
       "    </tr>\n",
       "    <tr>\n",
       "      <th>12</th>\n",
       "      <td>0.478706</td>\n",
       "      <td>0.943072</td>\n",
       "    </tr>\n",
       "    <tr>\n",
       "      <th>13</th>\n",
       "      <td>0.490536</td>\n",
       "      <td>0.902816</td>\n",
       "    </tr>\n",
       "    <tr>\n",
       "      <th>14</th>\n",
       "      <td>0.546780</td>\n",
       "      <td>0.314066</td>\n",
       "    </tr>\n",
       "    <tr>\n",
       "      <th>15</th>\n",
       "      <td>0.569680</td>\n",
       "      <td>0.939045</td>\n",
       "    </tr>\n",
       "    <tr>\n",
       "      <th>16</th>\n",
       "      <td>0.607932</td>\n",
       "      <td>0.758633</td>\n",
       "    </tr>\n",
       "    <tr>\n",
       "      <th>17</th>\n",
       "      <td>0.620238</td>\n",
       "      <td>1.409990</td>\n",
       "    </tr>\n",
       "    <tr>\n",
       "      <th>18</th>\n",
       "      <td>0.630093</td>\n",
       "      <td>0.649684</td>\n",
       "    </tr>\n",
       "    <tr>\n",
       "      <th>19</th>\n",
       "      <td>0.645010</td>\n",
       "      <td>0.484268</td>\n",
       "    </tr>\n",
       "    <tr>\n",
       "      <th>20</th>\n",
       "      <td>0.646758</td>\n",
       "      <td>0.937490</td>\n",
       "    </tr>\n",
       "    <tr>\n",
       "      <th>21</th>\n",
       "      <td>0.699090</td>\n",
       "      <td>0.404680</td>\n",
       "    </tr>\n",
       "    <tr>\n",
       "      <th>22</th>\n",
       "      <td>0.790245</td>\n",
       "      <td>0.283624</td>\n",
       "    </tr>\n",
       "    <tr>\n",
       "      <th>23</th>\n",
       "      <td>0.810385</td>\n",
       "      <td>-0.221628</td>\n",
       "    </tr>\n",
       "    <tr>\n",
       "      <th>24</th>\n",
       "      <td>0.829321</td>\n",
       "      <td>-0.102065</td>\n",
       "    </tr>\n",
       "    <tr>\n",
       "      <th>25</th>\n",
       "      <td>0.850112</td>\n",
       "      <td>0.085457</td>\n",
       "    </tr>\n",
       "    <tr>\n",
       "      <th>26</th>\n",
       "      <td>0.886368</td>\n",
       "      <td>-0.160908</td>\n",
       "    </tr>\n",
       "    <tr>\n",
       "      <th>27</th>\n",
       "      <td>0.891141</td>\n",
       "      <td>-0.367648</td>\n",
       "    </tr>\n",
       "    <tr>\n",
       "      <th>28</th>\n",
       "      <td>0.904388</td>\n",
       "      <td>-0.818962</td>\n",
       "    </tr>\n",
       "    <tr>\n",
       "      <th>29</th>\n",
       "      <td>0.924486</td>\n",
       "      <td>-0.379684</td>\n",
       "    </tr>\n",
       "  </tbody>\n",
       "</table>\n",
       "</div>"
      ],
      "text/plain": [
       "          X1         Y\n",
       "0   0.039579  0.587050\n",
       "1   0.041568  0.648656\n",
       "2   0.072432  0.307803\n",
       "3   0.150289  0.310748\n",
       "4   0.161334  0.237410\n",
       "5   0.191956  0.705017\n",
       "6   0.232834  0.461717\n",
       "7   0.259901  0.383261\n",
       "8   0.380146  1.065180\n",
       "9   0.432445  1.031850\n",
       "10  0.470567  1.134040\n",
       "11  0.471495  0.646083\n",
       "12  0.478706  0.943072\n",
       "13  0.490536  0.902816\n",
       "14  0.546780  0.314066\n",
       "15  0.569680  0.939045\n",
       "16  0.607932  0.758633\n",
       "17  0.620238  1.409990\n",
       "18  0.630093  0.649684\n",
       "19  0.645010  0.484268\n",
       "20  0.646758  0.937490\n",
       "21  0.699090  0.404680\n",
       "22  0.790245  0.283624\n",
       "23  0.810385 -0.221628\n",
       "24  0.829321 -0.102065\n",
       "25  0.850112  0.085457\n",
       "26  0.886368 -0.160908\n",
       "27  0.891141 -0.367648\n",
       "28  0.904388 -0.818962\n",
       "29  0.924486 -0.379684"
      ]
     },
     "execution_count": 4,
     "metadata": {},
     "output_type": "execute_result"
    }
   ],
   "source": [
    "dtype_dict={\"X1\":float}\n",
    "data = pd.read_csv(\"training_data_sframe.csv\",dtype=dtype_dict)\n",
    "data"
   ]
  },
  {
   "cell_type": "markdown",
   "metadata": {},
   "source": [
    "### Create a function to plot the data, since we'll do it many times"
   ]
  },
  {
   "cell_type": "code",
   "execution_count": 5,
   "metadata": {},
   "outputs": [
    {
     "data": {
      "image/png": "[encoded data removed]",
      "text/plain": [
       "<Figure size 432x288 with 1 Axes>"
      ]
     },
     "metadata": {
      "needs_background": "light"
     },
     "output_type": "display_data"
    }
   ],
   "source": [
    "def plot_data(data):    \n",
    "    plt.plot(data['X1'],data['Y'],'k.')\n",
    "    plt.xlabel('x')\n",
    "    plt.ylabel('y')\n",
    "\n",
    "plot_data(data)"
   ]
  },
  {
   "cell_type": "markdown",
   "metadata": {},
   "source": [
    "## Define some useful polynomial regression functions"
   ]
  },
  {
   "cell_type": "markdown",
   "metadata": {},
   "source": [
    "Define a function to create our features for a polynomial regression model of any degree:"
   ]
  },
  {
   "cell_type": "code",
   "execution_count": 21,
   "metadata": {},
   "outputs": [
    {
     "data": {
      "text/html": [
       "<div>\n",
       "<style scoped>\n",
       "    .dataframe tbody tr th:only-of-type {\n",
       "        vertical-align: middle;\n",
       "    }\n",
       "\n",
       "    .dataframe tbody tr th {\n",
       "        vertical-align: top;\n",
       "    }\n",
       "\n",
       "    .dataframe thead th {\n",
       "        text-align: right;\n",
       "    }\n",
       "</style>\n",
       "<table border=\"1\" class=\"dataframe\">\n",
       "  <thead>\n",
       "    <tr style=\"text-align: right;\">\n",
       "      <th></th>\n",
       "      <th>X1</th>\n",
       "      <th>Y</th>\n",
       "      <th>X2</th>\n",
       "    </tr>\n",
       "  </thead>\n",
       "  <tbody>\n",
       "    <tr>\n",
       "      <th>0</th>\n",
       "      <td>0.039579</td>\n",
       "      <td>0.587050</td>\n",
       "      <td>0.001566</td>\n",
       "    </tr>\n",
       "    <tr>\n",
       "      <th>1</th>\n",
       "      <td>0.041568</td>\n",
       "      <td>0.648656</td>\n",
       "      <td>0.001728</td>\n",
       "    </tr>\n",
       "    <tr>\n",
       "      <th>2</th>\n",
       "      <td>0.072432</td>\n",
       "      <td>0.307803</td>\n",
       "      <td>0.005246</td>\n",
       "    </tr>\n",
       "    <tr>\n",
       "      <th>3</th>\n",
       "      <td>0.150289</td>\n",
       "      <td>0.310748</td>\n",
       "      <td>0.022587</td>\n",
       "    </tr>\n",
       "    <tr>\n",
       "      <th>4</th>\n",
       "      <td>0.161334</td>\n",
       "      <td>0.237410</td>\n",
       "      <td>0.026029</td>\n",
       "    </tr>\n",
       "    <tr>\n",
       "      <th>5</th>\n",
       "      <td>0.191956</td>\n",
       "      <td>0.705017</td>\n",
       "      <td>0.036847</td>\n",
       "    </tr>\n",
       "    <tr>\n",
       "      <th>6</th>\n",
       "      <td>0.232834</td>\n",
       "      <td>0.461717</td>\n",
       "      <td>0.054212</td>\n",
       "    </tr>\n",
       "    <tr>\n",
       "      <th>7</th>\n",
       "      <td>0.259901</td>\n",
       "      <td>0.383261</td>\n",
       "      <td>0.067549</td>\n",
       "    </tr>\n",
       "    <tr>\n",
       "      <th>8</th>\n",
       "      <td>0.380146</td>\n",
       "      <td>1.065180</td>\n",
       "      <td>0.144511</td>\n",
       "    </tr>\n",
       "    <tr>\n",
       "      <th>9</th>\n",
       "      <td>0.432445</td>\n",
       "      <td>1.031850</td>\n",
       "      <td>0.187009</td>\n",
       "    </tr>\n",
       "    <tr>\n",
       "      <th>10</th>\n",
       "      <td>0.470567</td>\n",
       "      <td>1.134040</td>\n",
       "      <td>0.221433</td>\n",
       "    </tr>\n",
       "    <tr>\n",
       "      <th>11</th>\n",
       "      <td>0.471495</td>\n",
       "      <td>0.646083</td>\n",
       "      <td>0.222308</td>\n",
       "    </tr>\n",
       "    <tr>\n",
       "      <th>12</th>\n",
       "      <td>0.478706</td>\n",
       "      <td>0.943072</td>\n",
       "      <td>0.229159</td>\n",
       "    </tr>\n",
       "    <tr>\n",
       "      <th>13</th>\n",
       "      <td>0.490536</td>\n",
       "      <td>0.902816</td>\n",
       "      <td>0.240626</td>\n",
       "    </tr>\n",
       "    <tr>\n",
       "      <th>14</th>\n",
       "      <td>0.546780</td>\n",
       "      <td>0.314066</td>\n",
       "      <td>0.298968</td>\n",
       "    </tr>\n",
       "    <tr>\n",
       "      <th>15</th>\n",
       "      <td>0.569680</td>\n",
       "      <td>0.939045</td>\n",
       "      <td>0.324535</td>\n",
       "    </tr>\n",
       "    <tr>\n",
       "      <th>16</th>\n",
       "      <td>0.607932</td>\n",
       "      <td>0.758633</td>\n",
       "      <td>0.369581</td>\n",
       "    </tr>\n",
       "    <tr>\n",
       "      <th>17</th>\n",
       "      <td>0.620238</td>\n",
       "      <td>1.409990</td>\n",
       "      <td>0.384695</td>\n",
       "    </tr>\n",
       "    <tr>\n",
       "      <th>18</th>\n",
       "      <td>0.630093</td>\n",
       "      <td>0.649684</td>\n",
       "      <td>0.397017</td>\n",
       "    </tr>\n",
       "    <tr>\n",
       "      <th>19</th>\n",
       "      <td>0.645010</td>\n",
       "      <td>0.484268</td>\n",
       "      <td>0.416038</td>\n",
       "    </tr>\n",
       "    <tr>\n",
       "      <th>20</th>\n",
       "      <td>0.646758</td>\n",
       "      <td>0.937490</td>\n",
       "      <td>0.418296</td>\n",
       "    </tr>\n",
       "    <tr>\n",
       "      <th>21</th>\n",
       "      <td>0.699090</td>\n",
       "      <td>0.404680</td>\n",
       "      <td>0.488727</td>\n",
       "    </tr>\n",
       "    <tr>\n",
       "      <th>22</th>\n",
       "      <td>0.790245</td>\n",
       "      <td>0.283624</td>\n",
       "      <td>0.624487</td>\n",
       "    </tr>\n",
       "    <tr>\n",
       "      <th>23</th>\n",
       "      <td>0.810385</td>\n",
       "      <td>-0.221628</td>\n",
       "      <td>0.656724</td>\n",
       "    </tr>\n",
       "    <tr>\n",
       "      <th>24</th>\n",
       "      <td>0.829321</td>\n",
       "      <td>-0.102065</td>\n",
       "      <td>0.687773</td>\n",
       "    </tr>\n",
       "    <tr>\n",
       "      <th>25</th>\n",
       "      <td>0.850112</td>\n",
       "      <td>0.085457</td>\n",
       "      <td>0.722690</td>\n",
       "    </tr>\n",
       "    <tr>\n",
       "      <th>26</th>\n",
       "      <td>0.886368</td>\n",
       "      <td>-0.160908</td>\n",
       "      <td>0.785648</td>\n",
       "    </tr>\n",
       "    <tr>\n",
       "      <th>27</th>\n",
       "      <td>0.891141</td>\n",
       "      <td>-0.367648</td>\n",
       "      <td>0.794132</td>\n",
       "    </tr>\n",
       "    <tr>\n",
       "      <th>28</th>\n",
       "      <td>0.904388</td>\n",
       "      <td>-0.818962</td>\n",
       "      <td>0.817918</td>\n",
       "    </tr>\n",
       "    <tr>\n",
       "      <th>29</th>\n",
       "      <td>0.924486</td>\n",
       "      <td>-0.379684</td>\n",
       "      <td>0.854674</td>\n",
       "    </tr>\n",
       "  </tbody>\n",
       "</table>\n",
       "</div>"
      ],
      "text/plain": [
       "          X1         Y        X2\n",
       "0   0.039579  0.587050  0.001566\n",
       "1   0.041568  0.648656  0.001728\n",
       "2   0.072432  0.307803  0.005246\n",
       "3   0.150289  0.310748  0.022587\n",
       "4   0.161334  0.237410  0.026029\n",
       "5   0.191956  0.705017  0.036847\n",
       "6   0.232834  0.461717  0.054212\n",
       "7   0.259901  0.383261  0.067549\n",
       "8   0.380146  1.065180  0.144511\n",
       "9   0.432445  1.031850  0.187009\n",
       "10  0.470567  1.134040  0.221433\n",
       "11  0.471495  0.646083  0.222308\n",
       "12  0.478706  0.943072  0.229159\n",
       "13  0.490536  0.902816  0.240626\n",
       "14  0.546780  0.314066  0.298968\n",
       "15  0.569680  0.939045  0.324535\n",
       "16  0.607932  0.758633  0.369581\n",
       "17  0.620238  1.409990  0.384695\n",
       "18  0.630093  0.649684  0.397017\n",
       "19  0.645010  0.484268  0.416038\n",
       "20  0.646758  0.937490  0.418296\n",
       "21  0.699090  0.404680  0.488727\n",
       "22  0.790245  0.283624  0.624487\n",
       "23  0.810385 -0.221628  0.656724\n",
       "24  0.829321 -0.102065  0.687773\n",
       "25  0.850112  0.085457  0.722690\n",
       "26  0.886368 -0.160908  0.785648\n",
       "27  0.891141 -0.367648  0.794132\n",
       "28  0.904388 -0.818962  0.817918\n",
       "29  0.924486 -0.379684  0.854674"
      ]
     },
     "execution_count": 21,
     "metadata": {},
     "output_type": "execute_result"
    }
   ],
   "source": [
    "def polynomial_featurs(feature,degree): # feature is pandas.Series type\n",
    "    # assume that degree >= 1\n",
    "    # initialize the dataframe:\n",
    "    poly_dataframe = pd.DataFrame()\n",
    "    # and set poly_dataframe['power_1'] equal to the passed feature\n",
    "    poly_dataframe[\"X1\"]=feature\n",
    "    # first check if degree > 1\n",
    "    if degree > 1:\n",
    "        # then loop over the remaining degrees:\n",
    "        for power in range(2, degree+1):\n",
    "            # first we'll give the column a name:\n",
    "            name = 'X' + str(power)\n",
    "            # assign poly_dataframe[name] to be feature^power; use apply(*)\n",
    "            poly_dataframe[name]=poly_dataframe['X1'].apply(lambda x: x**power)\n",
    "    return poly_dataframe\n",
    "\n",
    "def polynomial_features(data, deg):\n",
    "    data_copy=data.copy()\n",
    "    for i in range(1,deg):\n",
    "        data_copy['X'+str(i+1)]=data_copy['X'+str(i)]*data_copy['X1']\n",
    "    return data_copy\n",
    "\n",
    "# Example: Adding columns for x^2 and x^3\n",
    "d=polynomial_features(data, 2)\n",
    "d"
   ]
  },
  {
   "cell_type": "markdown",
   "metadata": {},
   "source": [
    "Define a function to fit a polynomial linear regression model of degree \"deg\" to the data in \"data\":"
   ]
  },
  {
   "cell_type": "code",
   "execution_count": 27,
   "metadata": {},
   "outputs": [],
   "source": [
    "#def polynomial_regression(data, deg):\n",
    "  #  model = turicreate.linear_regression.create(\n",
    "  #      polynomial_features(data,deg), \n",
    "  #      target='Y',\n",
    "  #      l2_penalty=0.,\n",
    "  #      l1_penalty=0.,\n",
    "  #      validation_set=None,\n",
    "   #     verbose=False)\n",
    "   # return model"
   ]
  },
  {
   "cell_type": "code",
   "execution_count": 7,
   "metadata": {},
   "outputs": [],
   "source": [
    "from sklearn.linear_model import LinearRegression"
   ]
  },
  {
   "cell_type": "code",
   "execution_count": 37,
   "metadata": {},
   "outputs": [],
   "source": [
    "def polynomial_regression(data, deg):\n",
    "    model = LinearRegression(fit_intercept = True, normalize = True, copy_X = True, n_jobs = 2)\n",
    "    target=data[\"Y\"]\n",
    "    data=data.copy().drop(\"Y\",axis=1)\n",
    "    model.fit(polynomial_features(data,deg),target)\n",
    "    return model\n",
    "\n",
    "model = polynomial_regression(data, deg=4)"
   ]
  },
  {
   "cell_type": "code",
   "execution_count": 46,
   "metadata": {},
   "outputs": [],
   "source": [
    "def print_coefficients(model):    \n",
    "    # Get the degree of the polynomial\n",
    "    deg = len(model.coef_)\n",
    "    \n",
    "    # Get learned parameters as a list\n",
    "    w = list(model.coef_)\n",
    "    w.append(model.intercept_)\n",
    "    # Numpy has a nifty function to print out polynomials in a pretty way\n",
    "    print(model.intercept_)\n",
    "    # (We'll use it, but it needs the parameters in the reverse order)\n",
    "    print('Learned polynomial for degree ' + str(deg) + ':')\n",
    "    #w.reverse()\n",
    "    print(numpy.poly1d(w))\n"
   ]
  },
  {
   "cell_type": "code",
   "execution_count": 47,
   "metadata": {},
   "outputs": [
    {
     "name": "stdout",
     "output_type": "stream",
     "text": [
      "0.7755298122846237\n",
      "Learned polynomial for degree 4:\n",
      "        4         3         2\n",
      "-6.828 x + 35.23 x - 53.82 x + 23.87 x + 0.7755\n"
     ]
    }
   ],
   "source": [
    "print_coefficients(model)"
   ]
  },
  {
   "cell_type": "code",
   "execution_count": 49,
   "metadata": {},
   "outputs": [],
   "source": [
    "def plot_poly_predictions(data, model):\n",
    "    plot_data(data)\n",
    "\n",
    "    # Get the degree of the polynomial\n",
    "    deg = len(model.coef_)\n",
    "    # Create 200 points in the x axis and compute the predicted value for each point\n",
    "    x_pred=data=data.copy().drop(\"Y\",axis=1)\n",
    "    y_pred = model.predict(polynomial_features(x_pred,deg))\n",
    "    # plot predictions\n",
    "    plt.plot(x_pred['X1'], y_pred, 'g-', label='degree ' + str(deg) + ' fit')\n",
    "    plt.legend(loc='upper left')\n",
    "    plt.axis([0,1,-1.5,2])\n"
   ]
  },
  {
   "cell_type": "code",
   "execution_count": 50,
   "metadata": {},
   "outputs": [
    {
     "data": {
      "image/png": "[encoded data removed]",
      "text/plain": [
       "<Figure size 432x288 with 1 Axes>"
      ]
     },
     "metadata": {
      "needs_background": "light"
     },
     "output_type": "display_data"
    }
   ],
   "source": [
    "plot_poly_predictions(data,model)"
   ]
  },
  {
   "cell_type": "markdown",
   "metadata": {},
   "source": [
    "Form and plot our predictions along a grid of x values:"
   ]
  },
  {
   "cell_type": "markdown",
   "metadata": {
    "collapsed": true
   },
   "source": [
    "## Fit a degree-4 polynomial"
   ]
  },
  {
   "cell_type": "code",
   "execution_count": 51,
   "metadata": {},
   "outputs": [
    {
     "name": "stdout",
     "output_type": "stream",
     "text": [
      "0.7755298122846237\n",
      "Learned polynomial for degree 4:\n",
      "        4         3         2\n",
      "-6.828 x + 35.23 x - 53.82 x + 23.87 x + 0.7755\n"
     ]
    },
    {
     "data": {
      "image/png": "[encoded data removed]",
      "text/plain": [
       "<Figure size 432x288 with 1 Axes>"
      ]
     },
     "metadata": {
      "needs_background": "light"
     },
     "output_type": "display_data"
    }
   ],
   "source": [
    "model = polynomial_regression(data, deg=4)\n",
    "print_coefficients(model)\n",
    "plot_poly_predictions(data,model)"
   ]
  },
  {
   "cell_type": "markdown",
   "metadata": {},
   "source": [
    "## Fit a degree-16 polynomial"
   ]
  },
  {
   "cell_type": "code",
   "execution_count": 52,
   "metadata": {},
   "outputs": [
    {
     "name": "stdout",
     "output_type": "stream",
     "text": [
      "-12.005824140740152\n",
      "Learned polynomial for degree 16:\n",
      "       16             15             14             13             12\n",
      "839.2 x  - 2.187e+04 x  + 3.017e+05 x  - 2.546e+06 x  + 1.392e+07 x \n",
      "              11             10             9             8\n",
      " - 4.728e+07 x  + 6.665e+07 x  + 2.267e+08 x - 1.659e+09 x\n",
      "              7             6            5             4             3\n",
      " + 5.144e+09 x - 1.001e+10 x + 1.31e+10 x - 1.156e+10 x + 6.622e+09 x\n",
      "              2\n",
      " - 2.226e+09 x + 3.338e+08 x - 12.01\n"
     ]
    }
   ],
   "source": [
    "model = polynomial_regression(data, deg=16)\n",
    "print_coefficients(model)"
   ]
  },
  {
   "cell_type": "markdown",
   "metadata": {},
   "source": [
    "### Woah!!!!  Those coefficients are *crazy*!  On the order of 10^6."
   ]
  },
  {
   "cell_type": "code",
   "execution_count": 53,
   "metadata": {},
   "outputs": [
    {
     "data": {
      "image/png": "[encoded data removed]",
      "text/plain": [
       "<Figure size 432x288 with 1 Axes>"
      ]
     },
     "metadata": {
      "needs_background": "light"
     },
     "output_type": "display_data"
    }
   ],
   "source": [
    "plot_poly_predictions(data,model)"
   ]
  },
  {
   "cell_type": "code",
   "execution_count": 54,
   "metadata": {},
   "outputs": [],
   "source": [
    "import sklearn "
   ]
  },
  {
   "cell_type": "markdown",
   "metadata": {},
   "source": [
    "### Above: Fit looks pretty wild, too.  Here's a clear example of how overfitting is associated with very large magnitude estimated coefficients."
   ]
  },
  {
   "cell_type": "markdown",
   "metadata": {
    "collapsed": true
   },
   "source": [
    "# Ridge Regression"
   ]
  },
  {
   "cell_type": "markdown",
   "metadata": {},
   "source": [
    "Ridge regression aims to avoid overfitting by adding a cost to the RSS term of standard least squares that depends on the 2-norm of the coefficients $\\|w\\|$.  The result is penalizing fits with large coefficients.  The strength of this penalty, and thus the fit vs. model complexity balance, is controled by a parameter lambda (here called \"L2_penalty\")."
   ]
  },
  {
   "cell_type": "markdown",
   "metadata": {},
   "source": [
    "Define our function to solve the ridge objective for a polynomial regression model of any degree:"
   ]
  },
  {
   "cell_type": "code",
   "execution_count": 60,
   "metadata": {},
   "outputs": [],
   "source": [
    "def polynomial_ridge_regression(data, deg, l2_penalty):\n",
    "    model =sklearn.linear_model.Ridge(alpha=l2_penalty, fit_intercept=True, normalize=False, copy_X=True, max_iter=None, \n",
    "                                      tol=0.001, solver='auto', random_state=None)\n",
    "    target=data[\"Y\"]\n",
    "    data=data.copy().drop(\"Y\",axis=1)\n",
    "    model.fit(polynomial_features(data,deg),target)\n",
    "    return model"
   ]
  },
  {
   "cell_type": "markdown",
   "metadata": {},
   "source": [
    "## Perform a ridge fit of a degree-16 polynomial using a *very* small penalty strength"
   ]
  },
  {
   "cell_type": "code",
   "execution_count": 61,
   "metadata": {},
   "outputs": [],
   "source": [
    "model = polynomial_ridge_regression(data, deg=16, l2_penalty=1e-25)\n"
   ]
  },
  {
   "cell_type": "code",
   "execution_count": 62,
   "metadata": {},
   "outputs": [
    {
     "data": {
      "image/png": "[encoded data removed]",
      "text/plain": [
       "<Figure size 432x288 with 1 Axes>"
      ]
     },
     "metadata": {
      "needs_background": "light"
     },
     "output_type": "display_data"
    }
   ],
   "source": [
    "plot_poly_predictions(data,model)"
   ]
  },
  {
   "cell_type": "markdown",
   "metadata": {},
   "source": [
    "## Perform a ridge fit of a degree-16 polynomial using a very large penalty strength"
   ]
  },
  {
   "cell_type": "code",
   "execution_count": 63,
   "metadata": {},
   "outputs": [
    {
     "name": "stdout",
     "output_type": "stream",
     "text": [
      "0.4947743888770153\n",
      "Learned polynomial for degree 16:\n",
      "          16           15           14           13           12\n",
      "-0.01594 x  - 0.02253 x  - 0.02439 x  - 0.02397 x  - 0.02253 x \n",
      "           11           10           9           8           7\n",
      " - 0.0207 x  - 0.01879 x  - 0.01694 x - 0.01521 x - 0.01364 x\n",
      "            6           5            4            3           2\n",
      " - 0.01222 x - 0.01095 x - 0.009809 x - 0.008794 x - 0.00789 x - 0.007084 x + 0.4948\n"
     ]
    }
   ],
   "source": [
    "model = polynomial_ridge_regression(data, deg=16, l2_penalty=100)\n",
    "print_coefficients(model)"
   ]
  },
  {
   "cell_type": "code",
   "execution_count": 64,
   "metadata": {},
   "outputs": [
    {
     "data": {
      "image/png": "[encoded data removed]",
      "text/plain": [
       "<Figure size 432x288 with 1 Axes>"
      ]
     },
     "metadata": {
      "needs_background": "light"
     },
     "output_type": "display_data"
    }
   ],
   "source": [
    "plot_poly_predictions(data,model)"
   ]
  },
  {
   "cell_type": "markdown",
   "metadata": {},
   "source": [
    "## Let's look at fits for a sequence of increasing lambda values"
   ]
  },
  {
   "cell_type": "code",
   "execution_count": 66,
   "metadata": {
    "scrolled": false
   },
   "outputs": [
    {
     "name": "stdout",
     "output_type": "stream",
     "text": [
      "lambda = 1.00e-25\n",
      "-12.416091613007303\n",
      "Learned polynomial for degree 16:\n",
      "       16             15             14             13             12\n",
      "873.6 x  - 2.308e+04 x  + 3.256e+05 x  - 2.844e+06 x  + 1.642e+07 x \n",
      "              11             10             9             8\n",
      " - 6.207e+07 x  + 1.302e+08 x  + 2.504e+07 x - 1.181e+09 x\n",
      "              7             6             5             4             3\n",
      " + 4.296e+09 x - 8.887e+09 x + 1.201e+10 x - 1.081e+10 x + 6.274e+09 x\n",
      "              2\n",
      " - 2.129e+09 x + 3.213e+08 x - 12.42\n",
      "\n",
      "\n",
      "lambda = 1.00e-10\n",
      "0.7858954705540309\n",
      "Learned polynomial for degree 16:\n",
      "        16         15         14       13        12        11        10\n",
      "-4.716 x  - 11.39 x  + 100.6 x  + 770 x  - 4281 x  + 4893 x  + 3439 x \n",
      "         9        8         7        6        5         4        3\n",
      " - 4253 x - 6056 x - 498.2 x + 5802 x + 6541 x + 714.5 x - 6900 x\n",
      "         2\n",
      " - 7804 x + 7567 x + 0.7859\n",
      "\n",
      "\n",
      "lambda = 1.00e-06\n",
      "0.8830990750448993\n",
      "Learned polynomial for degree 16:\n",
      "        16         15         14        13         12         11\n",
      "-9.752 x  + 52.96 x  - 81.62 x  + 6.02 x  + 43.96 x  + 21.99 x \n",
      "          10         9         8         7         6         5\n",
      " - 10.05 x  - 25.09 x - 21.17 x - 7.421 x + 6.381 x + 14.19 x\n",
      "          4         3         2\n",
      " + 14.24 x + 7.873 x - 1.907 x - 11.68 x + 0.8831\n",
      "\n",
      "\n",
      "lambda = 1.00e-03\n",
      "0.4424233786087827\n",
      "Learned polynomial for degree 16:\n",
      "         16         15         14         13         12        11\n",
      "-0.3416 x  + 4.364 x  - 1.494 x  - 3.256 x  - 2.509 x  - 1.21 x \n",
      "           10          9          8          7          6          5\n",
      " - 0.1493 x  + 0.5056 x + 0.8092 x + 0.8655 x + 0.7688 x + 0.5899 x\n",
      "           4          3           2\n",
      " + 0.3778 x + 0.1641 x - 0.03171 x - 0.1991 x + 0.4424\n",
      "\n",
      "\n",
      "lambda = 1.00e+02\n",
      "0.4947743888770153\n",
      "Learned polynomial for degree 16:\n",
      "          16           15           14           13           12\n",
      "-0.01594 x  - 0.02253 x  - 0.02439 x  - 0.02397 x  - 0.02253 x \n",
      "           11           10           9           8           7\n",
      " - 0.0207 x  - 0.01879 x  - 0.01694 x - 0.01521 x - 0.01364 x\n",
      "            6           5            4            3           2\n",
      " - 0.01222 x - 0.01095 x - 0.009809 x - 0.008794 x - 0.00789 x - 0.007084 x + 0.4948\n",
      "\n",
      "\n"
     ]
    },
    {
     "data": {
      "image/png": "[encoded data removed]",
      "text/plain": [
       "<Figure size 432x288 with 1 Axes>"
      ]
     },
     "metadata": {
      "needs_background": "light"
     },
     "output_type": "display_data"
    },
    {
     "data": {
      "image/png": "[encoded data removed]",
      "text/plain": [
       "<Figure size 432x288 with 1 Axes>"
      ]
     },
     "metadata": {
      "needs_background": "light"
     },
     "output_type": "display_data"
    },
    {
     "data": {
      "image/png": "[encoded data removed]",
      "text/plain": [
       "<Figure size 432x288 with 1 Axes>"
      ]
     },
     "metadata": {
      "needs_background": "light"
     },
     "output_type": "display_data"
    },
    {
     "data": {
      "image/png": "[encoded data removed]",
      "text/plain": [
       "<Figure size 432x288 with 1 Axes>"
      ]
     },
     "metadata": {
      "needs_background": "light"
     },
     "output_type": "display_data"
    },
    {
     "data": {
      "image/png": "[encoded data removed]",
      "text/plain": [
       "<Figure size 432x288 with 1 Axes>"
      ]
     },
     "metadata": {
      "needs_background": "light"
     },
     "output_type": "display_data"
    }
   ],
   "source": [
    "for l2_penalty in [1e-25, 1e-10, 1e-6, 1e-3, 1e2]:\n",
    "    model = polynomial_ridge_regression(data, deg=16, l2_penalty=l2_penalty)\n",
    "    print ('lambda = %.2e' % l2_penalty)\n",
    "    print_coefficients(model)\n",
    "    print( '\\n')\n",
    "    plt.figure()\n",
    "    plot_poly_predictions(data,model)\n",
    "    plt.title('Ridge, lambda = %.2e' % l2_penalty)"
   ]
  },
  {
   "cell_type": "markdown",
   "metadata": {},
   "source": [
    "## Perform a ridge fit of a degree-16 polynomial using a \"good\" penalty strength"
   ]
  },
  {
   "cell_type": "markdown",
   "metadata": {},
   "source": [
    "We will learn about cross validation later in this course as a way to select a good value of the tuning parameter (penalty strength) lambda.  Here, we consider \"leave one out\" (LOO) cross validation, which one can show approximates average mean square error (MSE).  As a result, choosing lambda to minimize the LOO error is equivalent to choosing lambda to minimize an approximation to average MSE.\n",
    "\n",
    "_Note:_ For applying cross-validation, we will import a package called `turicreate_cross_validation`."
   ]
  },
  {
   "cell_type": "code",
   "execution_count": 67,
   "metadata": {},
   "outputs": [
    {
     "ename": "ModuleNotFoundError",
     "evalue": "No module named 'sklearn.model_selection.cross_validation'",
     "output_type": "error",
     "traceback": [
      "\u001b[1;31m---------------------------------------------------------------------------\u001b[0m",
      "\u001b[1;31mModuleNotFoundError\u001b[0m                       Traceback (most recent call last)",
      "\u001b[1;32m<ipython-input-67-7a919b1084e6>\u001b[0m in \u001b[0;36m<module>\u001b[1;34m\u001b[0m\n\u001b[1;32m----> 1\u001b[1;33m \u001b[1;32mimport\u001b[0m \u001b[0msklearn\u001b[0m\u001b[1;33m.\u001b[0m\u001b[0mmodel_selection\u001b[0m\u001b[1;33m.\u001b[0m\u001b[0mcross_validation\u001b[0m \u001b[1;32mas\u001b[0m \u001b[0mtcv\u001b[0m\u001b[1;33m\u001b[0m\u001b[1;33m\u001b[0m\u001b[0m\n\u001b[0m\u001b[0;32m      2\u001b[0m \u001b[1;33m\u001b[0m\u001b[0m\n\u001b[0;32m      3\u001b[0m \u001b[1;31m# LOO cross validation -- return the average MSE\u001b[0m\u001b[1;33m\u001b[0m\u001b[1;33m\u001b[0m\u001b[1;33m\u001b[0m\u001b[0m\n\u001b[0;32m      4\u001b[0m \u001b[1;32mdef\u001b[0m \u001b[0mloo\u001b[0m\u001b[1;33m(\u001b[0m\u001b[0mdata\u001b[0m\u001b[1;33m,\u001b[0m \u001b[0mdeg\u001b[0m\u001b[1;33m,\u001b[0m \u001b[0ml2_penalty_values\u001b[0m\u001b[1;33m)\u001b[0m\u001b[1;33m:\u001b[0m\u001b[1;33m\u001b[0m\u001b[1;33m\u001b[0m\u001b[0m\n\u001b[0;32m      5\u001b[0m     \u001b[1;31m# Create polynomial features\u001b[0m\u001b[1;33m\u001b[0m\u001b[1;33m\u001b[0m\u001b[1;33m\u001b[0m\u001b[0m\n",
      "\u001b[1;31mModuleNotFoundError\u001b[0m: No module named 'sklearn.model_selection.cross_validation'"
     ]
    }
   ],
   "source": [
    "from sklearn.model_selection import cvs\n",
    "# LOO cross validation -- return the average MSE\n",
    "def loo(data, deg, l2_penalty_values):\n",
    "    # Create polynomial features\n",
    "    data = polynomial_features(data, deg)\n",
    "    \n",
    "    # Create as many folds for cross validatation as number of data points\n",
    "    num_folds = len(data)\n",
    "    shuffled_data = cvs.shuffle_sframe(data, 98103)\n",
    "    folds_iterator = cvs.KFold(shuffled_data, num_folds)\n",
    "    folds = [f for f in folds_iterator]\n",
    "    \n",
    "    # for each value of l2_penalty, fit a model for each fold and compute average MSE\n",
    "    l2_penalty_mse = []\n",
    "    min_mse = None\n",
    "    best_l2_penalty = None\n",
    "    for l2_penalty in l2_penalty_values:\n",
    "        next_mse = 0.0\n",
    "        for train_set, validation_set in folds:\n",
    "            # train model\n",
    "            model = turicreate.linear_regression.create(train_set,target='Y', \n",
    "                                                        l2_penalty=l2_penalty,\n",
    "                                                        validation_set=None,verbose=False)\n",
    "            \n",
    "            # predict on validation set \n",
    "            y_test_predicted = model.predict(validation_set)\n",
    "            # compute squared error\n",
    "            next_mse += ((y_test_predicted-validation_set['Y'])**2).sum()\n",
    "            #print \"   Error so far:\", next_mse\n",
    "        # save squared error in list of MSE for each l2_penalty\n",
    "        next_mse = next_mse/num_folds\n",
    "        l2_penalty_mse.append(next_mse)\n",
    "        if min_mse is None or next_mse < min_mse:\n",
    "            min_mse = next_mse\n",
    "            best_l2_penalty = l2_penalty\n",
    "            \n",
    "    return l2_penalty_mse,best_l2_penalty"
   ]
  },
  {
   "cell_type": "markdown",
   "metadata": {},
   "source": [
    "Run LOO cross validation for \"num\" values of lambda, on a log scale"
   ]
  },
  {
   "cell_type": "code",
   "execution_count": 24,
   "metadata": {},
   "outputs": [],
   "source": [
    "l2_penalty_values = numpy.logspace(-4, 10, num=10)\n",
    "l2_penalty_mse,best_l2_penalty = loo(data, 16, l2_penalty_values)"
   ]
  },
  {
   "cell_type": "markdown",
   "metadata": {},
   "source": [
    "Plot results of estimating LOO for each value of lambda"
   ]
  },
  {
   "cell_type": "code",
   "execution_count": 25,
   "metadata": {},
   "outputs": [
    {
     "data": {
      "image/png": "[encoded data removed]",
      "text/plain": [
       "<Figure size 432x288 with 1 Axes>"
      ]
     },
     "metadata": {
      "needs_background": "light"
     },
     "output_type": "display_data"
    }
   ],
   "source": [
    "plt.plot(l2_penalty_values,l2_penalty_mse,'k-')\n",
    "plt.xlabel('$\\ell_2$ penalty')\n",
    "plt.ylabel('LOO cross validation error')\n",
    "plt.xscale('log')\n",
    "plt.yscale('log')"
   ]
  },
  {
   "cell_type": "markdown",
   "metadata": {},
   "source": [
    "Find the value of lambda, $\\lambda_{\\mathrm{CV}}$, that minimizes the LOO cross validation error, and plot resulting fit"
   ]
  },
  {
   "cell_type": "code",
   "execution_count": 26,
   "metadata": {},
   "outputs": [
    {
     "data": {
      "text/plain": [
       "0.1291549665014884"
      ]
     },
     "execution_count": 26,
     "metadata": {},
     "output_type": "execute_result"
    }
   ],
   "source": [
    "best_l2_penalty"
   ]
  },
  {
   "cell_type": "code",
   "execution_count": 27,
   "metadata": {},
   "outputs": [
    {
     "name": "stdout",
     "output_type": "stream",
     "text": [
      "Learned polynomial for degree 16:\n",
      "       16         15          14          13          12           11\n",
      "1.345 x  + 1.141 x  + 0.9069 x  + 0.6447 x  + 0.3569 x  + 0.04947 x \n",
      "           10          9          8         7         6         5\n",
      " - 0.2683 x  - 0.5821 x - 0.8701 x - 1.099 x - 1.216 x - 1.145 x\n",
      "           4           3          2\n",
      " - 0.7837 x - 0.07406 x + 0.7614 x + 0.7703 x + 0.3918\n"
     ]
    }
   ],
   "source": [
    "model = polynomial_ridge_regression(data, deg=16, l2_penalty=best_l2_penalty)\n",
    "print_coefficients(model)"
   ]
  },
  {
   "cell_type": "code",
   "execution_count": 28,
   "metadata": {},
   "outputs": [
    {
     "data": {
      "image/png": "[encoded data removed]",
      "text/plain": [
       "<Figure size 432x288 with 1 Axes>"
      ]
     },
     "metadata": {
      "needs_background": "light"
     },
     "output_type": "display_data"
    }
   ],
   "source": [
    "plot_poly_predictions(data,model)"
   ]
  },
  {
   "cell_type": "markdown",
   "metadata": {
    "collapsed": true
   },
   "source": [
    "# Lasso Regression"
   ]
  },
  {
   "cell_type": "markdown",
   "metadata": {},
   "source": [
    "Lasso regression jointly shrinks coefficients to avoid overfitting, and implicitly performs feature selection by setting some coefficients exactly to 0 for sufficiently large penalty strength lambda (here called \"L1_penalty\").  In particular, lasso takes the RSS term of standard least squares and adds a 1-norm cost of the coefficients $\\|w\\|$."
   ]
  },
  {
   "cell_type": "markdown",
   "metadata": {},
   "source": [
    "Define our function to solve the lasso objective for a polynomial regression model of any degree:"
   ]
  },
  {
   "cell_type": "code",
   "execution_count": 29,
   "metadata": {},
   "outputs": [],
   "source": [
    "def polynomial_lasso_regression(data, deg, l1_penalty):\n",
    "    model = turicreate.linear_regression.create(polynomial_features(data,deg), \n",
    "                                                target='Y', l2_penalty=0.,\n",
    "                                                l1_penalty=l1_penalty,\n",
    "                                                validation_set=None, \n",
    "                                                solver='fista', verbose=False,\n",
    "                                                max_iterations=3000, convergence_threshold=1e-10)\n",
    "    return model"
   ]
  },
  {
   "cell_type": "markdown",
   "metadata": {},
   "source": [
    "## Explore the lasso solution as a function of a few different penalty strengths"
   ]
  },
  {
   "cell_type": "markdown",
   "metadata": {},
   "source": [
    "We refer to lambda in the lasso case below as \"l1_penalty\""
   ]
  },
  {
   "cell_type": "code",
   "execution_count": 30,
   "metadata": {
    "scrolled": false
   },
   "outputs": [
    {
     "name": "stdout",
     "output_type": "stream",
     "text": [
      "l1_penalty = 1.000000e-04\n",
      "number of nonzeros = 17\n",
      "Learned polynomial for degree 16:\n",
      "       16        15         14         13         12         11\n",
      "29.02 x  + 1.35 x  - 12.72 x  - 16.93 x  - 13.82 x  - 6.698 x \n",
      "          10         9         8         7         6         5\n",
      " + 1.407 x  + 8.939 x + 12.88 x + 11.44 x + 3.759 x - 8.062 x\n",
      "          4         3         2\n",
      " - 16.28 x - 7.682 x + 17.86 x - 4.384 x + 0.685\n",
      "\n",
      "\n",
      "l1_penalty = 1.000000e-02\n",
      "number of nonzeros = 14\n",
      "Learned polynomial for degree 16:\n",
      "       16            15           11          10         9          8\n",
      "-1.18 x  - 0.001315 x  + 0.08748 x  + 0.7389 x  + 3.829 x + 0.4761 x\n",
      "           7            6          5         4             3         2\n",
      " + 0.1283 x + 0.001661 x - 0.6151 x - 10.11 x - 0.0003721 x + 6.686 x - 1.28 x + 0.5056\n",
      "\n",
      "\n",
      "l1_penalty = 1.000000e-01\n",
      "number of nonzeros = 5\n",
      "Learned polynomial for degree 16:\n",
      "       16          6        5\n",
      "2.153 x  - 0.7958 x - 3.14 x + 1.224 x + 0.3459\n",
      "\n",
      "\n",
      "l1_penalty = 1.000000e+01\n",
      "number of nonzeros = 2\n",
      "Learned polynomial for degree 16:\n",
      "        9\n",
      "-1.527 x + 0.5758\n",
      "\n",
      "\n"
     ]
    },
    {
     "data": {
      "image/png": "[encoded data removed]",
      "text/plain": [
       "<Figure size 432x288 with 1 Axes>"
      ]
     },
     "metadata": {
      "needs_background": "light"
     },
     "output_type": "display_data"
    },
    {
     "data": {
      "image/png": "[encoded data removed]",
      "text/plain": [
       "<Figure size 432x288 with 1 Axes>"
      ]
     },
     "metadata": {
      "needs_background": "light"
     },
     "output_type": "display_data"
    },
    {
     "data": {
      "image/png": "[encoded data removed]",
      "text/plain": [
       "<Figure size 432x288 with 1 Axes>"
      ]
     },
     "metadata": {
      "needs_background": "light"
     },
     "output_type": "display_data"
    },
    {
     "data": {
      "image/png": "[encoded data removed]",
      "text/plain": [
       "<Figure size 432x288 with 1 Axes>"
      ]
     },
     "metadata": {
      "needs_background": "light"
     },
     "output_type": "display_data"
    }
   ],
   "source": [
    "for l1_penalty in [0.0001, 0.01, 0.1, 10]:\n",
    "    model = polynomial_lasso_regression(data, deg=16, l1_penalty=l1_penalty)\n",
    "    print 'l1_penalty = %e' % l1_penalty\n",
    "    print 'number of nonzeros = %d' % (model.coefficients['value']).nnz()\n",
    "    print_coefficients(model)\n",
    "    print '\\n'\n",
    "    plt.figure()\n",
    "    plot_poly_predictions(data,model)\n",
    "    plt.title('LASSO, lambda = %.2e, # nonzeros = %d' % (l1_penalty, (model.coefficients['value']).nnz()))"
   ]
  },
  {
   "cell_type": "markdown",
   "metadata": {
    "collapsed": true
   },
   "source": [
    "Above: We see that as lambda increases, we get sparser and sparser solutions.  However, even for our non-sparse case for lambda=0.0001, the fit of our high-order polynomial is not too wild.  This is because, like in ridge, coefficients included in the lasso solution are shrunk relative to those of the least squares (unregularized) solution.  This leads to better behavior even without sparsity.  Of course, as lambda goes to 0, the amount of this shrinkage decreases and the lasso solution approaches the (wild) least squares solution."
   ]
  },
  {
   "cell_type": "code",
   "execution_count": null,
   "metadata": {},
   "outputs": [],
   "source": []
  },
  {
   "cell_type": "code",
   "execution_count": null,
   "metadata": {},
   "outputs": [],
   "source": []
  }
 ],
 "metadata": {
  "kernelspec": {
   "display_name": "Python 3",
   "language": "python",
   "name": "python3"
  },
  "language_info": {
   "codemirror_mode": {
    "name": "ipython",
    "version": 3
   },
   "file_extension": ".py",
   "mimetype": "text/x-python",
   "name": "python",
   "nbconvert_exporter": "python",
   "pygments_lexer": "ipython3",
   "version": "3.8.3"
  }
 },
 "nbformat": 4,
 "nbformat_minor": 1
}
