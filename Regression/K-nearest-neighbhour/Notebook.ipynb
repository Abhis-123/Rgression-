{
 "cells": [
  {
   "cell_type": "code",
   "execution_count": 1,
   "metadata": {},
   "outputs": [],
   "source": [
    "dtype_dict = {'bathrooms':float, 'waterfront':int, 'sqft_above':int, 'sqft_living15':float, 'grade':int, 'yr_renovated':int, 'price':float, 'bedrooms':float, 'zipcode':int, 'long':float, 'sqft_lot15':float, 'sqft_living':float, 'floors':float, 'condition':int, 'lat':float, 'date':str, 'sqft_basement':int, 'yr_built':int, 'id':str, 'sqft_lot':int, 'view':int}"
   ]
  },
  {
   "cell_type": "code",
   "execution_count": 2,
   "metadata": {},
   "outputs": [],
   "source": [
    "import pandas as pd\n",
    "import numpy as np\n",
    "from sklearn import linear_model\n",
    "import matplotlib.pyplot as plt\n"
   ]
  },
  {
   "cell_type": "code",
   "execution_count": 3,
   "metadata": {},
   "outputs": [
    {
     "data": {
      "text/html": [
       "<div>\n",
       "<style scoped>\n",
       "    .dataframe tbody tr th:only-of-type {\n",
       "        vertical-align: middle;\n",
       "    }\n",
       "\n",
       "    .dataframe tbody tr th {\n",
       "        vertical-align: top;\n",
       "    }\n",
       "\n",
       "    .dataframe thead th {\n",
       "        text-align: right;\n",
       "    }\n",
       "</style>\n",
       "<table border=\"1\" class=\"dataframe\">\n",
       "  <thead>\n",
       "    <tr style=\"text-align: right;\">\n",
       "      <th></th>\n",
       "      <th>id</th>\n",
       "      <th>date</th>\n",
       "      <th>price</th>\n",
       "      <th>bedrooms</th>\n",
       "      <th>bathrooms</th>\n",
       "      <th>sqft_living</th>\n",
       "      <th>sqft_lot</th>\n",
       "      <th>floors</th>\n",
       "      <th>waterfront</th>\n",
       "      <th>view</th>\n",
       "      <th>...</th>\n",
       "      <th>grade</th>\n",
       "      <th>sqft_above</th>\n",
       "      <th>sqft_basement</th>\n",
       "      <th>yr_built</th>\n",
       "      <th>yr_renovated</th>\n",
       "      <th>zipcode</th>\n",
       "      <th>lat</th>\n",
       "      <th>long</th>\n",
       "      <th>sqft_living15</th>\n",
       "      <th>sqft_lot15</th>\n",
       "    </tr>\n",
       "  </thead>\n",
       "  <tbody>\n",
       "    <tr>\n",
       "      <th>0</th>\n",
       "      <td>7129300520</td>\n",
       "      <td>20141013T000000</td>\n",
       "      <td>221900.0</td>\n",
       "      <td>3.0</td>\n",
       "      <td>1.00</td>\n",
       "      <td>1180.0</td>\n",
       "      <td>5650</td>\n",
       "      <td>1.0</td>\n",
       "      <td>0</td>\n",
       "      <td>0</td>\n",
       "      <td>...</td>\n",
       "      <td>7</td>\n",
       "      <td>1180</td>\n",
       "      <td>0</td>\n",
       "      <td>1955</td>\n",
       "      <td>0</td>\n",
       "      <td>98178</td>\n",
       "      <td>47.5112</td>\n",
       "      <td>-122.257</td>\n",
       "      <td>1340.0</td>\n",
       "      <td>5650.0</td>\n",
       "    </tr>\n",
       "    <tr>\n",
       "      <th>1</th>\n",
       "      <td>6414100192</td>\n",
       "      <td>20141209T000000</td>\n",
       "      <td>538000.0</td>\n",
       "      <td>3.0</td>\n",
       "      <td>2.25</td>\n",
       "      <td>2570.0</td>\n",
       "      <td>7242</td>\n",
       "      <td>2.0</td>\n",
       "      <td>0</td>\n",
       "      <td>0</td>\n",
       "      <td>...</td>\n",
       "      <td>7</td>\n",
       "      <td>2170</td>\n",
       "      <td>400</td>\n",
       "      <td>1951</td>\n",
       "      <td>1991</td>\n",
       "      <td>98125</td>\n",
       "      <td>47.7210</td>\n",
       "      <td>-122.319</td>\n",
       "      <td>1690.0</td>\n",
       "      <td>7639.0</td>\n",
       "    </tr>\n",
       "    <tr>\n",
       "      <th>2</th>\n",
       "      <td>5631500400</td>\n",
       "      <td>20150225T000000</td>\n",
       "      <td>180000.0</td>\n",
       "      <td>2.0</td>\n",
       "      <td>1.00</td>\n",
       "      <td>770.0</td>\n",
       "      <td>10000</td>\n",
       "      <td>1.0</td>\n",
       "      <td>0</td>\n",
       "      <td>0</td>\n",
       "      <td>...</td>\n",
       "      <td>6</td>\n",
       "      <td>770</td>\n",
       "      <td>0</td>\n",
       "      <td>1933</td>\n",
       "      <td>0</td>\n",
       "      <td>98028</td>\n",
       "      <td>47.7379</td>\n",
       "      <td>-122.233</td>\n",
       "      <td>2720.0</td>\n",
       "      <td>8062.0</td>\n",
       "    </tr>\n",
       "    <tr>\n",
       "      <th>3</th>\n",
       "      <td>2487200875</td>\n",
       "      <td>20141209T000000</td>\n",
       "      <td>604000.0</td>\n",
       "      <td>4.0</td>\n",
       "      <td>3.00</td>\n",
       "      <td>1960.0</td>\n",
       "      <td>5000</td>\n",
       "      <td>1.0</td>\n",
       "      <td>0</td>\n",
       "      <td>0</td>\n",
       "      <td>...</td>\n",
       "      <td>7</td>\n",
       "      <td>1050</td>\n",
       "      <td>910</td>\n",
       "      <td>1965</td>\n",
       "      <td>0</td>\n",
       "      <td>98136</td>\n",
       "      <td>47.5208</td>\n",
       "      <td>-122.393</td>\n",
       "      <td>1360.0</td>\n",
       "      <td>5000.0</td>\n",
       "    </tr>\n",
       "    <tr>\n",
       "      <th>4</th>\n",
       "      <td>1954400510</td>\n",
       "      <td>20150218T000000</td>\n",
       "      <td>510000.0</td>\n",
       "      <td>3.0</td>\n",
       "      <td>2.00</td>\n",
       "      <td>1680.0</td>\n",
       "      <td>8080</td>\n",
       "      <td>1.0</td>\n",
       "      <td>0</td>\n",
       "      <td>0</td>\n",
       "      <td>...</td>\n",
       "      <td>8</td>\n",
       "      <td>1680</td>\n",
       "      <td>0</td>\n",
       "      <td>1987</td>\n",
       "      <td>0</td>\n",
       "      <td>98074</td>\n",
       "      <td>47.6168</td>\n",
       "      <td>-122.045</td>\n",
       "      <td>1800.0</td>\n",
       "      <td>7503.0</td>\n",
       "    </tr>\n",
       "  </tbody>\n",
       "</table>\n",
       "<p>5 rows × 21 columns</p>\n",
       "</div>"
      ],
      "text/plain": [
       "           id             date     price  bedrooms  bathrooms  sqft_living  \\\n",
       "0  7129300520  20141013T000000  221900.0       3.0       1.00       1180.0   \n",
       "1  6414100192  20141209T000000  538000.0       3.0       2.25       2570.0   \n",
       "2  5631500400  20150225T000000  180000.0       2.0       1.00        770.0   \n",
       "3  2487200875  20141209T000000  604000.0       4.0       3.00       1960.0   \n",
       "4  1954400510  20150218T000000  510000.0       3.0       2.00       1680.0   \n",
       "\n",
       "   sqft_lot  floors  waterfront  view  ...  grade  sqft_above  sqft_basement  \\\n",
       "0      5650     1.0           0     0  ...      7        1180              0   \n",
       "1      7242     2.0           0     0  ...      7        2170            400   \n",
       "2     10000     1.0           0     0  ...      6         770              0   \n",
       "3      5000     1.0           0     0  ...      7        1050            910   \n",
       "4      8080     1.0           0     0  ...      8        1680              0   \n",
       "\n",
       "   yr_built  yr_renovated  zipcode      lat     long  sqft_living15  \\\n",
       "0      1955             0    98178  47.5112 -122.257         1340.0   \n",
       "1      1951          1991    98125  47.7210 -122.319         1690.0   \n",
       "2      1933             0    98028  47.7379 -122.233         2720.0   \n",
       "3      1965             0    98136  47.5208 -122.393         1360.0   \n",
       "4      1987             0    98074  47.6168 -122.045         1800.0   \n",
       "\n",
       "   sqft_lot15  \n",
       "0      5650.0  \n",
       "1      7639.0  \n",
       "2      8062.0  \n",
       "3      5000.0  \n",
       "4      7503.0  \n",
       "\n",
       "[5 rows x 21 columns]"
      ]
     },
     "execution_count": 3,
     "metadata": {},
     "output_type": "execute_result"
    }
   ],
   "source": [
    "sales = pd.read_csv('kc_house_data_small.csv', dtype= dtype_dict)\n",
    "sales = pd.DataFrame(sales)\n",
    "#sales.sort_values(['sqft_living', 'price'], inplace = True)\n",
    "sales.head()"
   ]
  },
  {
   "cell_type": "code",
   "execution_count": 4,
   "metadata": {},
   "outputs": [
    {
     "name": "stdout",
     "output_type": "stream",
     "text": [
      "           id             date     price  bedrooms  bathrooms  sqft_living  \\\n",
      "0  7129300520  20141013T000000  221900.0       3.0       1.00       1180.0   \n",
      "1  6414100192  20141209T000000  538000.0       3.0       2.25       2570.0   \n",
      "2  5631500400  20150225T000000  180000.0       2.0       1.00        770.0   \n",
      "3  2487200875  20141209T000000  604000.0       4.0       3.00       1960.0   \n",
      "4  1954400510  20150218T000000  510000.0       3.0       2.00       1680.0   \n",
      "\n",
      "   sqft_lot  floors  waterfront  view  ...  grade  sqft_above  sqft_basement  \\\n",
      "0      5650     1.0           0     0  ...      7        1180              0   \n",
      "1      7242     2.0           0     0  ...      7        2170            400   \n",
      "2     10000     1.0           0     0  ...      6         770              0   \n",
      "3      5000     1.0           0     0  ...      7        1050            910   \n",
      "4      8080     1.0           0     0  ...      8        1680              0   \n",
      "\n",
      "   yr_built  yr_renovated  zipcode      lat     long  sqft_living15  \\\n",
      "0      1955             0    98178  47.5112 -122.257         1340.0   \n",
      "1      1951          1991    98125  47.7210 -122.319         1690.0   \n",
      "2      1933             0    98028  47.7379 -122.233         2720.0   \n",
      "3      1965             0    98136  47.5208 -122.393         1360.0   \n",
      "4      1987             0    98074  47.6168 -122.045         1800.0   \n",
      "\n",
      "   sqft_lot15  \n",
      "0      5650.0  \n",
      "1      7639.0  \n",
      "2      8062.0  \n",
      "3      5000.0  \n",
      "4      7503.0  \n",
      "\n",
      "[5 rows x 21 columns]\n"
     ]
    }
   ],
   "source": [
    "train = pd.read_csv('kc_house_data_small_train.csv', dtype= dtype_dict)\n",
    "test = pd.read_csv('kc_house_data_small_test.csv', dtype= dtype_dict)\n",
    "validation = pd.read_csv('kc_house_data_validation.csv', dtype= dtype_dict)\n",
    "print(train.head())"
   ]
  },
  {
   "cell_type": "code",
   "execution_count": 5,
   "metadata": {},
   "outputs": [],
   "source": [
    "def get_numpy_data(data_sframe, features, output):\n",
    "    features_matrix = data_sframe[features] \n",
    "    features_matrix['constant'] = 1\n",
    "    features.insert(0, 'constant')\n",
    "    features_matrix = features_matrix[features]\n",
    "    features_matrix = np.array(features_matrix)\n",
    "    output_array = data_sframe[output]\n",
    "    output_array = np.array(output_array)\n",
    "    return(features_matrix, output_array)\n",
    "\n",
    "def normalize_features(features_matrix):\n",
    "    norms = np.linalg.norm(features_matrix, axis=0)\n",
    "    normalized_features = features_matrix / norms\n",
    "    return (normalized_features, norms)"
   ]
  },
  {
   "cell_type": "code",
   "execution_count": 6,
   "metadata": {},
   "outputs": [
    {
     "name": "stdout",
     "output_type": "stream",
     "text": [
      "[ 1.00000e+00  3.00000e+00  1.00000e+00  1.18000e+03  5.65000e+03\n",
      "  1.00000e+00  0.00000e+00  0.00000e+00  7.00000e+00  1.18000e+03\n",
      "  0.00000e+00  1.95500e+03  0.00000e+00  4.75112e+01 -1.22257e+02\n",
      "  1.34000e+03  5.65000e+03]\n"
     ]
    },
    {
     "name": "stderr",
     "output_type": "stream",
     "text": [
      "<ipython-input-5-2142b734f239>:3: SettingWithCopyWarning: \n",
      "A value is trying to be set on a copy of a slice from a DataFrame.\n",
      "Try using .loc[row_indexer,col_indexer] = value instead\n",
      "\n",
      "See the caveats in the documentation: https://pandas.pydata.org/pandas-docs/stable/user_guide/indexing.html#returning-a-view-versus-a-copy\n",
      "  features_matrix['constant'] = 1\n"
     ]
    }
   ],
   "source": [
    "features=['bedrooms','bathrooms','sqft_living','sqft_lot','floors','waterfront','view','grade','sqft_above','sqft_basement','yr_built','yr_renovated','lat','long','sqft_living15','sqft_lot15']\n",
    "output=['price']\n",
    "features_train,train_out=get_numpy_data(train,features,output)\n",
    "print(features_train[0])\n",
    "#features_test,test_out=get_numpy_data(test,features,output)\n",
    "#features_valid,valid_out=get_numpy_data(validation,features,output)\n",
    "features_train,norms = normalize_features(features_train)\n"
   ]
  },
  {
   "cell_type": "code",
   "execution_count": 18,
   "metadata": {},
   "outputs": [
    {
     "data": {
      "text/plain": [
       "['price']"
      ]
     },
     "execution_count": 18,
     "metadata": {},
     "output_type": "execute_result"
    }
   ],
   "source": [
    "output\n",
    "#features_test = features_test / norms\n",
    "#features_valid = features_valid / norms"
   ]
  },
  {
   "cell_type": "code",
   "execution_count": 7,
   "metadata": {},
   "outputs": [
    {
     "name": "stderr",
     "output_type": "stream",
     "text": [
      "<ipython-input-5-2142b734f239>:3: SettingWithCopyWarning: \n",
      "A value is trying to be set on a copy of a slice from a DataFrame.\n",
      "Try using .loc[row_indexer,col_indexer] = value instead\n",
      "\n",
      "See the caveats in the documentation: https://pandas.pydata.org/pandas-docs/stable/user_guide/indexing.html#returning-a-view-versus-a-copy\n",
      "  features_matrix['constant'] = 1\n"
     ]
    }
   ],
   "source": [
    "features=['bedrooms','bathrooms','sqft_living','sqft_lot','floors','waterfront','view','grade','sqft_above','sqft_basement','yr_built','yr_renovated','lat','long','sqft_living15','sqft_lot15']\n",
    "output=['price']\n",
    "features_test,test_out=get_numpy_data(test,features,output)\n",
    "features_test = features_test / norms"
   ]
  },
  {
   "cell_type": "code",
   "execution_count": 8,
   "metadata": {},
   "outputs": [
    {
     "name": "stderr",
     "output_type": "stream",
     "text": [
      "<ipython-input-5-2142b734f239>:3: SettingWithCopyWarning: \n",
      "A value is trying to be set on a copy of a slice from a DataFrame.\n",
      "Try using .loc[row_indexer,col_indexer] = value instead\n",
      "\n",
      "See the caveats in the documentation: https://pandas.pydata.org/pandas-docs/stable/user_guide/indexing.html#returning-a-view-versus-a-copy\n",
      "  features_matrix['constant'] = 1\n"
     ]
    }
   ],
   "source": [
    "features=['bedrooms','bathrooms','sqft_living','sqft_lot','floors','waterfront','view','grade','sqft_above','sqft_basement','yr_built','yr_renovated','lat','long','sqft_living15','sqft_lot15']\n",
    "output=['price']\n",
    "features_valid,valid_out=get_numpy_data(validation,features,output)\n",
    "features_valid = features_valid / norms"
   ]
  },
  {
   "cell_type": "code",
   "execution_count": 9,
   "metadata": {},
   "outputs": [
    {
     "data": {
      "text/plain": [
       "array([[ 0.01345102,  0.01551285,  0.01807473, ..., -0.01346922,\n",
       "         0.01375926,  0.0016225 ],\n",
       "       [ 0.01345102,  0.01551285,  0.00602491, ..., -0.0134657 ,\n",
       "         0.01035159,  0.00174419],\n",
       "       [ 0.01345102,  0.01163464,  0.01054359, ..., -0.01346141,\n",
       "         0.00977293,  0.00252907],\n",
       "       ...,\n",
       "       [ 0.01345102,  0.00775643,  0.01355605, ..., -0.01343598,\n",
       "         0.00797265,  0.00030422],\n",
       "       [ 0.01345102,  0.01551285,  0.02108718, ..., -0.01344908,\n",
       "         0.01832425,  0.00231531],\n",
       "       [ 0.01345102,  0.01163464,  0.01054359, ..., -0.01342817,\n",
       "         0.00848702,  0.00458478]])"
      ]
     },
     "execution_count": 9,
     "metadata": {},
     "output_type": "execute_result"
    }
   ],
   "source": [
    "features_test"
   ]
  },
  {
   "cell_type": "code",
   "execution_count": 10,
   "metadata": {},
   "outputs": [
    {
     "name": "stdout",
     "output_type": "stream",
     "text": [
      "[ 0.00000000e+00 -3.87821276e-03 -1.20498190e-02 -1.05552733e-02\n",
      "  2.08673616e-04 -8.52950206e-03  0.00000000e+00 -5.10236549e-02\n",
      " -3.47633726e-03 -5.50336860e-03 -2.48168183e-02 -1.63756198e-04\n",
      "  0.00000000e+00 -1.70254220e-05  1.29876855e-05 -5.14364795e-03\n",
      "  6.69281453e-04]\n",
      "[ 0.00000000e+00 -3.87821276e-03 -4.51868214e-03 -2.26610387e-03\n",
      "  7.19763456e-04  0.00000000e+00  0.00000000e+00 -5.10236549e-02\n",
      " -3.47633726e-03  1.30705004e-03 -1.45830788e-02 -1.91048898e-04\n",
      "  6.65082271e-02  4.23090220e-05  6.16364736e-06 -2.89330197e-03\n",
      "  1.47606982e-03]\n",
      "[ 0.00000000e+00 -7.75642553e-03 -1.20498190e-02 -1.30002801e-02\n",
      "  1.60518166e-03 -8.52950206e-03  0.00000000e+00 -5.10236549e-02\n",
      " -5.21450589e-03 -8.32384500e-03 -2.48168183e-02 -3.13866046e-04\n",
      "  0.00000000e+00  4.70885840e-05  1.56292487e-05  3.72914476e-03\n",
      "  1.64764925e-03]\n"
     ]
    }
   ],
   "source": [
    "for i in range(0,3):\n",
    "    print(features_train[i]-features_test[0])"
   ]
  },
  {
   "cell_type": "code",
   "execution_count": 11,
   "metadata": {},
   "outputs": [
    {
     "name": "stdout",
     "output_type": "stream",
     "text": [
      "[[ 0.00000000e+00 -3.87821276e-03 -1.20498190e-02 -1.05552733e-02\n",
      "   2.08673616e-04 -8.52950206e-03  0.00000000e+00 -5.10236549e-02\n",
      "  -3.47633726e-03 -5.50336860e-03 -2.48168183e-02 -1.63756198e-04\n",
      "   0.00000000e+00 -1.70254220e-05  1.29876855e-05 -5.14364795e-03\n",
      "   6.69281453e-04]\n",
      " [ 0.00000000e+00 -3.87821276e-03 -4.51868214e-03 -2.26610387e-03\n",
      "   7.19763456e-04  0.00000000e+00  0.00000000e+00 -5.10236549e-02\n",
      "  -3.47633726e-03  1.30705004e-03 -1.45830788e-02 -1.91048898e-04\n",
      "   6.65082271e-02  4.23090220e-05  6.16364736e-06 -2.89330197e-03\n",
      "   1.47606982e-03]\n",
      " [ 0.00000000e+00 -7.75642553e-03 -1.20498190e-02 -1.30002801e-02\n",
      "   1.60518166e-03 -8.52950206e-03  0.00000000e+00 -5.10236549e-02\n",
      "  -5.21450589e-03 -8.32384500e-03 -2.48168183e-02 -3.13866046e-04\n",
      "   0.00000000e+00  4.70885840e-05  1.56292487e-05  3.72914476e-03\n",
      "   1.64764925e-03]]\n"
     ]
    }
   ],
   "source": [
    "print(features_train[0:3] - features_test[0])"
   ]
  },
  {
   "cell_type": "code",
   "execution_count": 12,
   "metadata": {},
   "outputs": [],
   "source": [
    "def distance_in_quries(query1,query2):\n",
    "    distance_vector=query1-query2\n",
    "    dist=np.sqrt(np.sum((distance_vector)**2))\n",
    "    return dist"
   ]
  },
  {
   "cell_type": "code",
   "execution_count": 13,
   "metadata": {},
   "outputs": [
    {
     "data": {
      "text/plain": [
       "0.05921800181500964"
      ]
     },
     "execution_count": 13,
     "metadata": {},
     "output_type": "execute_result"
    }
   ],
   "source": [
    "distance_in_quries(features_test[0],features_train[9])"
   ]
  },
  {
   "cell_type": "code",
   "execution_count": 14,
   "metadata": {},
   "outputs": [
    {
     "name": "stdout",
     "output_type": "stream",
     "text": [
      "disatance-- 0  --  0.06027470916295592\n",
      "disatance-- 1  --  0.08546881147643746\n",
      "disatance-- 2  --  0.06149946435279315\n",
      "disatance-- 3  --  0.05283669851762774\n",
      "disatance-- 4  --  0.05844484060170442\n",
      "disatance-- 5  --  0.059879215098128345\n",
      "disatance-- 6  --  0.0546314049677546\n",
      "disatance-- 7  --  0.055431083236146074\n",
      "disatance-- 8  --  0.0523836278402203\n",
      "disatance-- 9  --  0.05921800181500964\n"
     ]
    }
   ],
   "source": [
    "dist_dict = {}\n",
    "for i in range(10):\n",
    "    d = distance_in_quries(features_test[0],features_train[i])\n",
    "    dist_dict[i] = d\n",
    "    print(\"disatance--\",i,\" -- \",d)\n"
   ]
  },
  {
   "cell_type": "code",
   "execution_count": 53,
   "metadata": {},
   "outputs": [
    {
     "data": {
      "text/html": [
       "<div>\n",
       "<style scoped>\n",
       "    .dataframe tbody tr th:only-of-type {\n",
       "        vertical-align: middle;\n",
       "    }\n",
       "\n",
       "    .dataframe tbody tr th {\n",
       "        vertical-align: top;\n",
       "    }\n",
       "\n",
       "    .dataframe thead th {\n",
       "        text-align: right;\n",
       "    }\n",
       "</style>\n",
       "<table border=\"1\" class=\"dataframe\">\n",
       "  <thead>\n",
       "    <tr style=\"text-align: right;\">\n",
       "      <th></th>\n",
       "      <th>distances</th>\n",
       "      <th>id</th>\n",
       "    </tr>\n",
       "  </thead>\n",
       "  <tbody>\n",
       "    <tr>\n",
       "      <th>3758</th>\n",
       "      <td>0.003877</td>\n",
       "      <td>3758</td>\n",
       "    </tr>\n",
       "    <tr>\n",
       "      <th>3144</th>\n",
       "      <td>0.004555</td>\n",
       "      <td>3144</td>\n",
       "    </tr>\n",
       "    <tr>\n",
       "      <th>4208</th>\n",
       "      <td>0.005307</td>\n",
       "      <td>4208</td>\n",
       "    </tr>\n",
       "    <tr>\n",
       "      <th>5038</th>\n",
       "      <td>0.005967</td>\n",
       "      <td>5038</td>\n",
       "    </tr>\n",
       "    <tr>\n",
       "      <th>1659</th>\n",
       "      <td>0.006328</td>\n",
       "      <td>1659</td>\n",
       "    </tr>\n",
       "    <tr>\n",
       "      <th>4614</th>\n",
       "      <td>0.006974</td>\n",
       "      <td>4614</td>\n",
       "    </tr>\n",
       "    <tr>\n",
       "      <th>1495</th>\n",
       "      <td>0.007878</td>\n",
       "      <td>1495</td>\n",
       "    </tr>\n",
       "    <tr>\n",
       "      <th>1389</th>\n",
       "      <td>0.009419</td>\n",
       "      <td>1389</td>\n",
       "    </tr>\n",
       "    <tr>\n",
       "      <th>4039</th>\n",
       "      <td>0.009477</td>\n",
       "      <td>4039</td>\n",
       "    </tr>\n",
       "    <tr>\n",
       "      <th>523</th>\n",
       "      <td>0.009634</td>\n",
       "      <td>523</td>\n",
       "    </tr>\n",
       "    <tr>\n",
       "      <th>4893</th>\n",
       "      <td>0.009860</td>\n",
       "      <td>4893</td>\n",
       "    </tr>\n",
       "    <tr>\n",
       "      <th>474</th>\n",
       "      <td>0.010149</td>\n",
       "      <td>474</td>\n",
       "    </tr>\n",
       "    <tr>\n",
       "      <th>4460</th>\n",
       "      <td>0.010756</td>\n",
       "      <td>4460</td>\n",
       "    </tr>\n",
       "    <tr>\n",
       "      <th>2458</th>\n",
       "      <td>0.010910</td>\n",
       "      <td>2458</td>\n",
       "    </tr>\n",
       "    <tr>\n",
       "      <th>4695</th>\n",
       "      <td>0.011580</td>\n",
       "      <td>4695</td>\n",
       "    </tr>\n",
       "  </tbody>\n",
       "</table>\n",
       "</div>"
      ],
      "text/plain": [
       "      distances    id\n",
       "3758   0.003877  3758\n",
       "3144   0.004555  3144\n",
       "4208   0.005307  4208\n",
       "5038   0.005967  5038\n",
       "1659   0.006328  1659\n",
       "4614   0.006974  4614\n",
       "1495   0.007878  1495\n",
       "1389   0.009419  1389\n",
       "4039   0.009477  4039\n",
       "523    0.009634   523\n",
       "4893   0.009860  4893\n",
       "474    0.010149   474\n",
       "4460   0.010756  4460\n",
       "2458   0.010910  2458\n",
       "4695   0.011580  4695"
      ]
     },
     "execution_count": 53,
     "metadata": {},
     "output_type": "execute_result"
    }
   ],
   "source": [
    "diff = features_train[::] - features_test[0]\n",
    "neighbors=[]\n",
    "ids=[]\n",
    "i=0\n",
    "for x in diff:\n",
    "    neighbors.append(np.sqrt(np.sum(x**2)))\n",
    "    ids.append(i)\n",
    "    i=i+1\n",
    "\n",
    "neighbors=pd.DataFrame(neighbors,columns=['distances'])\n",
    "neighbors['id']=ids\n",
    "neighbors=neighbors.sort_values(['distances'])\n",
    "neighbors=neighbors[:15]\n",
    "neighbors"
   ]
  },
  {
   "cell_type": "code",
   "execution_count": 54,
   "metadata": {
    "scrolled": true
   },
   "outputs": [
    {
     "data": {
      "text/html": [
       "<div>\n",
       "<style scoped>\n",
       "    .dataframe tbody tr th:only-of-type {\n",
       "        vertical-align: middle;\n",
       "    }\n",
       "\n",
       "    .dataframe tbody tr th {\n",
       "        vertical-align: top;\n",
       "    }\n",
       "\n",
       "    .dataframe thead th {\n",
       "        text-align: right;\n",
       "    }\n",
       "</style>\n",
       "<table border=\"1\" class=\"dataframe\">\n",
       "  <thead>\n",
       "    <tr style=\"text-align: right;\">\n",
       "      <th></th>\n",
       "      <th>distances</th>\n",
       "      <th>id</th>\n",
       "    </tr>\n",
       "  </thead>\n",
       "  <tbody>\n",
       "    <tr>\n",
       "      <th>3758</th>\n",
       "      <td>0.003877</td>\n",
       "      <td>3758</td>\n",
       "    </tr>\n",
       "    <tr>\n",
       "      <th>3144</th>\n",
       "      <td>0.004555</td>\n",
       "      <td>3144</td>\n",
       "    </tr>\n",
       "    <tr>\n",
       "      <th>4208</th>\n",
       "      <td>0.005307</td>\n",
       "      <td>4208</td>\n",
       "    </tr>\n",
       "    <tr>\n",
       "      <th>5038</th>\n",
       "      <td>0.005967</td>\n",
       "      <td>5038</td>\n",
       "    </tr>\n",
       "    <tr>\n",
       "      <th>1659</th>\n",
       "      <td>0.006328</td>\n",
       "      <td>1659</td>\n",
       "    </tr>\n",
       "    <tr>\n",
       "      <th>4614</th>\n",
       "      <td>0.006974</td>\n",
       "      <td>4614</td>\n",
       "    </tr>\n",
       "    <tr>\n",
       "      <th>1495</th>\n",
       "      <td>0.007878</td>\n",
       "      <td>1495</td>\n",
       "    </tr>\n",
       "    <tr>\n",
       "      <th>1389</th>\n",
       "      <td>0.009419</td>\n",
       "      <td>1389</td>\n",
       "    </tr>\n",
       "    <tr>\n",
       "      <th>4039</th>\n",
       "      <td>0.009477</td>\n",
       "      <td>4039</td>\n",
       "    </tr>\n",
       "    <tr>\n",
       "      <th>523</th>\n",
       "      <td>0.009634</td>\n",
       "      <td>523</td>\n",
       "    </tr>\n",
       "    <tr>\n",
       "      <th>4893</th>\n",
       "      <td>0.009860</td>\n",
       "      <td>4893</td>\n",
       "    </tr>\n",
       "    <tr>\n",
       "      <th>474</th>\n",
       "      <td>0.010149</td>\n",
       "      <td>474</td>\n",
       "    </tr>\n",
       "    <tr>\n",
       "      <th>4460</th>\n",
       "      <td>0.010756</td>\n",
       "      <td>4460</td>\n",
       "    </tr>\n",
       "    <tr>\n",
       "      <th>2458</th>\n",
       "      <td>0.010910</td>\n",
       "      <td>2458</td>\n",
       "    </tr>\n",
       "    <tr>\n",
       "      <th>4695</th>\n",
       "      <td>0.011580</td>\n",
       "      <td>4695</td>\n",
       "    </tr>\n",
       "  </tbody>\n",
       "</table>\n",
       "</div>"
      ],
      "text/plain": [
       "      distances    id\n",
       "3758   0.003877  3758\n",
       "3144   0.004555  3144\n",
       "4208   0.005307  4208\n",
       "5038   0.005967  5038\n",
       "1659   0.006328  1659\n",
       "4614   0.006974  4614\n",
       "1495   0.007878  1495\n",
       "1389   0.009419  1389\n",
       "4039   0.009477  4039\n",
       "523    0.009634   523\n",
       "4893   0.009860  4893\n",
       "474    0.010149   474\n",
       "4460   0.010756  4460\n",
       "2458   0.010910  2458\n",
       "4695   0.011580  4695"
      ]
     },
     "execution_count": 54,
     "metadata": {},
     "output_type": "execute_result"
    }
   ],
   "source": [
    "neighbors=[]\n",
    "ids=[]\n",
    "i=0\n",
    "features_query=features_test[0]\n",
    "for x in features_train:\n",
    "    neighbors.append(distance_in_quries(x,features_query))\n",
    "    ids.append(i)\n",
    "    i=i+1\n",
    "\n",
    "neighbors=pd.DataFrame(neighbors,columns=['distances'])\n",
    "neighbors['id']=ids\n",
    "neighbors=neighbors.sort_values(['distances'])\n",
    "neighbors=neighbors[:15]\n",
    "neighbors"
   ]
  },
  {
   "cell_type": "code",
   "execution_count": 55,
   "metadata": {},
   "outputs": [
    {
     "data": {
      "text/plain": [
       "0.0032920250516689053"
      ]
     },
     "execution_count": 55,
     "metadata": {},
     "output_type": "execute_result"
    }
   ],
   "source": [
    "np.sum((diff[15])**2)"
   ]
  },
  {
   "cell_type": "code",
   "execution_count": 48,
   "metadata": {},
   "outputs": [
    {
     "data": {
      "text/plain": [
       "array([505400.])"
      ]
     },
     "execution_count": 48,
     "metadata": {},
     "output_type": "execute_result"
    }
   ],
   "source": [
    "train_out[4620]"
   ]
  },
  {
   "cell_type": "code",
   "execution_count": 51,
   "metadata": {},
   "outputs": [],
   "source": [
    "def compute_distances(features_instances, features_query):\n",
    "    diff = features_instances - features_query\n",
    "    distances = np.sqrt(np.sum(diff**2, axis = 1))\n",
    "    return distances"
   ]
  },
  {
   "cell_type": "code",
   "execution_count": 56,
   "metadata": {},
   "outputs": [
    {
     "name": "stdout",
     "output_type": "stream",
     "text": [
      "The closest distance is: 0.002113190192868194\n",
      "The house with the closest distance is: 4620\n"
     ]
    }
   ],
   "source": [
    "dis_3idx = compute_distances(features_train, features_test[2])\n",
    "print('The closest distance is:', min(dis_3idx))\n",
    "print('The house with the closest distance is:',np.argmin(dis_3idx))"
   ]
  },
  {
   "cell_type": "code",
   "execution_count": 49,
   "metadata": {},
   "outputs": [],
   "source": [
    "def k_nearest_neighbors(k, feature_train, features_query):\n",
    "    neighbors=[]\n",
    "    ids=[]\n",
    "    i=0\n",
    "    for x in feature_train:\n",
    "        neighbors.append(distance_in_quries(x,features_query))\n",
    "        ids.append(i)\n",
    "        i=i+1\n",
    "    neighbors=pd.DataFrame(neighbors,columns=['distances'])\n",
    "    neighbors['id']=ids\n",
    "    neighbors=neighbors.sort_values(['distances'])\n",
    "    neighbors=neighbors[:k]\n",
    "    \n",
    "    return neighbors\n"
   ]
  },
  {
   "cell_type": "code",
   "execution_count": 50,
   "metadata": {},
   "outputs": [
    {
     "name": "stdout",
     "output_type": "stream",
     "text": [
      "      distances    id\n",
      "4620   0.002113  4620\n",
      "976    0.002237   976\n",
      "1629   0.002270  1629\n",
      "3354   0.002492  3354\n"
     ]
    }
   ],
   "source": [
    "out=k_nearest_neighbors(4,features_train,features_test[2])\n",
    "print(out)"
   ]
  },
  {
   "cell_type": "code",
   "execution_count": 60,
   "metadata": {},
   "outputs": [],
   "source": [
    "\n",
    "def predict_output_of_query(k, features_train, output_train, features_query):\n",
    "    neighbors = k_nearest_neighbors(k, features_train, features_query)\n",
    "    prediction = np.mean(output_train[neighbors['id']])\n",
    "    return prediction\n"
   ]
  },
  {
   "cell_type": "code",
   "execution_count": 61,
   "metadata": {},
   "outputs": [
    {
     "name": "stdout",
     "output_type": "stream",
     "text": [
      "535850.0\n"
     ]
    }
   ],
   "source": [
    "third_house_prediction = predict_output_of_query(4, features_train,train_out, features_test[2])\n",
    "print(third_house_prediction)"
   ]
  },
  {
   "cell_type": "code",
   "execution_count": 65,
   "metadata": {},
   "outputs": [
    {
     "name": "stdout",
     "output_type": "stream",
     "text": [
      "Requirement already satisfied: tqdm in d:\\anaconda3\\lib\\site-packages (4.47.0)\n"
     ]
    }
   ],
   "source": [
    "!pip install tqdm"
   ]
  },
  {
   "cell_type": "code",
   "execution_count": 66,
   "metadata": {},
   "outputs": [],
   "source": [
    "from tqdm import tqdm"
   ]
  },
  {
   "cell_type": "code",
   "execution_count": 67,
   "metadata": {},
   "outputs": [],
   "source": [
    "def predict_output(k, features_train, output_train, features_query):\n",
    "    predictions = [0.]*features_query.shape[0]\n",
    "    for i in tqdm(range(features_query.shape[0])):\n",
    "        predictions[i] = predict_output_of_query(k, features_train, output_train, features_query[i])\n",
    "    predictions = np.array(predictions)\n",
    "    return predictions"
   ]
  },
  {
   "cell_type": "code",
   "execution_count": 68,
   "metadata": {},
   "outputs": [
    {
     "name": "stderr",
     "output_type": "stream",
     "text": [
      "100%|██████████████████████████████████████████████████████████████████████████████| 1741/1741 [01:22<00:00, 21.13it/s]"
     ]
    },
    {
     "name": "stdout",
     "output_type": "stream",
     "text": [
      "6\n"
     ]
    },
    {
     "name": "stderr",
     "output_type": "stream",
     "text": [
      "\n"
     ]
    }
   ],
   "source": [
    "predicted_value = predict_output(10, features_train,train_out,features_test)\n",
    "print(np.argmin(predicted_value[:10]))"
   ]
  },
  {
   "cell_type": "code",
   "execution_count": 74,
   "metadata": {},
   "outputs": [
    {
     "name": "stderr",
     "output_type": "stream",
     "text": [
      "100%|█████████████████████████████████████████████████████████████████| 50000000/50000000 [00:18<00:00, 2674091.76it/s]\n"
     ]
    }
   ],
   "source": [
    "for i in tqdm(range(0,50000000)):\n",
    "    a=i+1\n"
   ]
  },
  {
   "cell_type": "code",
   "execution_count": null,
   "metadata": {},
   "outputs": [],
   "source": [
    "2581419.77\n",
    "2193084\n",
    "3304028"
   ]
  }
 ],
 "metadata": {
  "kernelspec": {
   "display_name": "Python 3",
   "language": "python",
   "name": "python3"
  },
  "language_info": {
   "codemirror_mode": {
    "name": "ipython",
    "version": 3
   },
   "file_extension": ".py",
   "mimetype": "text/x-python",
   "name": "python",
   "nbconvert_exporter": "python",
   "pygments_lexer": "ipython3",
   "version": "3.8.3"
  }
 },
 "nbformat": 4,
 "nbformat_minor": 4
}
